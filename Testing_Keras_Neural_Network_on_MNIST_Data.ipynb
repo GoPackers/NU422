{
  "nbformat": 4,
  "nbformat_minor": 0,
  "metadata": {
    "colab": {
      "name": "Testing Keras Neural Network on MNIST Data",
      "version": "0.3.2",
      "provenance": [],
      "collapsed_sections": [],
      "toc_visible": true,
      "include_colab_link": true
    },
    "kernelspec": {
      "name": "python3",
      "display_name": "Python 3"
    },
    "accelerator": "TPU"
  },
  "cells": [
    {
      "cell_type": "markdown",
      "metadata": {
        "id": "view-in-github",
        "colab_type": "text"
      },
      "source": [
        "<a href=\"https://colab.research.google.com/github/TJConnellyContingentMacro/NU422/blob/master/Testing_Keras_Neural_Network_on_MNIST_Data.ipynb\" target=\"_parent\"><img src=\"https://colab.research.google.com/assets/colab-badge.svg\" alt=\"Open In Colab\"/></a>"
      ]
    },
    {
      "cell_type": "markdown",
      "metadata": {
        "id": "dxoVyhs2iS0y",
        "colab_type": "text"
      },
      "source": [
        "# Neural Networks\n",
        "\n",
        "*   Suppose you are a financial institution evaluating machine learning technologies for optical character recognition. Initial testing is on the MNIST digits. What can you conclude from your benchmark study? Which neural network typology and hyperparameter settings would you recommend as being the most trustworthy?\n",
        "\n",
        "\n"
      ]
    },
    {
      "cell_type": "markdown",
      "metadata": {
        "id": "_Xl7Khzi2A9F",
        "colab_type": "text"
      },
      "source": [
        "## Management Problem"
      ]
    },
    {
      "cell_type": "markdown",
      "metadata": {
        "id": "AZj7COEZ2Gim",
        "colab_type": "text"
      },
      "source": [
        "From a management perspective, the predictive accuracy of models must be weighed against the costs of model development and implementation. Suppose you were the manager of a data science team responsible for implementing models for computer vision (classification of images analogous to the MINST problem). Would you recommend using PCA as a preliminary to machine learning classification? Explain your thinking."
      ]
    },
    {
      "cell_type": "markdown",
      "metadata": {
        "id": "Mjdv1vvAHWsv",
        "colab_type": "text"
      },
      "source": [
        "# Libraries and Ingest"
      ]
    },
    {
      "cell_type": "code",
      "metadata": {
        "id": "0tQ-xKANskoL",
        "colab_type": "code",
        "outputId": "f6deecde-f7f5-4bcd-9045-64add4df5957",
        "colab": {
          "base_uri": "https://localhost:8080/",
          "height": 51
        }
      },
      "source": [
        "import pandas as pd\n",
        "\n",
        "import pandas as pd  # data frame operations  \n",
        "import numpy as np  # arrays and math functions\n",
        "import matplotlib.pyplot as plt  # static plotting\n",
        "%matplotlib inline\n",
        "\n",
        "import seaborn as sns  # pretty plotting, including heat map\n",
        "plt.style.use('fivethirtyeight')\n",
        "\n",
        "from datetime import datetime\n",
        "\n",
        "# correlation heat map setup for seaborn\n",
        "def corr_chart(df_corr):\n",
        "    corr=df_corr.corr()\n",
        "    #screen top half to get a triangle\n",
        "    top = np.zeros_like(corr, dtype=np.bool)\n",
        "    top[np.triu_indices_from(top)] = True\n",
        "    fig=plt.figure()\n",
        "    fig, ax = plt.subplots(figsize=(10,10))\n",
        "    sns.heatmap(corr, mask=top, cmap='coolwarm', \n",
        "        center = 0, square=True, \n",
        "        linewidths=.5, cbar_kws={'shrink':.5}, \n",
        "        annot = True, annot_kws={'size': 9}, fmt = '.3f')           \n",
        "    plt.xticks(rotation=45) # rotate variable labels on columns (x axis)\n",
        "    plt.yticks(rotation=0) # use horizontal variable labels on rows (y axis)\n",
        "    plt.title('Correlation Heat Map')   \n",
        "    plt.savefig('plot-corr-map.png', \n",
        "        bbox_inches = 'tight', dpi=None, facecolor='w', edgecolor='b', \n",
        "        orientation='portrait', papertype=None, format=None, \n",
        "        transparent=True, pad_inches=0.25, frameon=None)      \n",
        "\n",
        "np.set_printoptions(precision=3)\n",
        "\n",
        "\n",
        "from sklearn.preprocessing import OrdinalEncoder\n",
        "\n",
        "from sklearn.preprocessing import StandardScaler\n",
        "from sklearn.preprocessing import MinMaxScaler\n",
        "\n",
        "# BernoulliNB is designed for binary/boolean features\n",
        "from sklearn.naive_bayes import GaussianNB\n",
        "from sklearn.linear_model import LogisticRegression\n",
        "from sklearn.linear_model import LinearRegression\n",
        "\n",
        "from sklearn.metrics import roc_auc_score   \n",
        "from sklearn.metrics import accuracy_score\n",
        "from sklearn.model_selection import KFold\n",
        "from sklearn import linear_model\n",
        "from sklearn.model_selection import train_test_split\n",
        "from sklearn import metrics\n",
        "from sklearn.linear_model import Ridge\n",
        "from sklearn.linear_model import Lasso, LassoCV\n",
        "from sklearn.linear_model import SGDRegressor\n",
        "from sklearn.tree import DecisionTreeClassifier\n",
        "from sklearn.tree import DecisionTreeRegressor\n",
        "from sklearn.ensemble import RandomForestClassifier\n",
        "from sklearn.decomposition import PCA\n",
        "\n",
        "from sklearn.ensemble import BaggingClassifier\n",
        "from sklearn.tree import export_graphviz\n",
        "\n",
        "\n",
        "from yellowbrick.classifier import ConfusionMatrix\n",
        "from yellowbrick.classifier import ClassificationReport\n",
        "from yellowbrick.regressor import ManualAlphaSelection\n",
        "from yellowbrick.regressor import AlphaSelection, PredictionError, ResidualsPlot\n",
        "\n",
        "from sklearn.pipeline import Pipeline\n",
        "\n",
        "\n",
        "\n",
        "from sklearn.preprocessing import PolynomialFeatures\n",
        "poly_features = PolynomialFeatures(degree=2, include_bias=False)\n",
        "\n",
        "from tensorflow import keras\n",
        "from keras.datasets import mnist\n",
        "from keras.models import Sequential, load_model\n",
        "from keras.layers.core import Dense, Dropout, Activation\n",
        "from keras.utils import np_utils\n",
        "\n",
        "\n",
        "\n",
        "\n",
        "import warnings\n",
        "warnings.filterwarnings(\"ignore\")\n",
        "\n",
        "# import base packages into the namespace for this program\n",
        "import numpy as np\n",
        "import pandas as pd\n",
        "\n",
        "import os\n",
        "\n",
        "PROJECT_ROOT_DIR = \"\"\n",
        "CHAPTER_ID = \"\"\n",
        "\n",
        "def save_fig(fig_id, tight_layout=True):\n",
        "    path = os.path.join(PROJECT_ROOT_DIR, \"\", fig_id + \".png\")\n",
        "    print(\"Saving figure\", fig_id)\n",
        "    if tight_layout:\n",
        "        plt.tight_layout()\n",
        "    plt.savefig(path, format='png', dpi=300)\n",
        "    \n",
        "def image_path(fig_id):\n",
        "    return os.path.join(PROJECT_ROOT_DIR, \"\", CHAPTER_ID, fig_id)\n",
        "\n",
        "print(\"All Packages and a Correlation Chart function loaded.  WARNING - this was created in April, 2019 and warnings were supressed.\")"
      ],
      "execution_count": 2,
      "outputs": [
        {
          "output_type": "stream",
          "text": [
            "All Packages and a Correlation Chart function loaded.  WARNING - this was created in April, 2019 and warnings were supressed.\n"
          ],
          "name": "stdout"
        },
        {
          "output_type": "stream",
          "text": [
            "Using TensorFlow backend.\n"
          ],
          "name": "stderr"
        }
      ]
    },
    {
      "cell_type": "code",
      "metadata": {
        "id": "hI0fiMRmmEUE",
        "colab_type": "code",
        "colab": {}
      },
      "source": [
        ""
      ],
      "execution_count": 0,
      "outputs": []
    },
    {
      "cell_type": "code",
      "metadata": {
        "id": "HRPRtxC5-9ZW",
        "colab_type": "code",
        "colab": {}
      },
      "source": [
        "train = pd.read_csv('s3://terrenceconnelly/DigitRecog_train.csv')\n",
        "test = pd.read_csv('s3://terrenceconnelly/DigitRecog_test.csv')"
      ],
      "execution_count": 0,
      "outputs": []
    },
    {
      "cell_type": "markdown",
      "metadata": {
        "id": "zaC6EaJnHfsP",
        "colab_type": "text"
      },
      "source": [
        "# EDA"
      ]
    },
    {
      "cell_type": "code",
      "metadata": {
        "id": "wCGTzsHqA8_Y",
        "colab_type": "code",
        "outputId": "66e9e841-a7c9-41e8-c8ef-48e36f4d4607",
        "colab": {
          "base_uri": "https://localhost:8080/",
          "height": 346
        }
      },
      "source": [
        "train.describe()"
      ],
      "execution_count": 4,
      "outputs": [
        {
          "output_type": "execute_result",
          "data": {
            "text/html": [
              "<div>\n",
              "<style scoped>\n",
              "    .dataframe tbody tr th:only-of-type {\n",
              "        vertical-align: middle;\n",
              "    }\n",
              "\n",
              "    .dataframe tbody tr th {\n",
              "        vertical-align: top;\n",
              "    }\n",
              "\n",
              "    .dataframe thead th {\n",
              "        text-align: right;\n",
              "    }\n",
              "</style>\n",
              "<table border=\"1\" class=\"dataframe\">\n",
              "  <thead>\n",
              "    <tr style=\"text-align: right;\">\n",
              "      <th></th>\n",
              "      <th>label</th>\n",
              "      <th>pixel0</th>\n",
              "      <th>pixel1</th>\n",
              "      <th>pixel2</th>\n",
              "      <th>pixel3</th>\n",
              "      <th>pixel4</th>\n",
              "      <th>pixel5</th>\n",
              "      <th>pixel6</th>\n",
              "      <th>pixel7</th>\n",
              "      <th>pixel8</th>\n",
              "      <th>...</th>\n",
              "      <th>pixel774</th>\n",
              "      <th>pixel775</th>\n",
              "      <th>pixel776</th>\n",
              "      <th>pixel777</th>\n",
              "      <th>pixel778</th>\n",
              "      <th>pixel779</th>\n",
              "      <th>pixel780</th>\n",
              "      <th>pixel781</th>\n",
              "      <th>pixel782</th>\n",
              "      <th>pixel783</th>\n",
              "    </tr>\n",
              "  </thead>\n",
              "  <tbody>\n",
              "    <tr>\n",
              "      <th>count</th>\n",
              "      <td>42000.000000</td>\n",
              "      <td>42000.0</td>\n",
              "      <td>42000.0</td>\n",
              "      <td>42000.0</td>\n",
              "      <td>42000.0</td>\n",
              "      <td>42000.0</td>\n",
              "      <td>42000.0</td>\n",
              "      <td>42000.0</td>\n",
              "      <td>42000.0</td>\n",
              "      <td>42000.0</td>\n",
              "      <td>...</td>\n",
              "      <td>42000.000000</td>\n",
              "      <td>42000.000000</td>\n",
              "      <td>42000.000000</td>\n",
              "      <td>42000.00000</td>\n",
              "      <td>42000.000000</td>\n",
              "      <td>42000.000000</td>\n",
              "      <td>42000.0</td>\n",
              "      <td>42000.0</td>\n",
              "      <td>42000.0</td>\n",
              "      <td>42000.0</td>\n",
              "    </tr>\n",
              "    <tr>\n",
              "      <th>mean</th>\n",
              "      <td>4.456643</td>\n",
              "      <td>0.0</td>\n",
              "      <td>0.0</td>\n",
              "      <td>0.0</td>\n",
              "      <td>0.0</td>\n",
              "      <td>0.0</td>\n",
              "      <td>0.0</td>\n",
              "      <td>0.0</td>\n",
              "      <td>0.0</td>\n",
              "      <td>0.0</td>\n",
              "      <td>...</td>\n",
              "      <td>0.219286</td>\n",
              "      <td>0.117095</td>\n",
              "      <td>0.059024</td>\n",
              "      <td>0.02019</td>\n",
              "      <td>0.017238</td>\n",
              "      <td>0.002857</td>\n",
              "      <td>0.0</td>\n",
              "      <td>0.0</td>\n",
              "      <td>0.0</td>\n",
              "      <td>0.0</td>\n",
              "    </tr>\n",
              "    <tr>\n",
              "      <th>std</th>\n",
              "      <td>2.887730</td>\n",
              "      <td>0.0</td>\n",
              "      <td>0.0</td>\n",
              "      <td>0.0</td>\n",
              "      <td>0.0</td>\n",
              "      <td>0.0</td>\n",
              "      <td>0.0</td>\n",
              "      <td>0.0</td>\n",
              "      <td>0.0</td>\n",
              "      <td>0.0</td>\n",
              "      <td>...</td>\n",
              "      <td>6.312890</td>\n",
              "      <td>4.633819</td>\n",
              "      <td>3.274488</td>\n",
              "      <td>1.75987</td>\n",
              "      <td>1.894498</td>\n",
              "      <td>0.414264</td>\n",
              "      <td>0.0</td>\n",
              "      <td>0.0</td>\n",
              "      <td>0.0</td>\n",
              "      <td>0.0</td>\n",
              "    </tr>\n",
              "    <tr>\n",
              "      <th>min</th>\n",
              "      <td>0.000000</td>\n",
              "      <td>0.0</td>\n",
              "      <td>0.0</td>\n",
              "      <td>0.0</td>\n",
              "      <td>0.0</td>\n",
              "      <td>0.0</td>\n",
              "      <td>0.0</td>\n",
              "      <td>0.0</td>\n",
              "      <td>0.0</td>\n",
              "      <td>0.0</td>\n",
              "      <td>...</td>\n",
              "      <td>0.000000</td>\n",
              "      <td>0.000000</td>\n",
              "      <td>0.000000</td>\n",
              "      <td>0.00000</td>\n",
              "      <td>0.000000</td>\n",
              "      <td>0.000000</td>\n",
              "      <td>0.0</td>\n",
              "      <td>0.0</td>\n",
              "      <td>0.0</td>\n",
              "      <td>0.0</td>\n",
              "    </tr>\n",
              "    <tr>\n",
              "      <th>25%</th>\n",
              "      <td>2.000000</td>\n",
              "      <td>0.0</td>\n",
              "      <td>0.0</td>\n",
              "      <td>0.0</td>\n",
              "      <td>0.0</td>\n",
              "      <td>0.0</td>\n",
              "      <td>0.0</td>\n",
              "      <td>0.0</td>\n",
              "      <td>0.0</td>\n",
              "      <td>0.0</td>\n",
              "      <td>...</td>\n",
              "      <td>0.000000</td>\n",
              "      <td>0.000000</td>\n",
              "      <td>0.000000</td>\n",
              "      <td>0.00000</td>\n",
              "      <td>0.000000</td>\n",
              "      <td>0.000000</td>\n",
              "      <td>0.0</td>\n",
              "      <td>0.0</td>\n",
              "      <td>0.0</td>\n",
              "      <td>0.0</td>\n",
              "    </tr>\n",
              "    <tr>\n",
              "      <th>50%</th>\n",
              "      <td>4.000000</td>\n",
              "      <td>0.0</td>\n",
              "      <td>0.0</td>\n",
              "      <td>0.0</td>\n",
              "      <td>0.0</td>\n",
              "      <td>0.0</td>\n",
              "      <td>0.0</td>\n",
              "      <td>0.0</td>\n",
              "      <td>0.0</td>\n",
              "      <td>0.0</td>\n",
              "      <td>...</td>\n",
              "      <td>0.000000</td>\n",
              "      <td>0.000000</td>\n",
              "      <td>0.000000</td>\n",
              "      <td>0.00000</td>\n",
              "      <td>0.000000</td>\n",
              "      <td>0.000000</td>\n",
              "      <td>0.0</td>\n",
              "      <td>0.0</td>\n",
              "      <td>0.0</td>\n",
              "      <td>0.0</td>\n",
              "    </tr>\n",
              "    <tr>\n",
              "      <th>75%</th>\n",
              "      <td>7.000000</td>\n",
              "      <td>0.0</td>\n",
              "      <td>0.0</td>\n",
              "      <td>0.0</td>\n",
              "      <td>0.0</td>\n",
              "      <td>0.0</td>\n",
              "      <td>0.0</td>\n",
              "      <td>0.0</td>\n",
              "      <td>0.0</td>\n",
              "      <td>0.0</td>\n",
              "      <td>...</td>\n",
              "      <td>0.000000</td>\n",
              "      <td>0.000000</td>\n",
              "      <td>0.000000</td>\n",
              "      <td>0.00000</td>\n",
              "      <td>0.000000</td>\n",
              "      <td>0.000000</td>\n",
              "      <td>0.0</td>\n",
              "      <td>0.0</td>\n",
              "      <td>0.0</td>\n",
              "      <td>0.0</td>\n",
              "    </tr>\n",
              "    <tr>\n",
              "      <th>max</th>\n",
              "      <td>9.000000</td>\n",
              "      <td>0.0</td>\n",
              "      <td>0.0</td>\n",
              "      <td>0.0</td>\n",
              "      <td>0.0</td>\n",
              "      <td>0.0</td>\n",
              "      <td>0.0</td>\n",
              "      <td>0.0</td>\n",
              "      <td>0.0</td>\n",
              "      <td>0.0</td>\n",
              "      <td>...</td>\n",
              "      <td>254.000000</td>\n",
              "      <td>254.000000</td>\n",
              "      <td>253.000000</td>\n",
              "      <td>253.00000</td>\n",
              "      <td>254.000000</td>\n",
              "      <td>62.000000</td>\n",
              "      <td>0.0</td>\n",
              "      <td>0.0</td>\n",
              "      <td>0.0</td>\n",
              "      <td>0.0</td>\n",
              "    </tr>\n",
              "  </tbody>\n",
              "</table>\n",
              "<p>8 rows × 785 columns</p>\n",
              "</div>"
            ],
            "text/plain": [
              "              label   pixel0   pixel1   pixel2   pixel3   pixel4   pixel5  \\\n",
              "count  42000.000000  42000.0  42000.0  42000.0  42000.0  42000.0  42000.0   \n",
              "mean       4.456643      0.0      0.0      0.0      0.0      0.0      0.0   \n",
              "std        2.887730      0.0      0.0      0.0      0.0      0.0      0.0   \n",
              "min        0.000000      0.0      0.0      0.0      0.0      0.0      0.0   \n",
              "25%        2.000000      0.0      0.0      0.0      0.0      0.0      0.0   \n",
              "50%        4.000000      0.0      0.0      0.0      0.0      0.0      0.0   \n",
              "75%        7.000000      0.0      0.0      0.0      0.0      0.0      0.0   \n",
              "max        9.000000      0.0      0.0      0.0      0.0      0.0      0.0   \n",
              "\n",
              "        pixel6   pixel7   pixel8  ...      pixel774      pixel775  \\\n",
              "count  42000.0  42000.0  42000.0  ...  42000.000000  42000.000000   \n",
              "mean       0.0      0.0      0.0  ...      0.219286      0.117095   \n",
              "std        0.0      0.0      0.0  ...      6.312890      4.633819   \n",
              "min        0.0      0.0      0.0  ...      0.000000      0.000000   \n",
              "25%        0.0      0.0      0.0  ...      0.000000      0.000000   \n",
              "50%        0.0      0.0      0.0  ...      0.000000      0.000000   \n",
              "75%        0.0      0.0      0.0  ...      0.000000      0.000000   \n",
              "max        0.0      0.0      0.0  ...    254.000000    254.000000   \n",
              "\n",
              "           pixel776     pixel777      pixel778      pixel779  pixel780  \\\n",
              "count  42000.000000  42000.00000  42000.000000  42000.000000   42000.0   \n",
              "mean       0.059024      0.02019      0.017238      0.002857       0.0   \n",
              "std        3.274488      1.75987      1.894498      0.414264       0.0   \n",
              "min        0.000000      0.00000      0.000000      0.000000       0.0   \n",
              "25%        0.000000      0.00000      0.000000      0.000000       0.0   \n",
              "50%        0.000000      0.00000      0.000000      0.000000       0.0   \n",
              "75%        0.000000      0.00000      0.000000      0.000000       0.0   \n",
              "max      253.000000    253.00000    254.000000     62.000000       0.0   \n",
              "\n",
              "       pixel781  pixel782  pixel783  \n",
              "count   42000.0   42000.0   42000.0  \n",
              "mean        0.0       0.0       0.0  \n",
              "std         0.0       0.0       0.0  \n",
              "min         0.0       0.0       0.0  \n",
              "25%         0.0       0.0       0.0  \n",
              "50%         0.0       0.0       0.0  \n",
              "75%         0.0       0.0       0.0  \n",
              "max         0.0       0.0       0.0  \n",
              "\n",
              "[8 rows x 785 columns]"
            ]
          },
          "metadata": {
            "tags": []
          },
          "execution_count": 4
        }
      ]
    },
    {
      "cell_type": "code",
      "metadata": {
        "id": "S5zGbtx2Ojon",
        "colab_type": "code",
        "outputId": "b47ce6c5-92c8-4d93-b763-44a248e44b42",
        "colab": {
          "base_uri": "https://localhost:8080/",
          "height": 346
        }
      },
      "source": [
        "test.describe()"
      ],
      "execution_count": 5,
      "outputs": [
        {
          "output_type": "execute_result",
          "data": {
            "text/html": [
              "<div>\n",
              "<style scoped>\n",
              "    .dataframe tbody tr th:only-of-type {\n",
              "        vertical-align: middle;\n",
              "    }\n",
              "\n",
              "    .dataframe tbody tr th {\n",
              "        vertical-align: top;\n",
              "    }\n",
              "\n",
              "    .dataframe thead th {\n",
              "        text-align: right;\n",
              "    }\n",
              "</style>\n",
              "<table border=\"1\" class=\"dataframe\">\n",
              "  <thead>\n",
              "    <tr style=\"text-align: right;\">\n",
              "      <th></th>\n",
              "      <th>pixel0</th>\n",
              "      <th>pixel1</th>\n",
              "      <th>pixel2</th>\n",
              "      <th>pixel3</th>\n",
              "      <th>pixel4</th>\n",
              "      <th>pixel5</th>\n",
              "      <th>pixel6</th>\n",
              "      <th>pixel7</th>\n",
              "      <th>pixel8</th>\n",
              "      <th>pixel9</th>\n",
              "      <th>...</th>\n",
              "      <th>pixel774</th>\n",
              "      <th>pixel775</th>\n",
              "      <th>pixel776</th>\n",
              "      <th>pixel777</th>\n",
              "      <th>pixel778</th>\n",
              "      <th>pixel779</th>\n",
              "      <th>pixel780</th>\n",
              "      <th>pixel781</th>\n",
              "      <th>pixel782</th>\n",
              "      <th>pixel783</th>\n",
              "    </tr>\n",
              "  </thead>\n",
              "  <tbody>\n",
              "    <tr>\n",
              "      <th>count</th>\n",
              "      <td>28000.0</td>\n",
              "      <td>28000.0</td>\n",
              "      <td>28000.0</td>\n",
              "      <td>28000.0</td>\n",
              "      <td>28000.0</td>\n",
              "      <td>28000.0</td>\n",
              "      <td>28000.0</td>\n",
              "      <td>28000.0</td>\n",
              "      <td>28000.0</td>\n",
              "      <td>28000.0</td>\n",
              "      <td>...</td>\n",
              "      <td>28000.000000</td>\n",
              "      <td>28000.000000</td>\n",
              "      <td>28000.000000</td>\n",
              "      <td>28000.000000</td>\n",
              "      <td>28000.000000</td>\n",
              "      <td>28000.0</td>\n",
              "      <td>28000.0</td>\n",
              "      <td>28000.0</td>\n",
              "      <td>28000.0</td>\n",
              "      <td>28000.0</td>\n",
              "    </tr>\n",
              "    <tr>\n",
              "      <th>mean</th>\n",
              "      <td>0.0</td>\n",
              "      <td>0.0</td>\n",
              "      <td>0.0</td>\n",
              "      <td>0.0</td>\n",
              "      <td>0.0</td>\n",
              "      <td>0.0</td>\n",
              "      <td>0.0</td>\n",
              "      <td>0.0</td>\n",
              "      <td>0.0</td>\n",
              "      <td>0.0</td>\n",
              "      <td>...</td>\n",
              "      <td>0.164607</td>\n",
              "      <td>0.073214</td>\n",
              "      <td>0.028036</td>\n",
              "      <td>0.011250</td>\n",
              "      <td>0.006536</td>\n",
              "      <td>0.0</td>\n",
              "      <td>0.0</td>\n",
              "      <td>0.0</td>\n",
              "      <td>0.0</td>\n",
              "      <td>0.0</td>\n",
              "    </tr>\n",
              "    <tr>\n",
              "      <th>std</th>\n",
              "      <td>0.0</td>\n",
              "      <td>0.0</td>\n",
              "      <td>0.0</td>\n",
              "      <td>0.0</td>\n",
              "      <td>0.0</td>\n",
              "      <td>0.0</td>\n",
              "      <td>0.0</td>\n",
              "      <td>0.0</td>\n",
              "      <td>0.0</td>\n",
              "      <td>0.0</td>\n",
              "      <td>...</td>\n",
              "      <td>5.473293</td>\n",
              "      <td>3.616811</td>\n",
              "      <td>1.813602</td>\n",
              "      <td>1.205211</td>\n",
              "      <td>0.807475</td>\n",
              "      <td>0.0</td>\n",
              "      <td>0.0</td>\n",
              "      <td>0.0</td>\n",
              "      <td>0.0</td>\n",
              "      <td>0.0</td>\n",
              "    </tr>\n",
              "    <tr>\n",
              "      <th>min</th>\n",
              "      <td>0.0</td>\n",
              "      <td>0.0</td>\n",
              "      <td>0.0</td>\n",
              "      <td>0.0</td>\n",
              "      <td>0.0</td>\n",
              "      <td>0.0</td>\n",
              "      <td>0.0</td>\n",
              "      <td>0.0</td>\n",
              "      <td>0.0</td>\n",
              "      <td>0.0</td>\n",
              "      <td>...</td>\n",
              "      <td>0.000000</td>\n",
              "      <td>0.000000</td>\n",
              "      <td>0.000000</td>\n",
              "      <td>0.000000</td>\n",
              "      <td>0.000000</td>\n",
              "      <td>0.0</td>\n",
              "      <td>0.0</td>\n",
              "      <td>0.0</td>\n",
              "      <td>0.0</td>\n",
              "      <td>0.0</td>\n",
              "    </tr>\n",
              "    <tr>\n",
              "      <th>25%</th>\n",
              "      <td>0.0</td>\n",
              "      <td>0.0</td>\n",
              "      <td>0.0</td>\n",
              "      <td>0.0</td>\n",
              "      <td>0.0</td>\n",
              "      <td>0.0</td>\n",
              "      <td>0.0</td>\n",
              "      <td>0.0</td>\n",
              "      <td>0.0</td>\n",
              "      <td>0.0</td>\n",
              "      <td>...</td>\n",
              "      <td>0.000000</td>\n",
              "      <td>0.000000</td>\n",
              "      <td>0.000000</td>\n",
              "      <td>0.000000</td>\n",
              "      <td>0.000000</td>\n",
              "      <td>0.0</td>\n",
              "      <td>0.0</td>\n",
              "      <td>0.0</td>\n",
              "      <td>0.0</td>\n",
              "      <td>0.0</td>\n",
              "    </tr>\n",
              "    <tr>\n",
              "      <th>50%</th>\n",
              "      <td>0.0</td>\n",
              "      <td>0.0</td>\n",
              "      <td>0.0</td>\n",
              "      <td>0.0</td>\n",
              "      <td>0.0</td>\n",
              "      <td>0.0</td>\n",
              "      <td>0.0</td>\n",
              "      <td>0.0</td>\n",
              "      <td>0.0</td>\n",
              "      <td>0.0</td>\n",
              "      <td>...</td>\n",
              "      <td>0.000000</td>\n",
              "      <td>0.000000</td>\n",
              "      <td>0.000000</td>\n",
              "      <td>0.000000</td>\n",
              "      <td>0.000000</td>\n",
              "      <td>0.0</td>\n",
              "      <td>0.0</td>\n",
              "      <td>0.0</td>\n",
              "      <td>0.0</td>\n",
              "      <td>0.0</td>\n",
              "    </tr>\n",
              "    <tr>\n",
              "      <th>75%</th>\n",
              "      <td>0.0</td>\n",
              "      <td>0.0</td>\n",
              "      <td>0.0</td>\n",
              "      <td>0.0</td>\n",
              "      <td>0.0</td>\n",
              "      <td>0.0</td>\n",
              "      <td>0.0</td>\n",
              "      <td>0.0</td>\n",
              "      <td>0.0</td>\n",
              "      <td>0.0</td>\n",
              "      <td>...</td>\n",
              "      <td>0.000000</td>\n",
              "      <td>0.000000</td>\n",
              "      <td>0.000000</td>\n",
              "      <td>0.000000</td>\n",
              "      <td>0.000000</td>\n",
              "      <td>0.0</td>\n",
              "      <td>0.0</td>\n",
              "      <td>0.0</td>\n",
              "      <td>0.0</td>\n",
              "      <td>0.0</td>\n",
              "    </tr>\n",
              "    <tr>\n",
              "      <th>max</th>\n",
              "      <td>0.0</td>\n",
              "      <td>0.0</td>\n",
              "      <td>0.0</td>\n",
              "      <td>0.0</td>\n",
              "      <td>0.0</td>\n",
              "      <td>0.0</td>\n",
              "      <td>0.0</td>\n",
              "      <td>0.0</td>\n",
              "      <td>0.0</td>\n",
              "      <td>0.0</td>\n",
              "      <td>...</td>\n",
              "      <td>253.000000</td>\n",
              "      <td>254.000000</td>\n",
              "      <td>193.000000</td>\n",
              "      <td>187.000000</td>\n",
              "      <td>119.000000</td>\n",
              "      <td>0.0</td>\n",
              "      <td>0.0</td>\n",
              "      <td>0.0</td>\n",
              "      <td>0.0</td>\n",
              "      <td>0.0</td>\n",
              "    </tr>\n",
              "  </tbody>\n",
              "</table>\n",
              "<p>8 rows × 784 columns</p>\n",
              "</div>"
            ],
            "text/plain": [
              "        pixel0   pixel1   pixel2   pixel3   pixel4   pixel5   pixel6   pixel7  \\\n",
              "count  28000.0  28000.0  28000.0  28000.0  28000.0  28000.0  28000.0  28000.0   \n",
              "mean       0.0      0.0      0.0      0.0      0.0      0.0      0.0      0.0   \n",
              "std        0.0      0.0      0.0      0.0      0.0      0.0      0.0      0.0   \n",
              "min        0.0      0.0      0.0      0.0      0.0      0.0      0.0      0.0   \n",
              "25%        0.0      0.0      0.0      0.0      0.0      0.0      0.0      0.0   \n",
              "50%        0.0      0.0      0.0      0.0      0.0      0.0      0.0      0.0   \n",
              "75%        0.0      0.0      0.0      0.0      0.0      0.0      0.0      0.0   \n",
              "max        0.0      0.0      0.0      0.0      0.0      0.0      0.0      0.0   \n",
              "\n",
              "        pixel8   pixel9  ...      pixel774      pixel775      pixel776  \\\n",
              "count  28000.0  28000.0  ...  28000.000000  28000.000000  28000.000000   \n",
              "mean       0.0      0.0  ...      0.164607      0.073214      0.028036   \n",
              "std        0.0      0.0  ...      5.473293      3.616811      1.813602   \n",
              "min        0.0      0.0  ...      0.000000      0.000000      0.000000   \n",
              "25%        0.0      0.0  ...      0.000000      0.000000      0.000000   \n",
              "50%        0.0      0.0  ...      0.000000      0.000000      0.000000   \n",
              "75%        0.0      0.0  ...      0.000000      0.000000      0.000000   \n",
              "max        0.0      0.0  ...    253.000000    254.000000    193.000000   \n",
              "\n",
              "           pixel777      pixel778  pixel779  pixel780  pixel781  pixel782  \\\n",
              "count  28000.000000  28000.000000   28000.0   28000.0   28000.0   28000.0   \n",
              "mean       0.011250      0.006536       0.0       0.0       0.0       0.0   \n",
              "std        1.205211      0.807475       0.0       0.0       0.0       0.0   \n",
              "min        0.000000      0.000000       0.0       0.0       0.0       0.0   \n",
              "25%        0.000000      0.000000       0.0       0.0       0.0       0.0   \n",
              "50%        0.000000      0.000000       0.0       0.0       0.0       0.0   \n",
              "75%        0.000000      0.000000       0.0       0.0       0.0       0.0   \n",
              "max      187.000000    119.000000       0.0       0.0       0.0       0.0   \n",
              "\n",
              "       pixel783  \n",
              "count   28000.0  \n",
              "mean        0.0  \n",
              "std         0.0  \n",
              "min         0.0  \n",
              "25%         0.0  \n",
              "50%         0.0  \n",
              "75%         0.0  \n",
              "max         0.0  \n",
              "\n",
              "[8 rows x 784 columns]"
            ]
          },
          "metadata": {
            "tags": []
          },
          "execution_count": 5
        }
      ]
    },
    {
      "cell_type": "code",
      "metadata": {
        "id": "pCK6KmgzqY4o",
        "colab_type": "code",
        "outputId": "f94c5aaf-65e9-4244-b60e-c88b8ec86868",
        "colab": {
          "base_uri": "https://localhost:8080/",
          "height": 119
        }
      },
      "source": [
        "test.columns"
      ],
      "execution_count": 6,
      "outputs": [
        {
          "output_type": "execute_result",
          "data": {
            "text/plain": [
              "Index(['pixel0', 'pixel1', 'pixel2', 'pixel3', 'pixel4', 'pixel5', 'pixel6',\n",
              "       'pixel7', 'pixel8', 'pixel9',\n",
              "       ...\n",
              "       'pixel774', 'pixel775', 'pixel776', 'pixel777', 'pixel778', 'pixel779',\n",
              "       'pixel780', 'pixel781', 'pixel782', 'pixel783'],\n",
              "      dtype='object', length=784)"
            ]
          },
          "metadata": {
            "tags": []
          },
          "execution_count": 6
        }
      ]
    },
    {
      "cell_type": "markdown",
      "metadata": {
        "id": "9fFUEgsi_bPC",
        "colab_type": "text"
      },
      "source": [
        "***Note***: since this won't be submitted to Kaggle, where one could get the correct labels for the test set, instead just use standard split of test/train data for the \"test.csv\" data"
      ]
    },
    {
      "cell_type": "code",
      "metadata": {
        "id": "fNcCqvMiC93Y",
        "colab_type": "code",
        "colab": {}
      },
      "source": [
        "y = train[\"label\"]\n",
        "x = train.drop(labels = [\"label\"], axis = 1) \n",
        "\n",
        "\n",
        "X_train, X_test, y_train, y_test = train_test_split(x, y, test_size =0.2, random_state=11)\n"
      ],
      "execution_count": 0,
      "outputs": []
    },
    {
      "cell_type": "code",
      "metadata": {
        "id": "t7zSkazIXsI6",
        "colab_type": "code",
        "outputId": "9afcccf0-bc75-431d-d21e-865028513684",
        "colab": {
          "base_uri": "https://localhost:8080/",
          "height": 369
        }
      },
      "source": [
        "pic1 = y.loc[67]\n",
        "pic2 = x.loc[67]\n",
        "pic2 = np.array(pic2, dtype = 'uint8')\n",
        "pic2 = pic2.reshape(28,28)\n",
        "plt.imshow(pic2, cmap = 'gray')\n",
        "plt.show()"
      ],
      "execution_count": 8,
      "outputs": [
        {
          "output_type": "display_data",
          "data": {
            "image/png": "[encoded data removed]",
            "text/plain": [
              "<Figure size 576x396 with 1 Axes>"
            ]
          },
          "metadata": {
            "tags": []
          }
        }
      ]
    },
    {
      "cell_type": "code",
      "metadata": {
        "id": "Q2u_7guY8bSG",
        "colab_type": "code",
        "outputId": "55f2e595-3d7b-43ca-9d53-d21909fc9a4c",
        "colab": {
          "base_uri": "https://localhost:8080/",
          "height": 528
        }
      },
      "source": [
        "sns.countplot(x = \"label\", data = train)\n",
        "fig = plt.gcf()\n",
        "fig.set_size_inches(10, 8)\n",
        "plt.xlabel(\"Number\")\n",
        "plt.ylabel(\"Total Count\")\n",
        "plt.show()"
      ],
      "execution_count": 9,
      "outputs": [
        {
          "output_type": "display_data",
          "data": {
            "image/png": "[encoded data removed]",
            "text/plain": [
              "<Figure size 720x576 with 1 Axes>"
            ]
          },
          "metadata": {
            "tags": []
          }
        }
      ]
    },
    {
      "cell_type": "code",
      "metadata": {
        "id": "IPd1ro1DWFuE",
        "colab_type": "code",
        "colab": {
          "base_uri": "https://localhost:8080/",
          "height": 136
        },
        "outputId": "aac94750-ea54-4cbe-e6a0-281e36a6c1c2"
      },
      "source": [
        "X_train.values"
      ],
      "execution_count": 10,
      "outputs": [
        {
          "output_type": "execute_result",
          "data": {
            "text/plain": [
              "array([[0, 0, 0, ..., 0, 0, 0],\n",
              "       [0, 0, 0, ..., 0, 0, 0],\n",
              "       [0, 0, 0, ..., 0, 0, 0],\n",
              "       ...,\n",
              "       [0, 0, 0, ..., 0, 0, 0],\n",
              "       [0, 0, 0, ..., 0, 0, 0],\n",
              "       [0, 0, 0, ..., 0, 0, 0]])"
            ]
          },
          "metadata": {
            "tags": []
          },
          "execution_count": 10
        }
      ]
    },
    {
      "cell_type": "markdown",
      "metadata": {
        "id": "4JGLZJrLH-Qq",
        "colab_type": "text"
      },
      "source": [
        "Normalize the data and reshape"
      ]
    },
    {
      "cell_type": "code",
      "metadata": {
        "id": "mKmf4A5LH5bv",
        "colab_type": "code",
        "colab": {
          "base_uri": "https://localhost:8080/",
          "height": 119
        },
        "outputId": "ebf07685-9b65-4d07-ba24-0774cbe81174"
      },
      "source": [
        "# let's print the shape before we reshape and normalize\n",
        "print(\"X_train shape\", X_train.shape)\n",
        "print(\"y_train shape\", y_train.shape)\n",
        "print(\"X_test shape\", X_test.shape)\n",
        "print(\"y_test shape\", y_test.shape)\n",
        "\n",
        "# # building the input vector from the 28x28 pixels\n",
        "X_train = X_train.values.reshape(33600, 784)\n",
        "X_test = X_test.values.reshape(8400, 784)\n",
        "X_train = X_train.astype('float32')\n",
        "X_test = X_test.astype('float32')\n",
        "\n",
        "# normalizing the data to help with the training\n",
        "X_train /= 255\n",
        "X_test /= 255\n",
        "\n",
        "# print the final input shape ready for training\n",
        "print(\"Train matrix shape\", X_train.shape)\n",
        "print(\"Test matrix shape\", X_test.shape)"
      ],
      "execution_count": 11,
      "outputs": [
        {
          "output_type": "stream",
          "text": [
            "X_train shape (33600, 784)\n",
            "y_train shape (33600,)\n",
            "X_test shape (8400, 784)\n",
            "y_test shape (8400,)\n",
            "Train matrix shape (33600, 784)\n",
            "Test matrix shape (8400, 784)\n"
          ],
          "name": "stdout"
        }
      ]
    },
    {
      "cell_type": "code",
      "metadata": {
        "id": "x853laGvBc8Y",
        "colab_type": "code",
        "colab": {
          "base_uri": "https://localhost:8080/",
          "height": 51
        },
        "outputId": "49d79ff5-39c6-4ff4-833c-e916eff4455d"
      },
      "source": [
        "n_classes = 10\n",
        "print(\"Shape before one-hot encoding: \", y_train.shape)\n",
        "Y_train = np_utils.to_categorical(y_train, n_classes)\n",
        "Y_test = np_utils.to_categorical(y_test, n_classes)\n",
        "print(\"Shape after one-hot encoding: \", Y_train.shape)"
      ],
      "execution_count": 12,
      "outputs": [
        {
          "output_type": "stream",
          "text": [
            "Shape before one-hot encoding:  (33600,)\n",
            "Shape after one-hot encoding:  (33600, 10)\n"
          ],
          "name": "stdout"
        }
      ]
    },
    {
      "cell_type": "markdown",
      "metadata": {
        "id": "tqyhl_qrqFm7",
        "colab_type": "text"
      },
      "source": [
        "# Modeling & Analysis"
      ]
    },
    {
      "cell_type": "markdown",
      "metadata": {
        "id": "7ZBfz01SlRRt",
        "colab_type": "text"
      },
      "source": [
        "## 3 Layers with 300, 100 and 10 nodes"
      ]
    },
    {
      "cell_type": "code",
      "metadata": {
        "id": "0vW-dPoGAg2Q",
        "colab_type": "code",
        "colab": {
          "base_uri": "https://localhost:8080/",
          "height": 88
        },
        "outputId": "8d0b7ee9-8d5e-49ad-8c24-370565cccabc"
      },
      "source": [
        "model = keras.models.Sequential([\n",
        "    keras.layers.Flatten(input_shape=[784, ]),\n",
        "    keras.layers.Dense(300, activation=\"relu\"),\n",
        "    keras.layers.Dense(100, activation=\"relu\"),\n",
        "    keras.layers.Dense(10, activation=\"softmax\")\n",
        "])"
      ],
      "execution_count": 13,
      "outputs": [
        {
          "output_type": "stream",
          "text": [
            "WARNING:tensorflow:From /usr/local/lib/python3.6/dist-packages/tensorflow/python/ops/resource_variable_ops.py:435: colocate_with (from tensorflow.python.framework.ops) is deprecated and will be removed in a future version.\n",
            "Instructions for updating:\n",
            "Colocations handled automatically by placer.\n"
          ],
          "name": "stdout"
        }
      ]
    },
    {
      "cell_type": "code",
      "metadata": {
        "id": "4Zrvm0AGA4BQ",
        "colab_type": "code",
        "colab": {
          "base_uri": "https://localhost:8080/",
          "height": 272
        },
        "outputId": "f8f75951-6185-4114-bb9a-bb41ea95a23c"
      },
      "source": [
        "\n",
        "model.summary()"
      ],
      "execution_count": 14,
      "outputs": [
        {
          "output_type": "stream",
          "text": [
            "_________________________________________________________________\n",
            "Layer (type)                 Output Shape              Param #   \n",
            "=================================================================\n",
            "flatten (Flatten)            (None, 784)               0         \n",
            "_________________________________________________________________\n",
            "dense (Dense)                (None, 300)               235500    \n",
            "_________________________________________________________________\n",
            "dense_1 (Dense)              (None, 100)               30100     \n",
            "_________________________________________________________________\n",
            "dense_2 (Dense)              (None, 10)                1010      \n",
            "=================================================================\n",
            "Total params: 266,610\n",
            "Trainable params: 266,610\n",
            "Non-trainable params: 0\n",
            "_________________________________________________________________\n"
          ],
          "name": "stdout"
        }
      ]
    },
    {
      "cell_type": "code",
      "metadata": {
        "id": "Vlf7FgfSA6G5",
        "colab_type": "code",
        "colab": {}
      },
      "source": [
        "model.compile(loss='categorical_crossentropy', metrics=['accuracy'], optimizer='sgd')"
      ],
      "execution_count": 0,
      "outputs": []
    },
    {
      "cell_type": "code",
      "metadata": {
        "id": "RiX9u6THleE_",
        "colab_type": "code",
        "colab": {}
      },
      "source": [
        ""
      ],
      "execution_count": 0,
      "outputs": []
    },
    {
      "cell_type": "code",
      "metadata": {
        "id": "jQ17oOJHFZon",
        "colab_type": "code",
        "colab": {
          "base_uri": "https://localhost:8080/",
          "height": 1822
        },
        "outputId": "8dab8298-c5fc-45ae-ab00-f893db5979b8"
      },
      "source": [
        "import time\n",
        "start_time = time.time()\n",
        "\n",
        "history = model.fit(X_train, Y_train, epochs = 50, validation_data=(X_test, Y_test))\n",
        "\n",
        "print(\"--- %s seconds ---\" % (time.time() - start_time))"
      ],
      "execution_count": 16,
      "outputs": [
        {
          "output_type": "stream",
          "text": [
            "Train on 33600 samples, validate on 8400 samples\n",
            "WARNING:tensorflow:From /usr/local/lib/python3.6/dist-packages/tensorflow/python/ops/math_ops.py:3066: to_int32 (from tensorflow.python.ops.math_ops) is deprecated and will be removed in a future version.\n",
            "Instructions for updating:\n",
            "Use tf.cast instead.\n",
            "Epoch 1/50\n",
            "33600/33600 [==============================] - 7s 197us/sample - loss: 0.7891 - acc: 0.8057 - val_loss: 0.3837 - val_acc: 0.8954\n",
            "Epoch 2/50\n",
            "33600/33600 [==============================] - 6s 176us/sample - loss: 0.3314 - acc: 0.9057 - val_loss: 0.3056 - val_acc: 0.9152\n",
            "Epoch 3/50\n",
            "33600/33600 [==============================] - 6s 178us/sample - loss: 0.2718 - acc: 0.9224 - val_loss: 0.2747 - val_acc: 0.9227\n",
            "Epoch 4/50\n",
            "33600/33600 [==============================] - 6s 177us/sample - loss: 0.2365 - acc: 0.9313 - val_loss: 0.2473 - val_acc: 0.9324\n",
            "Epoch 5/50\n",
            "33600/33600 [==============================] - 6s 167us/sample - loss: 0.2102 - acc: 0.9389 - val_loss: 0.2311 - val_acc: 0.9349\n",
            "Epoch 6/50\n",
            "33600/33600 [==============================] - 6s 167us/sample - loss: 0.1900 - acc: 0.9449 - val_loss: 0.2128 - val_acc: 0.9418\n",
            "Epoch 7/50\n",
            "33600/33600 [==============================] - 6s 170us/sample - loss: 0.1727 - acc: 0.9506 - val_loss: 0.1977 - val_acc: 0.9449\n",
            "Epoch 8/50\n",
            "33600/33600 [==============================] - 6s 175us/sample - loss: 0.1579 - acc: 0.9546 - val_loss: 0.1888 - val_acc: 0.9475\n",
            "Epoch 9/50\n",
            "33600/33600 [==============================] - 6s 176us/sample - loss: 0.1454 - acc: 0.9589 - val_loss: 0.1819 - val_acc: 0.9494\n",
            "Epoch 10/50\n",
            "33600/33600 [==============================] - 6s 180us/sample - loss: 0.1349 - acc: 0.9622 - val_loss: 0.1724 - val_acc: 0.9517\n",
            "Epoch 11/50\n",
            "33600/33600 [==============================] - 7s 208us/sample - loss: 0.1251 - acc: 0.9649 - val_loss: 0.1642 - val_acc: 0.9545\n",
            "Epoch 12/50\n",
            "33600/33600 [==============================] - 6s 176us/sample - loss: 0.1168 - acc: 0.9679 - val_loss: 0.1584 - val_acc: 0.9571\n",
            "Epoch 13/50\n",
            "33600/33600 [==============================] - 6s 173us/sample - loss: 0.1089 - acc: 0.9689 - val_loss: 0.1534 - val_acc: 0.9576\n",
            "Epoch 14/50\n",
            "33600/33600 [==============================] - 6s 186us/sample - loss: 0.1018 - acc: 0.9720 - val_loss: 0.1500 - val_acc: 0.9579\n",
            "Epoch 15/50\n",
            "33600/33600 [==============================] - 7s 194us/sample - loss: 0.0958 - acc: 0.9730 - val_loss: 0.1457 - val_acc: 0.9607\n",
            "Epoch 16/50\n",
            "33600/33600 [==============================] - 7s 195us/sample - loss: 0.0901 - acc: 0.9746 - val_loss: 0.1424 - val_acc: 0.9607\n",
            "Epoch 17/50\n",
            "33600/33600 [==============================] - 6s 193us/sample - loss: 0.0847 - acc: 0.9771 - val_loss: 0.1384 - val_acc: 0.9619\n",
            "Epoch 18/50\n",
            "33600/33600 [==============================] - 6s 179us/sample - loss: 0.0798 - acc: 0.9774 - val_loss: 0.1346 - val_acc: 0.9636\n",
            "Epoch 19/50\n",
            "33600/33600 [==============================] - 6s 175us/sample - loss: 0.0753 - acc: 0.9796 - val_loss: 0.1294 - val_acc: 0.9632\n",
            "Epoch 20/50\n",
            "33600/33600 [==============================] - 6s 176us/sample - loss: 0.0710 - acc: 0.9812 - val_loss: 0.1288 - val_acc: 0.9640\n",
            "Epoch 21/50\n",
            "33600/33600 [==============================] - 6s 178us/sample - loss: 0.0672 - acc: 0.9820 - val_loss: 0.1244 - val_acc: 0.9645\n",
            "Epoch 22/50\n",
            "33600/33600 [==============================] - 6s 175us/sample - loss: 0.0638 - acc: 0.9822 - val_loss: 0.1285 - val_acc: 0.9620\n",
            "Epoch 23/50\n",
            "33600/33600 [==============================] - 6s 175us/sample - loss: 0.0605 - acc: 0.9839 - val_loss: 0.1204 - val_acc: 0.9663\n",
            "Epoch 24/50\n",
            "33600/33600 [==============================] - 6s 181us/sample - loss: 0.0574 - acc: 0.9849 - val_loss: 0.1206 - val_acc: 0.9673\n",
            "Epoch 25/50\n",
            "33600/33600 [==============================] - 6s 178us/sample - loss: 0.0542 - acc: 0.9859 - val_loss: 0.1175 - val_acc: 0.9670\n",
            "Epoch 26/50\n",
            "33600/33600 [==============================] - 6s 184us/sample - loss: 0.0512 - acc: 0.9871 - val_loss: 0.1167 - val_acc: 0.9679\n",
            "Epoch 27/50\n",
            "33600/33600 [==============================] - 6s 175us/sample - loss: 0.0487 - acc: 0.9873 - val_loss: 0.1181 - val_acc: 0.9660\n",
            "Epoch 28/50\n",
            "33600/33600 [==============================] - 6s 176us/sample - loss: 0.0463 - acc: 0.9887 - val_loss: 0.1150 - val_acc: 0.9681\n",
            "Epoch 29/50\n",
            "33600/33600 [==============================] - 6s 179us/sample - loss: 0.0442 - acc: 0.9895 - val_loss: 0.1118 - val_acc: 0.9690\n",
            "Epoch 30/50\n",
            "33600/33600 [==============================] - 6s 174us/sample - loss: 0.0418 - acc: 0.9899 - val_loss: 0.1108 - val_acc: 0.9692\n",
            "Epoch 31/50\n",
            "33600/33600 [==============================] - 6s 179us/sample - loss: 0.0397 - acc: 0.9907 - val_loss: 0.1127 - val_acc: 0.9686\n",
            "Epoch 32/50\n",
            "33600/33600 [==============================] - 6s 181us/sample - loss: 0.0379 - acc: 0.9913 - val_loss: 0.1094 - val_acc: 0.9694\n",
            "Epoch 33/50\n",
            "33600/33600 [==============================] - 6s 180us/sample - loss: 0.0362 - acc: 0.9920 - val_loss: 0.1104 - val_acc: 0.9692\n",
            "Epoch 34/50\n",
            "33600/33600 [==============================] - 6s 182us/sample - loss: 0.0343 - acc: 0.9924 - val_loss: 0.1090 - val_acc: 0.9704\n",
            "Epoch 35/50\n",
            "33600/33600 [==============================] - 6s 181us/sample - loss: 0.0328 - acc: 0.9928 - val_loss: 0.1086 - val_acc: 0.9704\n",
            "Epoch 36/50\n",
            "33600/33600 [==============================] - 6s 176us/sample - loss: 0.0312 - acc: 0.9939 - val_loss: 0.1083 - val_acc: 0.9705\n",
            "Epoch 37/50\n",
            "33600/33600 [==============================] - 6s 168us/sample - loss: 0.0297 - acc: 0.9939 - val_loss: 0.1049 - val_acc: 0.9717\n",
            "Epoch 38/50\n",
            "33600/33600 [==============================] - 6s 179us/sample - loss: 0.0281 - acc: 0.9946 - val_loss: 0.1054 - val_acc: 0.9711\n",
            "Epoch 39/50\n",
            "33600/33600 [==============================] - 6s 184us/sample - loss: 0.0270 - acc: 0.9949 - val_loss: 0.1055 - val_acc: 0.9708\n",
            "Epoch 40/50\n",
            "33600/33600 [==============================] - 6s 190us/sample - loss: 0.0255 - acc: 0.9953 - val_loss: 0.1073 - val_acc: 0.9723\n",
            "Epoch 41/50\n",
            "33600/33600 [==============================] - 6s 182us/sample - loss: 0.0246 - acc: 0.9954 - val_loss: 0.1051 - val_acc: 0.9718\n",
            "Epoch 42/50\n",
            "33600/33600 [==============================] - 6s 183us/sample - loss: 0.0231 - acc: 0.9959 - val_loss: 0.1036 - val_acc: 0.9721\n",
            "Epoch 43/50\n",
            "33600/33600 [==============================] - 6s 179us/sample - loss: 0.0224 - acc: 0.9965 - val_loss: 0.1038 - val_acc: 0.9721\n",
            "Epoch 44/50\n",
            "33600/33600 [==============================] - 6s 188us/sample - loss: 0.0213 - acc: 0.9964 - val_loss: 0.1038 - val_acc: 0.9729\n",
            "Epoch 45/50\n",
            "33600/33600 [==============================] - 6s 178us/sample - loss: 0.0203 - acc: 0.9969 - val_loss: 0.1030 - val_acc: 0.9714\n",
            "Epoch 46/50\n",
            "33600/33600 [==============================] - 6s 173us/sample - loss: 0.0194 - acc: 0.9971 - val_loss: 0.1046 - val_acc: 0.9720\n",
            "Epoch 47/50\n",
            "33600/33600 [==============================] - 6s 173us/sample - loss: 0.0185 - acc: 0.9973 - val_loss: 0.1036 - val_acc: 0.9730\n",
            "Epoch 48/50\n",
            "33600/33600 [==============================] - 6s 177us/sample - loss: 0.0178 - acc: 0.9974 - val_loss: 0.1027 - val_acc: 0.9723\n",
            "Epoch 49/50\n",
            "33600/33600 [==============================] - 6s 183us/sample - loss: 0.0170 - acc: 0.9978 - val_loss: 0.1036 - val_acc: 0.9725\n",
            "Epoch 50/50\n",
            "33600/33600 [==============================] - 6s 181us/sample - loss: 0.0163 - acc: 0.9978 - val_loss: 0.1033 - val_acc: 0.9721\n",
            "--- 303.0059163570404 seconds ---\n"
          ],
          "name": "stdout"
        }
      ]
    },
    {
      "cell_type": "code",
      "metadata": {
        "id": "gtfEOgh2FgrQ",
        "colab_type": "code",
        "colab": {
          "base_uri": "https://localhost:8080/",
          "height": 136
        },
        "outputId": "b859a2f8-54cd-4869-e11b-7cd51202445c"
      },
      "source": [
        "history.params"
      ],
      "execution_count": 17,
      "outputs": [
        {
          "output_type": "execute_result",
          "data": {
            "text/plain": [
              "{'batch_size': 32,\n",
              " 'do_validation': True,\n",
              " 'epochs': 50,\n",
              " 'metrics': ['loss', 'acc', 'val_loss', 'val_acc'],\n",
              " 'samples': 33600,\n",
              " 'steps': None,\n",
              " 'verbose': 0}"
            ]
          },
          "metadata": {
            "tags": []
          },
          "execution_count": 17
        }
      ]
    },
    {
      "cell_type": "code",
      "metadata": {
        "id": "iD3BuPU7aenl",
        "colab_type": "code",
        "colab": {
          "base_uri": "https://localhost:8080/",
          "height": 34
        },
        "outputId": "f4fd0f9a-7c0e-43d7-c2e0-2c7eaae1ad70"
      },
      "source": [
        "history.history.keys()"
      ],
      "execution_count": 18,
      "outputs": [
        {
          "output_type": "execute_result",
          "data": {
            "text/plain": [
              "dict_keys(['loss', 'acc', 'val_loss', 'val_acc'])"
            ]
          },
          "metadata": {
            "tags": []
          },
          "execution_count": 18
        }
      ]
    },
    {
      "cell_type": "code",
      "metadata": {
        "id": "_9O7EIIaaiXr",
        "colab_type": "code",
        "colab": {
          "base_uri": "https://localhost:8080/",
          "height": 382
        },
        "outputId": "e7670596-b8ef-4bb2-985c-dd8e1fef88b2"
      },
      "source": [
        "pd.DataFrame(history.history).plot(figsize=(8, 5))\n",
        "plt.grid(True)\n",
        "#plt.gca().set_ylim(0, 1)\n",
        "save_fig(\"keras_learning_curves_plot\")\n",
        "plt.show()"
      ],
      "execution_count": 19,
      "outputs": [
        {
          "output_type": "stream",
          "text": [
            "Saving figure keras_learning_curves_plot\n"
          ],
          "name": "stdout"
        },
        {
          "output_type": "display_data",
          "data": {
            "image/png": "[encoded data removed]",
            "text/plain": [
              "<Figure size 576x360 with 1 Axes>"
            ]
          },
          "metadata": {
            "tags": []
          }
        }
      ]
    },
    {
      "cell_type": "code",
      "metadata": {
        "id": "AW9mnlMLamFy",
        "colab_type": "code",
        "colab": {
          "base_uri": "https://localhost:8080/",
          "height": 401
        },
        "outputId": "a968c2a0-c7f0-49a6-c571-a65091508233"
      },
      "source": [
        "fig = plt.figure()\n",
        "plt.subplot(2,1,1)\n",
        "plt.plot(history.history['acc'])\n",
        "plt.plot(history.history['val_acc'])\n",
        "plt.title('model accuracy')\n",
        "plt.ylabel('accuracy')\n",
        "plt.xlabel('epoch')\n",
        "plt.legend(['train', 'test'], loc='lower right')\n",
        "\n",
        "plt.subplot(2,1,2)\n",
        "plt.plot(history.history['loss'])\n",
        "plt.plot(history.history['val_loss'])\n",
        "plt.title('model loss')\n",
        "plt.ylabel('loss')\n",
        "plt.xlabel('epoch')\n",
        "plt.legend(['train', 'test'], loc='upper right')\n",
        "\n",
        "plt.tight_layout()"
      ],
      "execution_count": 20,
      "outputs": [
        {
          "output_type": "display_data",
          "data": {
            "image/png": "[encoded data removed]",
            "text/plain": [
              "<Figure size 576x396 with 2 Axes>"
            ]
          },
          "metadata": {
            "tags": []
          }
        }
      ]
    },
    {
      "cell_type": "code",
      "metadata": {
        "id": "TlIo8fUQb91n",
        "colab_type": "code",
        "colab": {
          "base_uri": "https://localhost:8080/",
          "height": 68
        },
        "outputId": "af799a6b-e6d7-4945-eb46-f00c1d2c632b"
      },
      "source": [
        "loss_and_metrics = model.evaluate(X_test, Y_test, verbose=2)\n",
        "\n",
        "print(\"Test Loss\", loss_and_metrics[0])\n",
        "print(\"Test Accuracy\", loss_and_metrics[1])"
      ],
      "execution_count": 21,
      "outputs": [
        {
          "output_type": "stream",
          "text": [
            " - 0s - loss: 0.1033 - acc: 0.9721\n",
            "Test Loss 0.10331202797342225\n",
            "Test Accuracy 0.9721429\n"
          ],
          "name": "stdout"
        }
      ]
    },
    {
      "cell_type": "code",
      "metadata": {
        "id": "yNEHrYa0b-U1",
        "colab_type": "code",
        "colab": {}
      },
      "source": [
        ""
      ],
      "execution_count": 0,
      "outputs": []
    },
    {
      "cell_type": "markdown",
      "metadata": {
        "id": "sk6Cpo5Fl21v",
        "colab_type": "text"
      },
      "source": [
        "## Now Run 3 Layers But 2x the Nodes"
      ]
    },
    {
      "cell_type": "code",
      "metadata": {
        "id": "A-A5GnmWl5me",
        "colab_type": "code",
        "colab": {
          "base_uri": "https://localhost:8080/",
          "height": 2135
        },
        "outputId": "648a69d6-bebe-4053-9127-6e7074b0c0ce"
      },
      "source": [
        "model = keras.models.Sequential([\n",
        "    keras.layers.Flatten(input_shape=[784, ]),\n",
        "    keras.layers.Dense(600, activation=\"relu\"),\n",
        "    keras.layers.Dense(200, activation=\"relu\"),\n",
        "    keras.layers.Dense(10, activation=\"softmax\")])\n",
        "\n",
        "model.compile(loss='categorical_crossentropy', metrics=['accuracy'], optimizer='sgd')\n",
        "\n",
        "\n",
        "start_time = time.time()\n",
        "\n",
        "\n",
        "history = model.fit(X_train, Y_train, epochs = 50, validation_data=(X_test, Y_test))\n",
        "\n",
        "print(\"--- %s seconds ---\" % (time.time() - start_time))\n",
        "\n",
        "\n",
        "\n",
        "fig = plt.figure()\n",
        "plt.subplot(2,1,1)\n",
        "plt.plot(history.history['acc'])\n",
        "plt.plot(history.history['val_acc'])\n",
        "plt.title('model accuracy')\n",
        "plt.ylabel('accuracy')\n",
        "plt.xlabel('epoch')\n",
        "plt.legend(['train', 'test'], loc='lower right')\n",
        "\n",
        "plt.subplot(2,1,2)\n",
        "plt.plot(history.history['loss'])\n",
        "plt.plot(history.history['val_loss'])\n",
        "plt.title('model loss')\n",
        "plt.ylabel('loss')\n",
        "plt.xlabel('epoch')\n",
        "plt.legend(['train', 'test'], loc='upper right')\n",
        "\n",
        "plt.tight_layout()"
      ],
      "execution_count": 22,
      "outputs": [
        {
          "output_type": "stream",
          "text": [
            "Train on 33600 samples, validate on 8400 samples\n",
            "Epoch 1/50\n",
            "33600/33600 [==============================] - 9s 276us/sample - loss: 0.7289 - acc: 0.8272 - val_loss: 0.3612 - val_acc: 0.9046\n",
            "Epoch 2/50\n",
            "33600/33600 [==============================] - 10s 283us/sample - loss: 0.3165 - acc: 0.9107 - val_loss: 0.2946 - val_acc: 0.9174\n",
            "Epoch 3/50\n",
            "33600/33600 [==============================] - 9s 278us/sample - loss: 0.2617 - acc: 0.9249 - val_loss: 0.2629 - val_acc: 0.9265\n",
            "Epoch 4/50\n",
            "33600/33600 [==============================] - 9s 278us/sample - loss: 0.2283 - acc: 0.9351 - val_loss: 0.2374 - val_acc: 0.9342\n",
            "Epoch 5/50\n",
            "33600/33600 [==============================] - 10s 296us/sample - loss: 0.2022 - acc: 0.9418 - val_loss: 0.2175 - val_acc: 0.9407\n",
            "Epoch 6/50\n",
            "33600/33600 [==============================] - 10s 288us/sample - loss: 0.1814 - acc: 0.9485 - val_loss: 0.2120 - val_acc: 0.9401\n",
            "Epoch 7/50\n",
            "33600/33600 [==============================] - 10s 302us/sample - loss: 0.1643 - acc: 0.9538 - val_loss: 0.1917 - val_acc: 0.9464\n",
            "Epoch 8/50\n",
            "33600/33600 [==============================] - 10s 284us/sample - loss: 0.1498 - acc: 0.9583 - val_loss: 0.1803 - val_acc: 0.9495\n",
            "Epoch 9/50\n",
            "33600/33600 [==============================] - 9s 280us/sample - loss: 0.1372 - acc: 0.9620 - val_loss: 0.1691 - val_acc: 0.9536\n",
            "Epoch 10/50\n",
            "33600/33600 [==============================] - 11s 314us/sample - loss: 0.1264 - acc: 0.9655 - val_loss: 0.1637 - val_acc: 0.9546\n",
            "Epoch 11/50\n",
            "33600/33600 [==============================] - 10s 310us/sample - loss: 0.1168 - acc: 0.9677 - val_loss: 0.1542 - val_acc: 0.9570\n",
            "Epoch 12/50\n",
            "33600/33600 [==============================] - 10s 288us/sample - loss: 0.1084 - acc: 0.9701 - val_loss: 0.1514 - val_acc: 0.9570\n",
            "Epoch 13/50\n",
            "33600/33600 [==============================] - 9s 281us/sample - loss: 0.1007 - acc: 0.9725 - val_loss: 0.1434 - val_acc: 0.9588\n",
            "Epoch 14/50\n",
            "33600/33600 [==============================] - 9s 278us/sample - loss: 0.0943 - acc: 0.9742 - val_loss: 0.1389 - val_acc: 0.9615\n",
            "Epoch 15/50\n",
            "33600/33600 [==============================] - 10s 285us/sample - loss: 0.0878 - acc: 0.9760 - val_loss: 0.1342 - val_acc: 0.9618\n",
            "Epoch 16/50\n",
            "33600/33600 [==============================] - 10s 285us/sample - loss: 0.0823 - acc: 0.9779 - val_loss: 0.1343 - val_acc: 0.9635\n",
            "Epoch 17/50\n",
            "33600/33600 [==============================] - 10s 287us/sample - loss: 0.0771 - acc: 0.9792 - val_loss: 0.1302 - val_acc: 0.9623\n",
            "Epoch 18/50\n",
            "33600/33600 [==============================] - 10s 290us/sample - loss: 0.0720 - acc: 0.9809 - val_loss: 0.1255 - val_acc: 0.9639\n",
            "Epoch 19/50\n",
            "33600/33600 [==============================] - 10s 290us/sample - loss: 0.0679 - acc: 0.9821 - val_loss: 0.1218 - val_acc: 0.9656\n",
            "Epoch 20/50\n",
            "33600/33600 [==============================] - 10s 289us/sample - loss: 0.0635 - acc: 0.9836 - val_loss: 0.1205 - val_acc: 0.9657\n",
            "Epoch 21/50\n",
            "33600/33600 [==============================] - 9s 280us/sample - loss: 0.0600 - acc: 0.9843 - val_loss: 0.1159 - val_acc: 0.9676\n",
            "Epoch 22/50\n",
            "33600/33600 [==============================] - 10s 284us/sample - loss: 0.0568 - acc: 0.9856 - val_loss: 0.1148 - val_acc: 0.9677\n",
            "Epoch 23/50\n",
            "33600/33600 [==============================] - 9s 278us/sample - loss: 0.0531 - acc: 0.9866 - val_loss: 0.1121 - val_acc: 0.9679\n",
            "Epoch 24/50\n",
            "33600/33600 [==============================] - 9s 273us/sample - loss: 0.0500 - acc: 0.9876 - val_loss: 0.1113 - val_acc: 0.9683\n",
            "Epoch 25/50\n",
            "33600/33600 [==============================] - 9s 272us/sample - loss: 0.0472 - acc: 0.9887 - val_loss: 0.1077 - val_acc: 0.9675\n",
            "Epoch 26/50\n",
            "33600/33600 [==============================] - 9s 282us/sample - loss: 0.0442 - acc: 0.9898 - val_loss: 0.1067 - val_acc: 0.9688\n",
            "Epoch 27/50\n",
            "33600/33600 [==============================] - 10s 285us/sample - loss: 0.0418 - acc: 0.9903 - val_loss: 0.1060 - val_acc: 0.9683\n",
            "Epoch 28/50\n",
            "33600/33600 [==============================] - 9s 276us/sample - loss: 0.0395 - acc: 0.9913 - val_loss: 0.1059 - val_acc: 0.9695\n",
            "Epoch 29/50\n",
            "33600/33600 [==============================] - 9s 267us/sample - loss: 0.0374 - acc: 0.9920 - val_loss: 0.1031 - val_acc: 0.9700\n",
            "Epoch 30/50\n",
            "33600/33600 [==============================] - 9s 263us/sample - loss: 0.0353 - acc: 0.9924 - val_loss: 0.1019 - val_acc: 0.9710\n",
            "Epoch 31/50\n",
            "33600/33600 [==============================] - 9s 274us/sample - loss: 0.0334 - acc: 0.9931 - val_loss: 0.1017 - val_acc: 0.9701\n",
            "Epoch 32/50\n",
            "33600/33600 [==============================] - 10s 288us/sample - loss: 0.0316 - acc: 0.9938 - val_loss: 0.1012 - val_acc: 0.9702\n",
            "Epoch 33/50\n",
            "33600/33600 [==============================] - 9s 282us/sample - loss: 0.0296 - acc: 0.9946 - val_loss: 0.1003 - val_acc: 0.9705\n",
            "Epoch 34/50\n",
            "33600/33600 [==============================] - 10s 284us/sample - loss: 0.0282 - acc: 0.9946 - val_loss: 0.1016 - val_acc: 0.9701\n",
            "Epoch 35/50\n",
            "33600/33600 [==============================] - 9s 277us/sample - loss: 0.0269 - acc: 0.9949 - val_loss: 0.0992 - val_acc: 0.9710\n",
            "Epoch 36/50\n",
            "33600/33600 [==============================] - 10s 284us/sample - loss: 0.0252 - acc: 0.9958 - val_loss: 0.0986 - val_acc: 0.9711\n",
            "Epoch 37/50\n",
            "33600/33600 [==============================] - 9s 268us/sample - loss: 0.0239 - acc: 0.9959 - val_loss: 0.0984 - val_acc: 0.9713\n",
            "Epoch 38/50\n",
            "33600/33600 [==============================] - 9s 268us/sample - loss: 0.0227 - acc: 0.9960 - val_loss: 0.0990 - val_acc: 0.9714\n",
            "Epoch 39/50\n",
            "33600/33600 [==============================] - 9s 279us/sample - loss: 0.0216 - acc: 0.9967 - val_loss: 0.0960 - val_acc: 0.9723\n",
            "Epoch 40/50\n",
            "33600/33600 [==============================] - 9s 282us/sample - loss: 0.0205 - acc: 0.9969 - val_loss: 0.0969 - val_acc: 0.9717\n",
            "Epoch 41/50\n",
            "33600/33600 [==============================] - 9s 269us/sample - loss: 0.0194 - acc: 0.9971 - val_loss: 0.0982 - val_acc: 0.9718\n",
            "Epoch 42/50\n",
            "33600/33600 [==============================] - 11s 320us/sample - loss: 0.0184 - acc: 0.9972 - val_loss: 0.0958 - val_acc: 0.9726\n",
            "Epoch 43/50\n",
            "33600/33600 [==============================] - 11s 322us/sample - loss: 0.0175 - acc: 0.9975 - val_loss: 0.0970 - val_acc: 0.9727\n",
            "Epoch 44/50\n",
            "33600/33600 [==============================] - 10s 284us/sample - loss: 0.0166 - acc: 0.9978 - val_loss: 0.0968 - val_acc: 0.9726\n",
            "Epoch 45/50\n",
            "33600/33600 [==============================] - 9s 281us/sample - loss: 0.0158 - acc: 0.9980 - val_loss: 0.0964 - val_acc: 0.9732\n",
            "Epoch 46/50\n",
            "33600/33600 [==============================] - 10s 293us/sample - loss: 0.0151 - acc: 0.9983 - val_loss: 0.0957 - val_acc: 0.9735\n",
            "Epoch 47/50\n",
            "33600/33600 [==============================] - 10s 293us/sample - loss: 0.0144 - acc: 0.9981 - val_loss: 0.0953 - val_acc: 0.9737\n",
            "Epoch 48/50\n",
            "33600/33600 [==============================] - 10s 298us/sample - loss: 0.0137 - acc: 0.9985 - val_loss: 0.0950 - val_acc: 0.9736\n",
            "Epoch 49/50\n",
            "33600/33600 [==============================] - 10s 295us/sample - loss: 0.0131 - acc: 0.9988 - val_loss: 0.0960 - val_acc: 0.9733\n",
            "Epoch 50/50\n",
            "33600/33600 [==============================] - 10s 286us/sample - loss: 0.0124 - acc: 0.9988 - val_loss: 0.0956 - val_acc: 0.9738\n",
            "--- 479.3858177661896 seconds ---\n"
          ],
          "name": "stdout"
        },
        {
          "output_type": "display_data",
          "data": {
            "image/png": "[encoded data removed]",
            "text/plain": [
              "<Figure size 576x396 with 2 Axes>"
            ]
          },
          "metadata": {
            "tags": []
          }
        }
      ]
    },
    {
      "cell_type": "code",
      "metadata": {
        "id": "IMyKT4Iyl6hX",
        "colab_type": "code",
        "colab": {
          "base_uri": "https://localhost:8080/",
          "height": 68
        },
        "outputId": "f6839723-4132-4ec6-ffec-0fa540a9d820"
      },
      "source": [
        "loss_and_metrics = model.evaluate(X_test, Y_test, verbose=2)\n",
        "\n",
        "print(\"Test Loss\", loss_and_metrics[0])\n",
        "print(\"Test Accuracy\", loss_and_metrics[1])"
      ],
      "execution_count": 23,
      "outputs": [
        {
          "output_type": "stream",
          "text": [
            " - 1s - loss: 0.0956 - acc: 0.9738\n",
            "Test Loss 0.09563062831299335\n",
            "Test Accuracy 0.97380954\n"
          ],
          "name": "stdout"
        }
      ]
    },
    {
      "cell_type": "code",
      "metadata": {
        "id": "3s_v1hyxno4v",
        "colab_type": "code",
        "colab": {
          "base_uri": "https://localhost:8080/",
          "height": 382
        },
        "outputId": "52729a27-0478-41b3-eca5-57d6128cd98e"
      },
      "source": [
        "pd.DataFrame(history.history).plot(figsize=(8, 5))\n",
        "plt.grid(True)\n",
        "#plt.gca().set_ylim(0, 1)\n",
        "save_fig(\"keras_learning_curves_plot\")\n",
        "plt.show()"
      ],
      "execution_count": 24,
      "outputs": [
        {
          "output_type": "stream",
          "text": [
            "Saving figure keras_learning_curves_plot\n"
          ],
          "name": "stdout"
        },
        {
          "output_type": "display_data",
          "data": {
            "image/png": "[encoded data removed]",
            "text/plain": [
              "<Figure size 576x360 with 1 Axes>"
            ]
          },
          "metadata": {
            "tags": []
          }
        }
      ]
    },
    {
      "cell_type": "code",
      "metadata": {
        "id": "6cSBmX3_qEUo",
        "colab_type": "code",
        "colab": {}
      },
      "source": [
        ""
      ],
      "execution_count": 0,
      "outputs": []
    },
    {
      "cell_type": "markdown",
      "metadata": {
        "id": "7uU6rz3VqTb8",
        "colab_type": "text"
      },
      "source": [
        "## Increase Layers to 6, Back Down the the Nodes - to 100 each"
      ]
    },
    {
      "cell_type": "code",
      "metadata": {
        "id": "2Cmoqsm5qZV_",
        "colab_type": "code",
        "colab": {
          "base_uri": "https://localhost:8080/",
          "height": 2135
        },
        "outputId": "44b1a85b-a437-4c6b-e818-34a95ffbdeca"
      },
      "source": [
        "model = keras.models.Sequential([\n",
        "    keras.layers.Flatten(input_shape=[784, ]),\n",
        "    keras.layers.Dense(100, activation=\"relu\"),\n",
        "    keras.layers.Dense(100, activation=\"relu\"),\n",
        "     keras.layers.Dense(100, activation=\"relu\"),\n",
        "     keras.layers.Dense(100, activation=\"relu\"),\n",
        "     keras.layers.Dense(100, activation=\"relu\"),\n",
        "    keras.layers.Dense(10, activation=\"softmax\")])\n",
        "\n",
        "model.compile(loss='categorical_crossentropy', metrics=['accuracy'], optimizer='sgd')\n",
        "start_time = time.time()\n",
        "\n",
        "\n",
        "history = model.fit(X_train, Y_train, epochs = 50, validation_data=(X_test, Y_test))\n",
        "\n",
        "print(\"--- %s seconds ---\" % (time.time() - start_time))\n",
        "\n",
        "\n",
        "fig = plt.figure()\n",
        "plt.subplot(2,1,1)\n",
        "plt.plot(history.history['acc'])\n",
        "plt.plot(history.history['val_acc'])\n",
        "plt.title('model accuracy')\n",
        "plt.ylabel('accuracy')\n",
        "plt.xlabel('epoch')\n",
        "plt.legend(['train', 'test'], loc='lower right')\n",
        "\n",
        "plt.subplot(2,1,2)\n",
        "plt.plot(history.history['loss'])\n",
        "plt.plot(history.history['val_loss'])\n",
        "plt.title('model loss')\n",
        "plt.ylabel('loss')\n",
        "plt.xlabel('epoch')\n",
        "plt.legend(['train', 'test'], loc='upper right')\n",
        "\n",
        "plt.tight_layout()"
      ],
      "execution_count": 25,
      "outputs": [
        {
          "output_type": "stream",
          "text": [
            "Train on 33600 samples, validate on 8400 samples\n",
            "Epoch 1/50\n",
            "33600/33600 [==============================] - 5s 162us/sample - loss: 1.2111 - acc: 0.6531 - val_loss: 0.4361 - val_acc: 0.8649\n",
            "Epoch 2/50\n",
            "33600/33600 [==============================] - 5s 157us/sample - loss: 0.3495 - acc: 0.8962 - val_loss: 0.3024 - val_acc: 0.9119\n",
            "Epoch 3/50\n",
            "33600/33600 [==============================] - 5s 155us/sample - loss: 0.2626 - acc: 0.9216 - val_loss: 0.2580 - val_acc: 0.9217\n",
            "Epoch 4/50\n",
            "33600/33600 [==============================] - 5s 153us/sample - loss: 0.2118 - acc: 0.9365 - val_loss: 0.2145 - val_acc: 0.9400\n",
            "Epoch 5/50\n",
            "33600/33600 [==============================] - 5s 152us/sample - loss: 0.1769 - acc: 0.9472 - val_loss: 0.1935 - val_acc: 0.9444\n",
            "Epoch 6/50\n",
            "33600/33600 [==============================] - 5s 152us/sample - loss: 0.1523 - acc: 0.9540 - val_loss: 0.1865 - val_acc: 0.9449\n",
            "Epoch 7/50\n",
            "33600/33600 [==============================] - 5s 150us/sample - loss: 0.1331 - acc: 0.9591 - val_loss: 0.1663 - val_acc: 0.9517\n",
            "Epoch 8/50\n",
            "33600/33600 [==============================] - 5s 152us/sample - loss: 0.1184 - acc: 0.9635 - val_loss: 0.1619 - val_acc: 0.9525\n",
            "Epoch 9/50\n",
            "33600/33600 [==============================] - 5s 148us/sample - loss: 0.1058 - acc: 0.9682 - val_loss: 0.1451 - val_acc: 0.9577\n",
            "Epoch 10/50\n",
            "33600/33600 [==============================] - 5s 148us/sample - loss: 0.0940 - acc: 0.9723 - val_loss: 0.1380 - val_acc: 0.9602\n",
            "Epoch 11/50\n",
            "33600/33600 [==============================] - 5s 149us/sample - loss: 0.0852 - acc: 0.9742 - val_loss: 0.1400 - val_acc: 0.9614\n",
            "Epoch 12/50\n",
            "33600/33600 [==============================] - 5s 150us/sample - loss: 0.0768 - acc: 0.9762 - val_loss: 0.1474 - val_acc: 0.9608\n",
            "Epoch 13/50\n",
            "33600/33600 [==============================] - 5s 148us/sample - loss: 0.0696 - acc: 0.9791 - val_loss: 0.1342 - val_acc: 0.9637\n",
            "Epoch 14/50\n",
            "33600/33600 [==============================] - 5s 144us/sample - loss: 0.0628 - acc: 0.9813 - val_loss: 0.1283 - val_acc: 0.9635\n",
            "Epoch 15/50\n",
            "33600/33600 [==============================] - 5s 148us/sample - loss: 0.0576 - acc: 0.9827 - val_loss: 0.1274 - val_acc: 0.9643\n",
            "Epoch 16/50\n",
            "33600/33600 [==============================] - 5s 141us/sample - loss: 0.0513 - acc: 0.9855 - val_loss: 0.1249 - val_acc: 0.9656\n",
            "Epoch 17/50\n",
            "33600/33600 [==============================] - 5s 144us/sample - loss: 0.0484 - acc: 0.9854 - val_loss: 0.1525 - val_acc: 0.9587\n",
            "Epoch 18/50\n",
            "33600/33600 [==============================] - 5s 145us/sample - loss: 0.0425 - acc: 0.9876 - val_loss: 0.1319 - val_acc: 0.9644\n",
            "Epoch 19/50\n",
            "33600/33600 [==============================] - 5s 147us/sample - loss: 0.0378 - acc: 0.9889 - val_loss: 0.1308 - val_acc: 0.9643\n",
            "Epoch 20/50\n",
            "33600/33600 [==============================] - 5s 144us/sample - loss: 0.0344 - acc: 0.9899 - val_loss: 0.1226 - val_acc: 0.9674\n",
            "Epoch 21/50\n",
            "33600/33600 [==============================] - 5s 147us/sample - loss: 0.0324 - acc: 0.9913 - val_loss: 0.1401 - val_acc: 0.9638\n",
            "Epoch 22/50\n",
            "33600/33600 [==============================] - 5s 148us/sample - loss: 0.0275 - acc: 0.9924 - val_loss: 0.1300 - val_acc: 0.9652\n",
            "Epoch 23/50\n",
            "33600/33600 [==============================] - 5s 145us/sample - loss: 0.0262 - acc: 0.9922 - val_loss: 0.1278 - val_acc: 0.9681\n",
            "Epoch 24/50\n",
            "33600/33600 [==============================] - 5s 149us/sample - loss: 0.0234 - acc: 0.9937 - val_loss: 0.1345 - val_acc: 0.9661\n",
            "Epoch 25/50\n",
            "33600/33600 [==============================] - 5s 144us/sample - loss: 0.0217 - acc: 0.9946 - val_loss: 0.1314 - val_acc: 0.9676\n",
            "Epoch 26/50\n",
            "33600/33600 [==============================] - 5s 143us/sample - loss: 0.0173 - acc: 0.9961 - val_loss: 0.1337 - val_acc: 0.9679\n",
            "Epoch 27/50\n",
            "33600/33600 [==============================] - 5s 142us/sample - loss: 0.0159 - acc: 0.9962 - val_loss: 0.1321 - val_acc: 0.9665\n",
            "Epoch 28/50\n",
            "33600/33600 [==============================] - 5s 150us/sample - loss: 0.0146 - acc: 0.9965 - val_loss: 0.1303 - val_acc: 0.9674\n",
            "Epoch 29/50\n",
            "33600/33600 [==============================] - 5s 147us/sample - loss: 0.0112 - acc: 0.9978 - val_loss: 0.1365 - val_acc: 0.9664\n",
            "Epoch 30/50\n",
            "33600/33600 [==============================] - 5s 146us/sample - loss: 0.0109 - acc: 0.9979 - val_loss: 0.1353 - val_acc: 0.9677\n",
            "Epoch 31/50\n",
            "33600/33600 [==============================] - 5s 150us/sample - loss: 0.0086 - acc: 0.9985 - val_loss: 0.1413 - val_acc: 0.9674\n",
            "Epoch 32/50\n",
            "33600/33600 [==============================] - 5s 146us/sample - loss: 0.0086 - acc: 0.9984 - val_loss: 0.1425 - val_acc: 0.9682\n",
            "Epoch 33/50\n",
            "33600/33600 [==============================] - 5s 152us/sample - loss: 0.0070 - acc: 0.9988 - val_loss: 0.1411 - val_acc: 0.9692\n",
            "Epoch 34/50\n",
            "33600/33600 [==============================] - 5s 153us/sample - loss: 0.0058 - acc: 0.9992 - val_loss: 0.1414 - val_acc: 0.9682\n",
            "Epoch 35/50\n",
            "33600/33600 [==============================] - 5s 149us/sample - loss: 0.0048 - acc: 0.9994 - val_loss: 0.1524 - val_acc: 0.9673\n",
            "Epoch 36/50\n",
            "33600/33600 [==============================] - 5s 151us/sample - loss: 0.0045 - acc: 0.9996 - val_loss: 0.1561 - val_acc: 0.9664\n",
            "Epoch 37/50\n",
            "33600/33600 [==============================] - 5s 151us/sample - loss: 0.0057 - acc: 0.9991 - val_loss: 0.1494 - val_acc: 0.9681\n",
            "Epoch 38/50\n",
            "33600/33600 [==============================] - 5s 148us/sample - loss: 0.0032 - acc: 0.9998 - val_loss: 0.1507 - val_acc: 0.9688\n",
            "Epoch 39/50\n",
            "33600/33600 [==============================] - 5s 153us/sample - loss: 0.0029 - acc: 0.9998 - val_loss: 0.1561 - val_acc: 0.9681\n",
            "Epoch 40/50\n",
            "33600/33600 [==============================] - 5s 152us/sample - loss: 0.0026 - acc: 0.9999 - val_loss: 0.1558 - val_acc: 0.9677\n",
            "Epoch 41/50\n",
            "33600/33600 [==============================] - 5s 149us/sample - loss: 0.0023 - acc: 0.9999 - val_loss: 0.1551 - val_acc: 0.9683\n",
            "Epoch 42/50\n",
            "33600/33600 [==============================] - 5s 144us/sample - loss: 0.0021 - acc: 0.9999 - val_loss: 0.1562 - val_acc: 0.9685\n",
            "Epoch 43/50\n",
            "33600/33600 [==============================] - 5s 142us/sample - loss: 0.0019 - acc: 0.9999 - val_loss: 0.1573 - val_acc: 0.9686\n",
            "Epoch 44/50\n",
            "33600/33600 [==============================] - 5s 143us/sample - loss: 0.0018 - acc: 0.9999 - val_loss: 0.1597 - val_acc: 0.9688\n",
            "Epoch 45/50\n",
            "33600/33600 [==============================] - 5s 149us/sample - loss: 0.0017 - acc: 0.9999 - val_loss: 0.1600 - val_acc: 0.9679\n",
            "Epoch 46/50\n",
            "33600/33600 [==============================] - 5s 153us/sample - loss: 0.0015 - acc: 0.9999 - val_loss: 0.1609 - val_acc: 0.9687\n",
            "Epoch 47/50\n",
            "33600/33600 [==============================] - 6s 169us/sample - loss: 0.0014 - acc: 0.9999 - val_loss: 0.1630 - val_acc: 0.9692\n",
            "Epoch 48/50\n",
            "33600/33600 [==============================] - 6s 167us/sample - loss: 0.0013 - acc: 0.9999 - val_loss: 0.1622 - val_acc: 0.9683\n",
            "Epoch 49/50\n",
            "33600/33600 [==============================] - 5s 149us/sample - loss: 0.0012 - acc: 0.9999 - val_loss: 0.1647 - val_acc: 0.9683\n",
            "Epoch 50/50\n",
            "33600/33600 [==============================] - 5s 147us/sample - loss: 0.0012 - acc: 0.9999 - val_loss: 0.1652 - val_acc: 0.9685\n",
            "--- 251.92534112930298 seconds ---\n"
          ],
          "name": "stdout"
        },
        {
          "output_type": "display_data",
          "data": {
            "image/png": "[encoded data removed]",
            "text/plain": [
              "<Figure size 576x396 with 2 Axes>"
            ]
          },
          "metadata": {
            "tags": []
          }
        }
      ]
    },
    {
      "cell_type": "code",
      "metadata": {
        "id": "84C4Nj3nuKx5",
        "colab_type": "code",
        "colab": {
          "base_uri": "https://localhost:8080/",
          "height": 68
        },
        "outputId": "90e13d27-7c48-473b-9188-15e7d779ed9f"
      },
      "source": [
        "loss_and_metrics = model.evaluate(X_test, Y_test, verbose=2)\n",
        "\n",
        "print(\"Test Loss\", loss_and_metrics[0])\n",
        "print(\"Test Accuracy\", loss_and_metrics[1])"
      ],
      "execution_count": 26,
      "outputs": [
        {
          "output_type": "stream",
          "text": [
            " - 0s - loss: 0.1652 - acc: 0.9685\n",
            "Test Loss 0.16524877989974074\n",
            "Test Accuracy 0.9684524\n"
          ],
          "name": "stdout"
        }
      ]
    },
    {
      "cell_type": "code",
      "metadata": {
        "id": "hcgn9_7KuMOY",
        "colab_type": "code",
        "colab": {
          "base_uri": "https://localhost:8080/",
          "height": 2135
        },
        "outputId": "973124a5-3ea5-4e68-b66d-ea48c670d6af"
      },
      "source": [
        "model = keras.models.Sequential([\n",
        "    keras.layers.Flatten(input_shape=[784, ]),\n",
        "    keras.layers.Dense(600, activation=\"relu\"),\n",
        "    keras.layers.Dense(500, activation=\"relu\"),\n",
        "     keras.layers.Dense(400, activation=\"relu\"),\n",
        "     keras.layers.Dense(300, activation=\"relu\"),\n",
        "     keras.layers.Dense(200, activation=\"relu\"),\n",
        "    keras.layers.Dense(10, activation=\"softmax\")])\n",
        "\n",
        "model.compile(loss='categorical_crossentropy', metrics=['accuracy'], optimizer='sgd')\n",
        "start_time = time.time()\n",
        "\n",
        "\n",
        "history = model.fit(X_train, Y_train, epochs = 50, validation_data=(X_test, Y_test))\n",
        "\n",
        "print(\"--- %s seconds ---\" % (time.time() - start_time))\n",
        "\n",
        "\n",
        "fig = plt.figure()\n",
        "plt.subplot(2,1,1)\n",
        "plt.plot(history.history['acc'])\n",
        "plt.plot(history.history['val_acc'])\n",
        "plt.title('model accuracy')\n",
        "plt.ylabel('accuracy')\n",
        "plt.xlabel('epoch')\n",
        "plt.legend(['train', 'test'], loc='lower right')\n",
        "\n",
        "plt.subplot(2,1,2)\n",
        "plt.plot(history.history['loss'])\n",
        "plt.plot(history.history['val_loss'])\n",
        "plt.title('model loss')\n",
        "plt.ylabel('loss')\n",
        "plt.xlabel('epoch')\n",
        "plt.legend(['train', 'test'], loc='upper right')\n",
        "\n",
        "plt.tight_layout()"
      ],
      "execution_count": 27,
      "outputs": [
        {
          "output_type": "stream",
          "text": [
            "Train on 33600 samples, validate on 8400 samples\n",
            "Epoch 1/50\n",
            "33600/33600 [==============================] - 18s 534us/sample - loss: 0.7883 - acc: 0.7921 - val_loss: 0.3184 - val_acc: 0.9060\n",
            "Epoch 2/50\n",
            "33600/33600 [==============================] - 18s 523us/sample - loss: 0.2590 - acc: 0.9226 - val_loss: 0.2581 - val_acc: 0.9236\n",
            "Epoch 3/50\n",
            "33600/33600 [==============================] - 18s 524us/sample - loss: 0.1894 - acc: 0.9451 - val_loss: 0.1982 - val_acc: 0.9427\n",
            "Epoch 4/50\n",
            "33600/33600 [==============================] - 18s 523us/sample - loss: 0.1482 - acc: 0.9558 - val_loss: 0.1617 - val_acc: 0.9527\n",
            "Epoch 5/50\n",
            "33600/33600 [==============================] - 17s 520us/sample - loss: 0.1190 - acc: 0.9655 - val_loss: 0.1603 - val_acc: 0.9513\n",
            "Epoch 6/50\n",
            "33600/33600 [==============================] - 17s 515us/sample - loss: 0.0998 - acc: 0.9704 - val_loss: 0.1323 - val_acc: 0.9613\n",
            "Epoch 7/50\n",
            "33600/33600 [==============================] - 17s 518us/sample - loss: 0.0828 - acc: 0.9751 - val_loss: 0.1358 - val_acc: 0.9596\n",
            "Epoch 8/50\n",
            "33600/33600 [==============================] - 18s 526us/sample - loss: 0.0693 - acc: 0.9798 - val_loss: 0.1169 - val_acc: 0.9660\n",
            "Epoch 9/50\n",
            "33600/33600 [==============================] - 18s 533us/sample - loss: 0.0587 - acc: 0.9832 - val_loss: 0.1086 - val_acc: 0.9680\n",
            "Epoch 10/50\n",
            "33600/33600 [==============================] - 18s 530us/sample - loss: 0.0492 - acc: 0.9862 - val_loss: 0.1162 - val_acc: 0.9664\n",
            "Epoch 11/50\n",
            "33600/33600 [==============================] - 17s 520us/sample - loss: 0.0412 - acc: 0.9887 - val_loss: 0.1027 - val_acc: 0.9712\n",
            "Epoch 12/50\n",
            "33600/33600 [==============================] - 18s 530us/sample - loss: 0.0349 - acc: 0.9907 - val_loss: 0.1112 - val_acc: 0.9670\n",
            "Epoch 13/50\n",
            "33600/33600 [==============================] - 18s 522us/sample - loss: 0.0291 - acc: 0.9924 - val_loss: 0.1076 - val_acc: 0.9692\n",
            "Epoch 14/50\n",
            "33600/33600 [==============================] - 18s 521us/sample - loss: 0.0239 - acc: 0.9942 - val_loss: 0.1050 - val_acc: 0.9704\n",
            "Epoch 15/50\n",
            "33600/33600 [==============================] - 18s 526us/sample - loss: 0.0186 - acc: 0.9962 - val_loss: 0.1019 - val_acc: 0.9714\n",
            "Epoch 16/50\n",
            "33600/33600 [==============================] - 18s 532us/sample - loss: 0.0152 - acc: 0.9971 - val_loss: 0.1180 - val_acc: 0.9702\n",
            "Epoch 17/50\n",
            "33600/33600 [==============================] - 19s 552us/sample - loss: 0.0132 - acc: 0.9973 - val_loss: 0.1050 - val_acc: 0.9730\n",
            "Epoch 18/50\n",
            "33600/33600 [==============================] - 18s 524us/sample - loss: 0.0109 - acc: 0.9981 - val_loss: 0.1039 - val_acc: 0.9714\n",
            "Epoch 19/50\n",
            "33600/33600 [==============================] - 18s 525us/sample - loss: 0.0075 - acc: 0.9990 - val_loss: 0.1050 - val_acc: 0.9723\n",
            "Epoch 20/50\n",
            "33600/33600 [==============================] - 18s 532us/sample - loss: 0.0066 - acc: 0.9993 - val_loss: 0.1041 - val_acc: 0.9710\n",
            "Epoch 21/50\n",
            "33600/33600 [==============================] - 18s 525us/sample - loss: 0.0050 - acc: 0.9997 - val_loss: 0.1062 - val_acc: 0.9719\n",
            "Epoch 22/50\n",
            "33600/33600 [==============================] - 17s 510us/sample - loss: 0.0040 - acc: 0.9998 - val_loss: 0.1106 - val_acc: 0.9720\n",
            "Epoch 23/50\n",
            "33600/33600 [==============================] - 17s 520us/sample - loss: 0.0036 - acc: 0.9998 - val_loss: 0.1084 - val_acc: 0.9725\n",
            "Epoch 24/50\n",
            "33600/33600 [==============================] - 18s 526us/sample - loss: 0.0028 - acc: 0.9999 - val_loss: 0.1086 - val_acc: 0.9723\n",
            "Epoch 25/50\n",
            "33600/33600 [==============================] - 18s 524us/sample - loss: 0.0024 - acc: 0.9999 - val_loss: 0.1111 - val_acc: 0.9720\n",
            "Epoch 26/50\n",
            "33600/33600 [==============================] - 17s 516us/sample - loss: 0.0022 - acc: 1.0000 - val_loss: 0.1123 - val_acc: 0.9725\n",
            "Epoch 27/50\n",
            "33600/33600 [==============================] - 17s 512us/sample - loss: 0.0019 - acc: 1.0000 - val_loss: 0.1127 - val_acc: 0.9721\n",
            "Epoch 28/50\n",
            "33600/33600 [==============================] - 17s 517us/sample - loss: 0.0017 - acc: 1.0000 - val_loss: 0.1146 - val_acc: 0.9724\n",
            "Epoch 29/50\n",
            "33600/33600 [==============================] - 17s 516us/sample - loss: 0.0015 - acc: 1.0000 - val_loss: 0.1160 - val_acc: 0.9725\n",
            "Epoch 30/50\n",
            "33600/33600 [==============================] - 17s 513us/sample - loss: 0.0014 - acc: 1.0000 - val_loss: 0.1178 - val_acc: 0.9724\n",
            "Epoch 31/50\n",
            "33600/33600 [==============================] - 17s 511us/sample - loss: 0.0013 - acc: 1.0000 - val_loss: 0.1166 - val_acc: 0.9720\n",
            "Epoch 32/50\n",
            "33600/33600 [==============================] - 18s 527us/sample - loss: 0.0012 - acc: 1.0000 - val_loss: 0.1172 - val_acc: 0.9726\n",
            "Epoch 33/50\n",
            "33600/33600 [==============================] - 18s 524us/sample - loss: 0.0011 - acc: 1.0000 - val_loss: 0.1175 - val_acc: 0.9723\n",
            "Epoch 34/50\n",
            "33600/33600 [==============================] - 17s 517us/sample - loss: 0.0010 - acc: 1.0000 - val_loss: 0.1187 - val_acc: 0.9723\n",
            "Epoch 35/50\n",
            "33600/33600 [==============================] - 18s 545us/sample - loss: 9.6081e-04 - acc: 1.0000 - val_loss: 0.1209 - val_acc: 0.9718\n",
            "Epoch 36/50\n",
            "33600/33600 [==============================] - 18s 530us/sample - loss: 9.0306e-04 - acc: 1.0000 - val_loss: 0.1195 - val_acc: 0.9725\n",
            "Epoch 37/50\n",
            "33600/33600 [==============================] - 18s 542us/sample - loss: 8.4421e-04 - acc: 1.0000 - val_loss: 0.1213 - val_acc: 0.9730\n",
            "Epoch 38/50\n",
            "33600/33600 [==============================] - 18s 524us/sample - loss: 8.0346e-04 - acc: 1.0000 - val_loss: 0.1214 - val_acc: 0.9725\n",
            "Epoch 39/50\n",
            "33600/33600 [==============================] - 17s 515us/sample - loss: 7.6221e-04 - acc: 1.0000 - val_loss: 0.1223 - val_acc: 0.9721\n",
            "Epoch 40/50\n",
            "33600/33600 [==============================] - 17s 516us/sample - loss: 7.1757e-04 - acc: 1.0000 - val_loss: 0.1229 - val_acc: 0.9729\n",
            "Epoch 41/50\n",
            "33600/33600 [==============================] - 17s 520us/sample - loss: 6.8708e-04 - acc: 1.0000 - val_loss: 0.1228 - val_acc: 0.9723\n",
            "Epoch 42/50\n",
            "33600/33600 [==============================] - 18s 522us/sample - loss: 6.5210e-04 - acc: 1.0000 - val_loss: 0.1243 - val_acc: 0.9727\n",
            "Epoch 43/50\n",
            "33600/33600 [==============================] - 18s 532us/sample - loss: 6.2392e-04 - acc: 1.0000 - val_loss: 0.1245 - val_acc: 0.9726\n",
            "Epoch 44/50\n",
            "33600/33600 [==============================] - 18s 543us/sample - loss: 5.9626e-04 - acc: 1.0000 - val_loss: 0.1249 - val_acc: 0.9729\n",
            "Epoch 45/50\n",
            "33600/33600 [==============================] - 18s 528us/sample - loss: 5.7136e-04 - acc: 1.0000 - val_loss: 0.1249 - val_acc: 0.9729\n",
            "Epoch 46/50\n",
            "33600/33600 [==============================] - 18s 528us/sample - loss: 5.4677e-04 - acc: 1.0000 - val_loss: 0.1254 - val_acc: 0.9731\n",
            "Epoch 47/50\n",
            "33600/33600 [==============================] - 18s 524us/sample - loss: 5.2637e-04 - acc: 1.0000 - val_loss: 0.1261 - val_acc: 0.9724\n",
            "Epoch 48/50\n",
            "33600/33600 [==============================] - 18s 527us/sample - loss: 5.0488e-04 - acc: 1.0000 - val_loss: 0.1265 - val_acc: 0.9726\n",
            "Epoch 49/50\n",
            "33600/33600 [==============================] - 18s 545us/sample - loss: 4.8485e-04 - acc: 1.0000 - val_loss: 0.1269 - val_acc: 0.9725\n",
            "Epoch 50/50\n",
            "33600/33600 [==============================] - 18s 526us/sample - loss: 4.6665e-04 - acc: 1.0000 - val_loss: 0.1268 - val_acc: 0.9729\n",
            "--- 883.0965101718903 seconds ---\n"
          ],
          "name": "stdout"
        },
        {
          "output_type": "display_data",
          "data": {
            "image/png": "[encoded data removed]",
            "text/plain": [
              "<Figure size 576x396 with 2 Axes>"
            ]
          },
          "metadata": {
            "tags": []
          }
        }
      ]
    },
    {
      "cell_type": "code",
      "metadata": {
        "id": "7f72XdxfNWRx",
        "colab_type": "code",
        "colab": {
          "base_uri": "https://localhost:8080/",
          "height": 68
        },
        "outputId": "6b5c4939-8a5c-4a4a-8619-35d5ebeb2f8c"
      },
      "source": [
        "loss_and_metrics = model.evaluate(X_test, Y_test, verbose=2)\n",
        "\n",
        "print(\"Test Loss\", loss_and_metrics[0])\n",
        "print(\"Test Accuracy\", loss_and_metrics[1])"
      ],
      "execution_count": 28,
      "outputs": [
        {
          "output_type": "stream",
          "text": [
            " - 1s - loss: 0.1268 - acc: 0.9729\n",
            "Test Loss 0.12679836423226723\n",
            "Test Accuracy 0.9728571\n"
          ],
          "name": "stdout"
        }
      ]
    },
    {
      "cell_type": "code",
      "metadata": {
        "id": "s1upU1VjNbtf",
        "colab_type": "code",
        "colab": {}
      },
      "source": [
        ""
      ],
      "execution_count": 0,
      "outputs": []
    },
    {
      "cell_type": "markdown",
      "metadata": {
        "id": "8EHHVGtuXJsX",
        "colab_type": "text"
      },
      "source": [
        "# Conclusion"
      ]
    },
    {
      "cell_type": "markdown",
      "metadata": {
        "id": "u_8A5tljXPjH",
        "colab_type": "text"
      },
      "source": [
        "Adjusting nodes and layers can be very useful for speeding up processing time with a trade-off between time and accuracy and loss rates.    For the purposes of the kind of visualization analysis conducted here fewer layers with more nodes would likely prove most efficient with relatively high accuracy scores.   "
      ]
    },
    {
      "cell_type": "code",
      "metadata": {
        "id": "EbDL8Rc6XQLQ",
        "colab_type": "code",
        "colab": {}
      },
      "source": [
        ""
      ],
      "execution_count": 0,
      "outputs": []
    }
  ]
}