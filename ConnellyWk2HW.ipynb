{
  "nbformat": 4,
  "nbformat_minor": 0,
  "metadata": {
    "colab": {
      "name": "ConnellyWk2HW.ipynb",
      "version": "0.3.2",
      "provenance": [],
      "include_colab_link": true
    },
    "language_info": {
      "codemirror_mode": {
        "name": "ipython",
        "version": 3
      },
      "file_extension": ".py",
      "mimetype": "text/x-python",
      "name": "python",
      "nbconvert_exporter": "python",
      "pygments_lexer": "ipython3",
      "version": "3.6.3"
    },
    "kernelspec": {
      "display_name": "Python 3",
      "language": "python",
      "name": "python3"
    }
  },
  "cells": [
    {
      "cell_type": "markdown",
      "metadata": {
        "id": "view-in-github",
        "colab_type": "text"
      },
      "source": [
        "<a href=\"https://colab.research.google.com/github/GoPackers/NU422/blob/master/ConnellyWk2HW.ipynb\" target=\"_parent\"><img src=\"https://colab.research.google.com/assets/colab-badge.svg\" alt=\"Open In Colab\"/></a>"
      ]
    },
    {
      "metadata": {
        "id": "9-8AFxOMQYk_",
        "colab_type": "text"
      },
      "cell_type": "markdown",
      "source": [
        "# Bank Marketing Study - Evaluating Classifcation Model\n",
        "Terrence Connelly, MSDS422"
      ]
    },
    {
      "metadata": {
        "id": "lKQ4GdaAQa_Z",
        "colab_type": "text"
      },
      "cell_type": "markdown",
      "source": [
        "**Management Problem & Summary:  **We are advising the bank about machine learning methods to guide telephone marketing campaigns. We look at two modeling methods.   And, given the results of our research, we seek to determine which group of banking clients appears to be the best target for direct marketing efforts.  "
      ]
    },
    {
      "metadata": {
        "id": "53sNzzAtQmIi",
        "colab_type": "text"
      },
      "cell_type": "markdown",
      "source": [
        "# INGEST"
      ]
    },
    {
      "metadata": {
        "id": "u1B8b0UQQYlC",
        "colab_type": "code",
        "colab": {
          "base_uri": "https://localhost:8080/",
          "height": 34
        },
        "outputId": "182570f1-7df4-4647-83b9-0f23c62cf23a"
      },
      "cell_type": "code",
      "source": [
        "import pandas as pd  # data frame operations  \n",
        "import numpy as np  # arrays and math functions\n",
        "import matplotlib.pyplot as plt  # static plotting\n",
        "%matplotlib inline\n",
        "\n",
        "import seaborn as sns  # pretty plotting, including heat map\n",
        "plt.style.use('fivethirtyeight')\n",
        "\n",
        "# correlation heat map setup for seaborn\n",
        "def corr_chart(df_corr):\n",
        "    corr=df_corr.corr()\n",
        "    #screen top half to get a triangle\n",
        "    top = np.zeros_like(corr, dtype=np.bool)\n",
        "    top[np.triu_indices_from(top)] = True\n",
        "    fig=plt.figure()\n",
        "    fig, ax = plt.subplots(figsize=(12,12))\n",
        "    sns.heatmap(corr, mask=top, cmap='coolwarm', \n",
        "        center = 0, square=True, \n",
        "        linewidths=.5, cbar_kws={'shrink':.5}, \n",
        "        annot = True, annot_kws={'size': 9}, fmt = '.3f')           \n",
        "    plt.xticks(rotation=45) # rotate variable labels on columns (x axis)\n",
        "    plt.yticks(rotation=0) # use horizontal variable labels on rows (y axis)\n",
        "    plt.title('Correlation Heat Map')   \n",
        "    plt.savefig('plot-corr-map.png', \n",
        "        bbox_inches = 'tight', dpi=None, facecolor='w', edgecolor='b', \n",
        "        orientation='portrait', papertype=None, format=None, \n",
        "        transparent=True, pad_inches=0.25, frameon=None)      \n",
        "\n",
        "np.set_printoptions(precision=3)\n",
        "\n",
        "\n",
        "from sklearn.preprocessing import OrdinalEncoder\n",
        "\n",
        "from sklearn.preprocessing import StandardScaler\n",
        "from sklearn.preprocessing import MinMaxScaler\n",
        "\n",
        "# BernoulliNB is designed for binary/boolean features\n",
        "from sklearn.naive_bayes import GaussianNB\n",
        "from sklearn.linear_model import LogisticRegression\n",
        "\n",
        "from sklearn.metrics import roc_auc_score   \n",
        "from sklearn.model_selection import KFold\n",
        "from sklearn import linear_model\n",
        "from sklearn.model_selection import train_test_split\n",
        "\n",
        "import warnings\n",
        "warnings.filterwarnings(\"ignore\")\n",
        "\n",
        "# import base packages into the namespace for this program\n",
        "import numpy as np\n",
        "import pandas as pd\n",
        "\n",
        "import os\n",
        "\n",
        "PROJECT_ROOT_DIR = \"\"\n",
        "CHAPTER_ID = \"\"\n",
        "\n",
        "def save_fig(fig_id, tight_layout=True):\n",
        "    path = os.path.join(PROJECT_ROOT_DIR, \"\", fig_id + \".png\")\n",
        "    print(\"Saving figure\", fig_id)\n",
        "    if tight_layout:\n",
        "        plt.tight_layout()\n",
        "    plt.savefig(path, format='png', dpi=300)\n",
        "\n",
        "print(\"All Packages and a Correlation Chart function loaded.  WARNING - this was created in April, 2019 and warnings were supressed.\")"
      ],
      "execution_count": 1,
      "outputs": [
        {
          "output_type": "stream",
          "text": [
            "All Packages and a Correlation Chart function loaded.  WARNING - this was created in April, 2019 and warnings were supressed.\n"
          ],
          "name": "stdout"
        }
      ]
    },
    {
      "metadata": {
        "id": "VOiNOtpQQYlM",
        "colab_type": "code",
        "colab": {
          "base_uri": "https://localhost:8080/",
          "height": 51
        },
        "outputId": "943e3f3f-0467-43c3-b0f4-a1ed5fd500e6"
      },
      "cell_type": "code",
      "source": [
        "bank = pd.read_csv('https://github.com/GoPackers/NU422/raw/master/bank.csv', sep = ';')  \n",
        "# examine the shape of original input data\n",
        "print(bank.shape)\n",
        "print(bank.dropna().shape)\n"
      ],
      "execution_count": 2,
      "outputs": [
        {
          "output_type": "stream",
          "text": [
            "(4521, 17)\n",
            "(4521, 17)\n"
          ],
          "name": "stdout"
        }
      ]
    },
    {
      "metadata": {
        "id": "cvodkEySQYlR",
        "colab_type": "code",
        "colab": {
          "base_uri": "https://localhost:8080/",
          "height": 306
        },
        "outputId": "e74f2491-f0e8-451d-dcd6-c28175650e62"
      },
      "cell_type": "code",
      "source": [
        "list(bank.columns.values)"
      ],
      "execution_count": 3,
      "outputs": [
        {
          "output_type": "execute_result",
          "data": {
            "text/plain": [
              "['age',\n",
              " 'job',\n",
              " 'marital',\n",
              " 'education',\n",
              " 'default',\n",
              " 'balance',\n",
              " 'housing',\n",
              " 'loan',\n",
              " 'contact',\n",
              " 'day',\n",
              " 'month',\n",
              " 'duration',\n",
              " 'campaign',\n",
              " 'pdays',\n",
              " 'previous',\n",
              " 'poutcome',\n",
              " 'response']"
            ]
          },
          "metadata": {
            "tags": []
          },
          "execution_count": 3
        }
      ]
    },
    {
      "metadata": {
        "id": "5ZYusjOVQYlZ",
        "colab_type": "text"
      },
      "cell_type": "markdown",
      "source": [
        "## Exploratory Data Analysis\n",
        "\n",
        ":  We use all banking client observations with complete data for these study variables.  There were 4,52 clients observed, and factors to consider included: 'age', 'job', 'marital', 'education', 'default', 'balance', 'housing', 'loan', 'contact', 'day', 'month', 'duration', 'campaign', 'pdays', 'previous', 'poutcome', and 'response' .  We focused only on the binary factors:  default yes/no, if the customer had a home loan, and if they had a personal loan.   We employed two classification methods: (1) logistic regression and Naïve Bayes and then evaluated these within a cross-validation design, using the area under the receiver operating characteristic (ROC) curve as an index of classification performance. Python scikit-learn was employed for this analysis.  Finally, in testing we looked at each binary variable individually and averaged versus the response rate.   \n"
      ]
    },
    {
      "metadata": {
        "scrolled": false,
        "id": "3wgUvCefQYlb",
        "colab_type": "code",
        "colab": {},
        "outputId": "0d286f00-6f53-464f-a90a-6a7354659e24"
      },
      "cell_type": "code",
      "source": [
        "bank.head()"
      ],
      "execution_count": 0,
      "outputs": [
        {
          "output_type": "execute_result",
          "data": {
            "text/html": [
              "<div>\n",
              "<style scoped>\n",
              "    .dataframe tbody tr th:only-of-type {\n",
              "        vertical-align: middle;\n",
              "    }\n",
              "\n",
              "    .dataframe tbody tr th {\n",
              "        vertical-align: top;\n",
              "    }\n",
              "\n",
              "    .dataframe thead th {\n",
              "        text-align: right;\n",
              "    }\n",
              "</style>\n",
              "<table border=\"1\" class=\"dataframe\">\n",
              "  <thead>\n",
              "    <tr style=\"text-align: right;\">\n",
              "      <th></th>\n",
              "      <th>age</th>\n",
              "      <th>job</th>\n",
              "      <th>marital</th>\n",
              "      <th>education</th>\n",
              "      <th>default</th>\n",
              "      <th>balance</th>\n",
              "      <th>housing</th>\n",
              "      <th>loan</th>\n",
              "      <th>contact</th>\n",
              "      <th>day</th>\n",
              "      <th>month</th>\n",
              "      <th>duration</th>\n",
              "      <th>campaign</th>\n",
              "      <th>pdays</th>\n",
              "      <th>previous</th>\n",
              "      <th>poutcome</th>\n",
              "      <th>response</th>\n",
              "    </tr>\n",
              "  </thead>\n",
              "  <tbody>\n",
              "    <tr>\n",
              "      <th>0</th>\n",
              "      <td>30</td>\n",
              "      <td>unemployed</td>\n",
              "      <td>married</td>\n",
              "      <td>primary</td>\n",
              "      <td>no</td>\n",
              "      <td>1787</td>\n",
              "      <td>no</td>\n",
              "      <td>no</td>\n",
              "      <td>cellular</td>\n",
              "      <td>19</td>\n",
              "      <td>oct</td>\n",
              "      <td>79</td>\n",
              "      <td>1</td>\n",
              "      <td>-1</td>\n",
              "      <td>0</td>\n",
              "      <td>unknown</td>\n",
              "      <td>no</td>\n",
              "    </tr>\n",
              "    <tr>\n",
              "      <th>1</th>\n",
              "      <td>33</td>\n",
              "      <td>services</td>\n",
              "      <td>married</td>\n",
              "      <td>secondary</td>\n",
              "      <td>no</td>\n",
              "      <td>4789</td>\n",
              "      <td>yes</td>\n",
              "      <td>yes</td>\n",
              "      <td>cellular</td>\n",
              "      <td>11</td>\n",
              "      <td>may</td>\n",
              "      <td>220</td>\n",
              "      <td>1</td>\n",
              "      <td>339</td>\n",
              "      <td>4</td>\n",
              "      <td>failure</td>\n",
              "      <td>no</td>\n",
              "    </tr>\n",
              "    <tr>\n",
              "      <th>2</th>\n",
              "      <td>35</td>\n",
              "      <td>management</td>\n",
              "      <td>single</td>\n",
              "      <td>tertiary</td>\n",
              "      <td>no</td>\n",
              "      <td>1350</td>\n",
              "      <td>yes</td>\n",
              "      <td>no</td>\n",
              "      <td>cellular</td>\n",
              "      <td>16</td>\n",
              "      <td>apr</td>\n",
              "      <td>185</td>\n",
              "      <td>1</td>\n",
              "      <td>330</td>\n",
              "      <td>1</td>\n",
              "      <td>failure</td>\n",
              "      <td>no</td>\n",
              "    </tr>\n",
              "    <tr>\n",
              "      <th>3</th>\n",
              "      <td>30</td>\n",
              "      <td>management</td>\n",
              "      <td>married</td>\n",
              "      <td>tertiary</td>\n",
              "      <td>no</td>\n",
              "      <td>1476</td>\n",
              "      <td>yes</td>\n",
              "      <td>yes</td>\n",
              "      <td>unknown</td>\n",
              "      <td>3</td>\n",
              "      <td>jun</td>\n",
              "      <td>199</td>\n",
              "      <td>4</td>\n",
              "      <td>-1</td>\n",
              "      <td>0</td>\n",
              "      <td>unknown</td>\n",
              "      <td>no</td>\n",
              "    </tr>\n",
              "    <tr>\n",
              "      <th>4</th>\n",
              "      <td>59</td>\n",
              "      <td>blue-collar</td>\n",
              "      <td>married</td>\n",
              "      <td>secondary</td>\n",
              "      <td>no</td>\n",
              "      <td>0</td>\n",
              "      <td>yes</td>\n",
              "      <td>no</td>\n",
              "      <td>unknown</td>\n",
              "      <td>5</td>\n",
              "      <td>may</td>\n",
              "      <td>226</td>\n",
              "      <td>1</td>\n",
              "      <td>-1</td>\n",
              "      <td>0</td>\n",
              "      <td>unknown</td>\n",
              "      <td>no</td>\n",
              "    </tr>\n",
              "  </tbody>\n",
              "</table>\n",
              "</div>"
            ],
            "text/plain": [
              "   age          job  marital  education default  balance housing loan  \\\n",
              "0   30   unemployed  married    primary      no     1787      no   no   \n",
              "1   33     services  married  secondary      no     4789     yes  yes   \n",
              "2   35   management   single   tertiary      no     1350     yes   no   \n",
              "3   30   management  married   tertiary      no     1476     yes  yes   \n",
              "4   59  blue-collar  married  secondary      no        0     yes   no   \n",
              "\n",
              "    contact  day month  duration  campaign  pdays  previous poutcome response  \n",
              "0  cellular   19   oct        79         1     -1         0  unknown       no  \n",
              "1  cellular   11   may       220         1    339         4  failure       no  \n",
              "2  cellular   16   apr       185         1    330         1  failure       no  \n",
              "3   unknown    3   jun       199         4     -1         0  unknown       no  \n",
              "4   unknown    5   may       226         1     -1         0  unknown       no  "
            ]
          },
          "metadata": {
            "tags": []
          },
          "execution_count": 297
        }
      ]
    },
    {
      "metadata": {
        "id": "ilw2KfOoQYlj",
        "colab_type": "text"
      },
      "cell_type": "markdown",
      "source": [
        "To look at data I converted a few columns to 1 and 0 to look at it"
      ]
    },
    {
      "metadata": {
        "id": "Ede0DIz7QYll",
        "colab_type": "code",
        "colab": {}
      },
      "cell_type": "code",
      "source": [
        "test = bank.copy()\n",
        "convert_to_binary = {'no' : 0, 'yes' : 1}\n",
        "test['default'] = bank['default'].map(convert_to_binary)\n",
        "test['housing'] = bank['housing'].map(convert_to_binary)\n",
        "test['loan'] = bank['loan'].map(convert_to_binary)\n",
        "test['response'] = bank['response'].map(convert_to_binary)\n",
        "test = test[['default', 'housing', 'loan', 'response']]"
      ],
      "execution_count": 0,
      "outputs": []
    },
    {
      "metadata": {
        "id": "i0G8k2GvQYlq",
        "colab_type": "code",
        "colab": {}
      },
      "cell_type": "code",
      "source": [
        "NoHome = test[test['housing'] == 0].sum()\n",
        "NoLoan = test[test['loan'] == 0].sum()"
      ],
      "execution_count": 0,
      "outputs": []
    },
    {
      "metadata": {
        "scrolled": true,
        "id": "pmkSvLg2QYlw",
        "colab_type": "code",
        "colab": {},
        "outputId": "b99ff807-e2c3-4aae-9234-73867441d1e6"
      },
      "cell_type": "code",
      "source": [
        "fig, ax = plt.subplots()\n",
        "f1 = plt.bar('No Default Hist', NoDef['response']/test['response'].count())\n",
        "f2 = plt.bar('No Home Loan', NoHome['response']/test['response'].count())\n",
        "f3 = plt.bar('No Personal Loan', NoHome['response']/test['response'].count())\n",
        "\n",
        "plt.xlabel('Loan History')\n",
        "plt.ylabel('Response/Total')\n",
        "plt.title('Response Rate By Loan History')\n"
      ],
      "execution_count": 0,
      "outputs": [
        {
          "output_type": "execute_result",
          "data": {
            "text/plain": [
              "Text(0.5, 1.0, 'Response Rate By Loan History')"
            ]
          },
          "metadata": {
            "tags": []
          },
          "execution_count": 300
        },
        {
          "output_type": "display_data",
          "data": {
            "image/png": "[encoded data removed]",
            "text/plain": [
              "<Figure size 432x288 with 1 Axes>"
            ]
          },
          "metadata": {
            "tags": []
          }
        }
      ]
    },
    {
      "metadata": {
        "id": "mpbprBW1QYl4",
        "colab_type": "text"
      },
      "cell_type": "markdown",
      "source": [
        "Now make matrix using original data"
      ]
    },
    {
      "metadata": {
        "id": "XT8IsgSJQYl5",
        "colab_type": "code",
        "colab": {}
      },
      "cell_type": "code",
      "source": [
        "convert_to_binary = {'no' : 0, 'yes' : 1}\n",
        "bank['default'] = bank['default'].map(convert_to_binary)\n",
        "bank['housing'] = bank['housing'].map(convert_to_binary)\n",
        "bank['loan'] = bank['loan'].map(convert_to_binary)\n",
        "bank['response'] = bank['response'].map(convert_to_binary)\n",
        "bank['average'] = bank[['default', 'housing', 'loan']].mean(axis = 1)"
      ],
      "execution_count": 0,
      "outputs": []
    },
    {
      "metadata": {
        "id": "lr-SLl_KQYl_",
        "colab_type": "code",
        "colab": {},
        "outputId": "699a14a9-c2d9-472f-b543-2a3c1bd30bff"
      },
      "cell_type": "code",
      "source": [
        "bank.head()"
      ],
      "execution_count": 0,
      "outputs": [
        {
          "output_type": "execute_result",
          "data": {
            "text/html": [
              "<div>\n",
              "<style scoped>\n",
              "    .dataframe tbody tr th:only-of-type {\n",
              "        vertical-align: middle;\n",
              "    }\n",
              "\n",
              "    .dataframe tbody tr th {\n",
              "        vertical-align: top;\n",
              "    }\n",
              "\n",
              "    .dataframe thead th {\n",
              "        text-align: right;\n",
              "    }\n",
              "</style>\n",
              "<table border=\"1\" class=\"dataframe\">\n",
              "  <thead>\n",
              "    <tr style=\"text-align: right;\">\n",
              "      <th></th>\n",
              "      <th>age</th>\n",
              "      <th>job</th>\n",
              "      <th>marital</th>\n",
              "      <th>education</th>\n",
              "      <th>default</th>\n",
              "      <th>balance</th>\n",
              "      <th>housing</th>\n",
              "      <th>loan</th>\n",
              "      <th>contact</th>\n",
              "      <th>day</th>\n",
              "      <th>month</th>\n",
              "      <th>duration</th>\n",
              "      <th>campaign</th>\n",
              "      <th>pdays</th>\n",
              "      <th>previous</th>\n",
              "      <th>poutcome</th>\n",
              "      <th>response</th>\n",
              "      <th>average</th>\n",
              "    </tr>\n",
              "  </thead>\n",
              "  <tbody>\n",
              "    <tr>\n",
              "      <th>0</th>\n",
              "      <td>30</td>\n",
              "      <td>unemployed</td>\n",
              "      <td>married</td>\n",
              "      <td>primary</td>\n",
              "      <td>0</td>\n",
              "      <td>1787</td>\n",
              "      <td>0</td>\n",
              "      <td>0</td>\n",
              "      <td>cellular</td>\n",
              "      <td>19</td>\n",
              "      <td>oct</td>\n",
              "      <td>79</td>\n",
              "      <td>1</td>\n",
              "      <td>-1</td>\n",
              "      <td>0</td>\n",
              "      <td>unknown</td>\n",
              "      <td>0</td>\n",
              "      <td>0.000000</td>\n",
              "    </tr>\n",
              "    <tr>\n",
              "      <th>1</th>\n",
              "      <td>33</td>\n",
              "      <td>services</td>\n",
              "      <td>married</td>\n",
              "      <td>secondary</td>\n",
              "      <td>0</td>\n",
              "      <td>4789</td>\n",
              "      <td>1</td>\n",
              "      <td>1</td>\n",
              "      <td>cellular</td>\n",
              "      <td>11</td>\n",
              "      <td>may</td>\n",
              "      <td>220</td>\n",
              "      <td>1</td>\n",
              "      <td>339</td>\n",
              "      <td>4</td>\n",
              "      <td>failure</td>\n",
              "      <td>0</td>\n",
              "      <td>0.666667</td>\n",
              "    </tr>\n",
              "    <tr>\n",
              "      <th>2</th>\n",
              "      <td>35</td>\n",
              "      <td>management</td>\n",
              "      <td>single</td>\n",
              "      <td>tertiary</td>\n",
              "      <td>0</td>\n",
              "      <td>1350</td>\n",
              "      <td>1</td>\n",
              "      <td>0</td>\n",
              "      <td>cellular</td>\n",
              "      <td>16</td>\n",
              "      <td>apr</td>\n",
              "      <td>185</td>\n",
              "      <td>1</td>\n",
              "      <td>330</td>\n",
              "      <td>1</td>\n",
              "      <td>failure</td>\n",
              "      <td>0</td>\n",
              "      <td>0.333333</td>\n",
              "    </tr>\n",
              "    <tr>\n",
              "      <th>3</th>\n",
              "      <td>30</td>\n",
              "      <td>management</td>\n",
              "      <td>married</td>\n",
              "      <td>tertiary</td>\n",
              "      <td>0</td>\n",
              "      <td>1476</td>\n",
              "      <td>1</td>\n",
              "      <td>1</td>\n",
              "      <td>unknown</td>\n",
              "      <td>3</td>\n",
              "      <td>jun</td>\n",
              "      <td>199</td>\n",
              "      <td>4</td>\n",
              "      <td>-1</td>\n",
              "      <td>0</td>\n",
              "      <td>unknown</td>\n",
              "      <td>0</td>\n",
              "      <td>0.666667</td>\n",
              "    </tr>\n",
              "    <tr>\n",
              "      <th>4</th>\n",
              "      <td>59</td>\n",
              "      <td>blue-collar</td>\n",
              "      <td>married</td>\n",
              "      <td>secondary</td>\n",
              "      <td>0</td>\n",
              "      <td>0</td>\n",
              "      <td>1</td>\n",
              "      <td>0</td>\n",
              "      <td>unknown</td>\n",
              "      <td>5</td>\n",
              "      <td>may</td>\n",
              "      <td>226</td>\n",
              "      <td>1</td>\n",
              "      <td>-1</td>\n",
              "      <td>0</td>\n",
              "      <td>unknown</td>\n",
              "      <td>0</td>\n",
              "      <td>0.333333</td>\n",
              "    </tr>\n",
              "  </tbody>\n",
              "</table>\n",
              "</div>"
            ],
            "text/plain": [
              "   age          job  marital  education  default  balance  housing  loan  \\\n",
              "0   30   unemployed  married    primary        0     1787        0     0   \n",
              "1   33     services  married  secondary        0     4789        1     1   \n",
              "2   35   management   single   tertiary        0     1350        1     0   \n",
              "3   30   management  married   tertiary        0     1476        1     1   \n",
              "4   59  blue-collar  married  secondary        0        0        1     0   \n",
              "\n",
              "    contact  day month  duration  campaign  pdays  previous poutcome  \\\n",
              "0  cellular   19   oct        79         1     -1         0  unknown   \n",
              "1  cellular   11   may       220         1    339         4  failure   \n",
              "2  cellular   16   apr       185         1    330         1  failure   \n",
              "3   unknown    3   jun       199         4     -1         0  unknown   \n",
              "4   unknown    5   may       226         1     -1         0  unknown   \n",
              "\n",
              "   response   average  \n",
              "0         0  0.000000  \n",
              "1         0  0.666667  \n",
              "2         0  0.333333  \n",
              "3         0  0.666667  \n",
              "4         0  0.333333  "
            ]
          },
          "metadata": {
            "tags": []
          },
          "execution_count": 233
        }
      ]
    },
    {
      "metadata": {
        "id": "7MXVocwuQYmL",
        "colab_type": "code",
        "colab": {}
      },
      "cell_type": "code",
      "source": [
        ""
      ],
      "execution_count": 0,
      "outputs": []
    },
    {
      "metadata": {
        "id": "nQTMvMaPQYmQ",
        "colab_type": "code",
        "colab": {}
      },
      "cell_type": "code",
      "source": [
        "\n",
        "##### mapping function to convert text no/yes to integer 0/1\n",
        "convert_to_binary = {'no' : 0, 'yes' : 1}\n",
        "\n",
        "##### define binary variable for having credit in default\n",
        "default = bank['default'].map(convert_to_binary)\n",
        "\n",
        "##### define binary variable for having a mortgage or housing loan\n",
        "housing = bank['housing'].map(convert_to_binary)\n",
        "\n",
        "##### define binary variable for having a personal loan\n",
        "loan = bank['loan'].map(convert_to_binary)\n",
        "\n",
        "##### define response variable to use in the model\n",
        "response = bank['response'].map(convert_to_binary)"
      ],
      "execution_count": 0,
      "outputs": []
    },
    {
      "metadata": {
        "id": "YIWaGh4CQYmW",
        "colab_type": "code",
        "colab": {}
      },
      "cell_type": "code",
      "source": [
        "# gather three explanatory variables and response into a numpy array \n",
        "# here we use .T to obtain the transpose for the structure we want\n",
        "\n",
        "#put this back in if you want to use all 3\n",
        "\n",
        "model_data_ALL = np.array([np.array(default), np.array(housing), np.array(loan), \n",
        "    np.array(response)]).T"
      ],
      "execution_count": 0,
      "outputs": []
    },
    {
      "metadata": {
        "id": "Kvs9SmigQYmb",
        "colab_type": "code",
        "colab": {}
      },
      "cell_type": "code",
      "source": [
        "avg = bank['average']\n",
        "resp = bank['response']\n",
        "model_data = np.array([avg, resp]).T"
      ],
      "execution_count": 0,
      "outputs": []
    },
    {
      "metadata": {
        "id": "QpvvbC9YQYmh",
        "colab_type": "code",
        "colab": {},
        "outputId": "84bc171a-4b58-48cb-b400-ce903a4209d3"
      },
      "cell_type": "code",
      "source": [
        "model_data"
      ],
      "execution_count": 0,
      "outputs": [
        {
          "output_type": "execute_result",
          "data": {
            "text/plain": [
              "array([[0.   , 0.   ],\n",
              "       [0.667, 0.   ],\n",
              "       [0.333, 0.   ],\n",
              "       ...,\n",
              "       [0.   , 0.   ],\n",
              "       [0.   , 0.   ],\n",
              "       [0.667, 0.   ]])"
            ]
          },
          "metadata": {
            "tags": []
          },
          "execution_count": 243
        }
      ]
    },
    {
      "metadata": {
        "id": "kCTybfiFQYmt",
        "colab_type": "code",
        "colab": {},
        "outputId": "23094114-0879-4a54-ce04-34e2b649e338"
      },
      "cell_type": "code",
      "source": [
        "print(model_data.shape)"
      ],
      "execution_count": 0,
      "outputs": [
        {
          "output_type": "stream",
          "text": [
            "(4521, 2)\n"
          ],
          "name": "stdout"
        }
      ]
    },
    {
      "metadata": {
        "id": "SaqCucfJQYm4",
        "colab_type": "text"
      },
      "cell_type": "markdown",
      "source": [
        "Assign the Data"
      ]
    },
    {
      "metadata": {
        "id": "_DsecWa5QYm6",
        "colab_type": "code",
        "colab": {}
      },
      "cell_type": "code",
      "source": [
        "X = model_data[:,0].reshape(-1,1)\n",
        "\n",
        "y = model_data[:,1].reshape(-1,1)"
      ],
      "execution_count": 0,
      "outputs": []
    },
    {
      "metadata": {
        "id": "T2JObpApQYnA",
        "colab_type": "code",
        "colab": {},
        "outputId": "29cd99f3-4a4e-42c7-9db9-ada0d4db68d2"
      },
      "cell_type": "code",
      "source": [
        "print('Sum of X and y: ' + str(sum(X).round(2)) +'   ' + str(sum(y)))"
      ],
      "execution_count": 0,
      "outputs": [
        {
          "output_type": "stream",
          "text": [
            "Sum of X and y: [1108.67]   [521.]\n"
          ],
          "name": "stdout"
        }
      ]
    },
    {
      "metadata": {
        "id": "j49K59ziQYnI",
        "colab_type": "text"
      },
      "cell_type": "markdown",
      "source": [
        "Split the Data"
      ]
    },
    {
      "metadata": {
        "id": "z6yF4pYnQYnK",
        "colab_type": "code",
        "colab": {},
        "outputId": "579d7060-f4cf-4055-e43b-39ddff42ba64"
      },
      "cell_type": "code",
      "source": [
        "X_train, X_test, y_train, y_test = train_test_split(X, y, test_size=0.2)\n",
        "print(X_train.shape, y_train.shape)\n",
        "print(X_test.shape, y_test.shape)"
      ],
      "execution_count": 0,
      "outputs": [
        {
          "output_type": "stream",
          "text": [
            "(3616, 1) (3616, 1)\n",
            "(905, 1) (905, 1)\n"
          ],
          "name": "stdout"
        }
      ]
    },
    {
      "metadata": {
        "id": "Eji8sJ9NQYnR",
        "colab_type": "code",
        "colab": {},
        "outputId": "ff003dab-7271-4ae3-d31a-ececed07d5fc"
      },
      "cell_type": "code",
      "source": [
        "plt.plot(X_test)"
      ],
      "execution_count": 0,
      "outputs": [
        {
          "output_type": "execute_result",
          "data": {
            "text/plain": [
              "[<matplotlib.lines.Line2D at 0x14af9ba8>]"
            ]
          },
          "metadata": {
            "tags": []
          },
          "execution_count": 304
        },
        {
          "output_type": "display_data",
          "data": {
            "image/png": "[encoded data removed]",
            "text/plain": [
              "<Figure size 432x288 with 1 Axes>"
            ]
          },
          "metadata": {
            "tags": []
          }
        }
      ]
    },
    {
      "metadata": {
        "id": "mIkY-ypZQYnb",
        "colab_type": "text"
      },
      "cell_type": "markdown",
      "source": [
        "### Fit the linear model"
      ]
    },
    {
      "metadata": {
        "id": "G4XgKHjxQYnd",
        "colab_type": "code",
        "colab": {},
        "outputId": "a9b5023a-72c9-447f-f9f6-21d93978ee68"
      },
      "cell_type": "code",
      "source": [
        "lm = linear_model.LogisticRegression()\n",
        "model = lm.fit(X_train, y_train)\n",
        "predictions = lm.predict(X_test)\n",
        "model.score(X_test, y_test)\n"
      ],
      "execution_count": 0,
      "outputs": [
        {
          "output_type": "execute_result",
          "data": {
            "text/plain": [
              "0.881767955801105"
            ]
          },
          "metadata": {
            "tags": []
          },
          "execution_count": 305
        }
      ]
    },
    {
      "metadata": {
        "id": "XNzWMyuSQYnh",
        "colab_type": "code",
        "colab": {},
        "outputId": "3461b10f-4304-4109-f7b0-2794dabc0d48"
      },
      "cell_type": "code",
      "source": [
        "lm2 = linear_model.LinearRegression()\n",
        "model2 = lm2.fit(X_train, y_train)\n",
        "predictions2 = lm2.predict(X_test)\n",
        "model2.score(X_test, y_test)"
      ],
      "execution_count": 0,
      "outputs": [
        {
          "output_type": "execute_result",
          "data": {
            "text/plain": [
              "0.010298064636785398"
            ]
          },
          "metadata": {
            "tags": []
          },
          "execution_count": 306
        }
      ]
    },
    {
      "metadata": {
        "id": "YC5fjgD0QYnk",
        "colab_type": "code",
        "colab": {},
        "outputId": "d98496db-6bb9-44ed-9ea5-da968acf0194"
      },
      "cell_type": "code",
      "source": [
        "lm3 = BernoulliNB(alpha=1.0, binarize=0.5, fit_prior=False)\n",
        "model3 = lm3.fit(X_train, y_train)\n",
        "predictions3 = lm3.predict(X_test)\n",
        "model3.score(X_test, y_test)"
      ],
      "execution_count": 0,
      "outputs": [
        {
          "output_type": "execute_result",
          "data": {
            "text/plain": [
              "0.1878453038674033"
            ]
          },
          "metadata": {
            "tags": []
          },
          "execution_count": 307
        }
      ]
    },
    {
      "metadata": {
        "id": "GxSwsxqNQYno",
        "colab_type": "code",
        "colab": {},
        "outputId": "ec5bed71-67cd-460c-ad8d-9c943f6b78ae"
      },
      "cell_type": "code",
      "source": [
        "plt.scatter(y_test, predictions3)\n",
        "plt.xlabel(\"Actual Response\")\n",
        "plt.ylabel(\"Predicted Response\")"
      ],
      "execution_count": 0,
      "outputs": [
        {
          "output_type": "execute_result",
          "data": {
            "text/plain": [
              "Text(0, 0.5, 'Predicted Response')"
            ]
          },
          "metadata": {
            "tags": []
          },
          "execution_count": 308
        },
        {
          "output_type": "display_data",
          "data": {
            "image/png": "[encoded data removed]",
            "text/plain": [
              "<Figure size 432x288 with 1 Axes>"
            ]
          },
          "metadata": {
            "tags": []
          }
        }
      ]
    },
    {
      "metadata": {
        "id": "IAvqIyYlQYnr",
        "colab_type": "code",
        "colab": {},
        "outputId": "1cf778b4-93c0-4d63-997d-89280df7316d"
      },
      "cell_type": "code",
      "source": [
        "from yellowbrick.regressor import PredictionError\n",
        "from sklearn.linear_model import Lasso\n",
        "\n",
        "lasso = Lasso()\n",
        "visualizer = PredictionError(lasso)\n",
        "visualizer.fit(X_train, y_train) # Fit the training data to the visualizer\n",
        "visualizer.score(X_test, y_test) # Evaluate the model on the test data\n",
        "g = visualizer.poof()            # Draw/show/poof the data"
      ],
      "execution_count": 0,
      "outputs": [
        {
          "output_type": "display_data",
          "data": {
            "image/png": "[encoded data removed]",
            "text/plain": [
              "<Figure size 432x288 with 1 Axes>"
            ]
          },
          "metadata": {
            "tags": []
          }
        }
      ]
    },
    {
      "metadata": {
        "id": "c6Rgqc3LQYnv",
        "colab_type": "code",
        "colab": {}
      },
      "cell_type": "code",
      "source": [
        ""
      ],
      "execution_count": 0,
      "outputs": []
    },
    {
      "metadata": {
        "id": "k1AiYs98QYnx",
        "colab_type": "code",
        "colab": {}
      },
      "cell_type": "code",
      "source": [
        "from sklearn.model_selection import cross_val_score, cross_val_predict\n",
        "from sklearn import metrics"
      ],
      "execution_count": 0,
      "outputs": []
    },
    {
      "metadata": {
        "id": "iTox9t_6QYnz",
        "colab_type": "code",
        "colab": {},
        "outputId": "6511f541-9e8f-4f79-f3b7-15c5a01b0a70"
      },
      "cell_type": "code",
      "source": [
        "scores1 = cross_val_score(model, X, y, cv=6)\n",
        "scores1"
      ],
      "execution_count": 0,
      "outputs": [
        {
          "output_type": "execute_result",
          "data": {
            "text/plain": [
              "array([0.885, 0.885, 0.885, 0.885, 0.884, 0.886])"
            ]
          },
          "metadata": {
            "tags": []
          },
          "execution_count": 317
        }
      ]
    },
    {
      "metadata": {
        "id": "Fv8iSOv8QYn3",
        "colab_type": "code",
        "colab": {},
        "outputId": "781b7ab6-f4ae-4e58-e5bb-888161a34269"
      },
      "cell_type": "code",
      "source": [
        "scores2 = cross_val_score(model2, X, y, cv=6)\n",
        "scores2"
      ],
      "execution_count": 0,
      "outputs": [
        {
          "output_type": "execute_result",
          "data": {
            "text/plain": [
              "array([0.017, 0.022, 0.01 , 0.009, 0.02 , 0.003])"
            ]
          },
          "metadata": {
            "tags": []
          },
          "execution_count": 318
        }
      ]
    },
    {
      "metadata": {
        "id": "eO1XcNFpQYn8",
        "colab_type": "code",
        "colab": {},
        "outputId": "326a71fe-2af5-486b-8312-16abc98eb8af"
      },
      "cell_type": "code",
      "source": [
        "scores3 = cross_val_score(model, X, y, cv=6)\n",
        "scores3"
      ],
      "execution_count": 0,
      "outputs": [
        {
          "output_type": "execute_result",
          "data": {
            "text/plain": [
              "array([0.885, 0.885, 0.885, 0.885, 0.884, 0.886])"
            ]
          },
          "metadata": {
            "tags": []
          },
          "execution_count": 319
        }
      ]
    },
    {
      "metadata": {
        "id": "tf98XIe_QYn_",
        "colab_type": "code",
        "colab": {},
        "outputId": "c7111655-3aa4-45b1-fab0-17c00a8e6b05"
      },
      "cell_type": "code",
      "source": [
        "from sklearn.linear_model import Ridge\n",
        "from sklearn.model_selection import KFold\n",
        "from yellowbrick.model_selection import CVScores\n",
        "\n",
        "# Create a new figure and axes\n",
        "_, ax = plt.subplots()\n",
        "cv = KFold(12)\n",
        "\n",
        "oz = CVScores(\n",
        "    linear_model.LogisticRegression(), ax=ax, cv=cv, scoring='f1'\n",
        ")\n",
        "\n",
        "oz.fit(X, y)\n",
        "oz.poof()"
      ],
      "execution_count": 0,
      "outputs": [
        {
          "output_type": "display_data",
          "data": {
            "image/png": "[encoded data removed]",
            "text/plain": [
              "<Figure size 432x288 with 1 Axes>"
            ]
          },
          "metadata": {
            "tags": []
          }
        }
      ]
    },
    {
      "metadata": {
        "id": "UmZY7bJ8QYoC",
        "colab_type": "code",
        "colab": {},
        "outputId": "293972e0-8bef-466c-a2e5-e074fea2d91c"
      },
      "cell_type": "code",
      "source": [
        "from sklearn.linear_model import Ridge\n",
        "from sklearn.model_selection import KFold\n",
        "from yellowbrick.model_selection import CVScores\n",
        "\n",
        "# Create a new figure and axes\n",
        "_, ax = plt.subplots()\n",
        "cv = KFold(12)\n",
        "\n",
        "oz = CVScores(\n",
        "    BernoulliNB(), ax=ax, cv=cv, scoring='r2'\n",
        ")\n",
        "\n",
        "oz.fit(X, y)\n",
        "oz.poof()"
      ],
      "execution_count": 0,
      "outputs": [
        {
          "output_type": "display_data",
          "data": {
            "image/png": "[encoded data removed]",
            "text/plain": [
              "<Figure size 432x288 with 1 Axes>"
            ]
          },
          "metadata": {
            "tags": []
          }
        }
      ]
    },
    {
      "metadata": {
        "id": "jIdxx4iJQYoG",
        "colab_type": "text"
      },
      "cell_type": "markdown",
      "source": [
        "#### Testing Precision Recall and ROC AUC"
      ]
    },
    {
      "metadata": {
        "id": "FnW3aqeVQYoG",
        "colab_type": "code",
        "colab": {}
      },
      "cell_type": "code",
      "source": [
        "from sklearn.metrics import precision_recall_curve\n",
        "from sklearn.linear_model import SGDClassifier\n",
        "\n",
        "\n",
        "\n",
        "sgd_clf = SGDClassifier(max_iter=5, tol=-np.infty, random_state=42)\n",
        "\n",
        "y_scores = cross_val_predict(sgd_clf, X_train, y_train, cv=3,\n",
        "                             method=\"decision_function\")\n",
        "precisions, recalls, thresholds = precision_recall_curve(y_train, y_scores)"
      ],
      "execution_count": 0,
      "outputs": []
    },
    {
      "metadata": {
        "id": "Ka030LLHQYoK",
        "colab_type": "code",
        "colab": {},
        "outputId": "898e5bfb-7154-4685-f90f-462c4e700fd9"
      },
      "cell_type": "code",
      "source": [
        "def plot_precision_recall_vs_threshold(precisions, recalls, thresholds):\n",
        "    plt.plot(thresholds, precisions[:-1], \"b--\", label=\"Precision\", linewidth=2)\n",
        "    plt.plot(thresholds, recalls[:-1], \"g-\", label=\"Recall\", linewidth=2)\n",
        "    plt.xlabel(\"Threshold\", fontsize=16)\n",
        "    plt.legend(loc=\"upper left\", fontsize=16)\n",
        "    plt.ylim([0, 1])\n",
        "\n",
        "plt.figure(figsize=(8, 4))\n",
        "plot_precision_recall_vs_threshold(precisions, recalls, thresholds)\n",
        "plt.xlim([-700000, 700000])\n",
        "#save_fig(\"precision_recall_vs_threshold_plot\")\n",
        "plt.show()"
      ],
      "execution_count": 0,
      "outputs": [
        {
          "output_type": "display_data",
          "data": {
            "image/png": "[encoded data removed]",
            "text/plain": [
              "<Figure size 576x288 with 1 Axes>"
            ]
          },
          "metadata": {
            "tags": []
          }
        }
      ]
    },
    {
      "metadata": {
        "id": "C_NuRDgrQYoN",
        "colab_type": "code",
        "colab": {},
        "outputId": "65174719-16d6-4f1d-fb36-b4057964e9d0"
      },
      "cell_type": "code",
      "source": [
        "def plot_precision_vs_recall(precisions, recalls):\n",
        "    plt.plot(recalls, precisions, \"b-\", linewidth=2)\n",
        "    plt.xlabel(\"Recall\", fontsize=16)\n",
        "    plt.ylabel(\"Precision\", fontsize=16)\n",
        "    plt.axis([0, 1, 0, 1])\n",
        "\n",
        "plt.figure(figsize=(8, 6))\n",
        "plot_precision_vs_recall(precisions, recalls)\n",
        "save_fig(\"precision_vs_recall_plot\")\n",
        "plt.show()"
      ],
      "execution_count": 0,
      "outputs": [
        {
          "output_type": "stream",
          "text": [
            "Saving figure precision_vs_recall_plot\n"
          ],
          "name": "stdout"
        },
        {
          "output_type": "display_data",
          "data": {
            "image/png": "[encoded data removed]",
            "text/plain": [
              "<Figure size 576x432 with 1 Axes>"
            ]
          },
          "metadata": {
            "tags": []
          }
        }
      ]
    },
    {
      "metadata": {
        "id": "h4KFr8BTQYoW",
        "colab_type": "code",
        "colab": {}
      },
      "cell_type": "code",
      "source": [
        "from sklearn.metrics import roc_curve\n",
        "\n",
        "fpr, tpr, thresholds = roc_curve(y_train, y_scores)"
      ],
      "execution_count": 0,
      "outputs": []
    },
    {
      "metadata": {
        "id": "U9gHqOt0QYoa",
        "colab_type": "code",
        "colab": {},
        "outputId": "b5575f72-1032-46a0-dcf1-36f862a089dc"
      },
      "cell_type": "code",
      "source": [
        "def plot_roc_curve(fpr, tpr, label=None):\n",
        "    plt.plot(fpr, tpr, linewidth=2, label=label)\n",
        "    plt.plot([0, 1], [0, 1], 'k--')\n",
        "    plt.axis([0, 1, 0, 1])\n",
        "    plt.xlabel('False Positive Rate', fontsize=16)\n",
        "    plt.ylabel('True Positive Rate', fontsize=16)\n",
        "\n",
        "plt.figure(figsize=(8, 6))\n",
        "plot_roc_curve(fpr, tpr)\n",
        "save_fig(\"roc_curve_plot\")\n",
        "plt.show()"
      ],
      "execution_count": 0,
      "outputs": [
        {
          "output_type": "stream",
          "text": [
            "Saving figure roc_curve_plot\n"
          ],
          "name": "stdout"
        },
        {
          "output_type": "display_data",
          "data": {
            "image/png": "[encoded data removed]",
            "text/plain": [
              "<Figure size 576x432 with 1 Axes>"
            ]
          },
          "metadata": {
            "tags": []
          }
        }
      ]
    },
    {
      "metadata": {
        "id": "WCn7Rj1sQYo8",
        "colab_type": "text"
      },
      "cell_type": "markdown",
      "source": [
        "#### Last I looked at re-doing this with loops to study data, but time didn't permit"
      ]
    },
    {
      "metadata": {
        "id": "KCKYbhp7QYo-",
        "colab_type": "code",
        "colab": {}
      },
      "cell_type": "code",
      "source": [
        "\n",
        "# list of names for classifier models\n",
        "classifier_names = [\"Logistic_Regression\", \"Naive_Bayes\"]\n",
        "\n",
        "# list of classifiers\n",
        "classifiers = [LogisticRegression(), BernoulliNB(alpha=1.0, binarize=0.5, \n",
        "                           class_prior = [0.5, 0.5], fit_prior=False)]"
      ],
      "execution_count": 0,
      "outputs": []
    },
    {
      "metadata": {
        "id": "e-mdgYF1QYpD",
        "colab_type": "code",
        "colab": {},
        "outputId": "24954db4-50b3-42e1-9656-cbd80dbed5b6"
      },
      "cell_type": "code",
      "source": [
        "classifiers"
      ],
      "execution_count": 0,
      "outputs": [
        {
          "output_type": "execute_result",
          "data": {
            "text/plain": [
              "[LogisticRegression(C=1.0, class_weight=None, dual=False, fit_intercept=True,\n",
              "           intercept_scaling=1, max_iter=100, multi_class='warn',\n",
              "           n_jobs=None, penalty='l2', random_state=None, solver='warn',\n",
              "           tol=0.0001, verbose=0, warm_start=False),\n",
              " BernoulliNB(alpha=1.0, binarize=0.5, class_prior=[0.5, 0.5], fit_prior=False)]"
            ]
          },
          "metadata": {
            "tags": []
          },
          "execution_count": 137
        }
      ]
    },
    {
      "metadata": {
        "id": "28L6XI44QYpJ",
        "colab_type": "code",
        "colab": {}
      },
      "cell_type": "code",
      "source": [
        "N_FOLDS = 10\n",
        "\n",
        "# set up numpy array for storing results\n",
        "crossvalidation_results = np.zeros((N_FOLDS, len(classifier_names)))\n",
        "\n",
        "# kf, object,  model selection kfold split set up\n",
        "kf = KFold(n_splits = N_FOLDS, shuffle=False, random_state = RANDOM_SEED)\n",
        "\n",
        "#--check the splitting process by looking at fold observation counts--\n",
        "# fold count initialized to zero\n",
        "index_for_fold = 0 "
      ],
      "execution_count": 0,
      "outputs": []
    },
    {
      "metadata": {
        "id": "baSF8QoDQYpO",
        "colab_type": "code",
        "colab": {},
        "outputId": "8e80fc2f-efb5-44dc-a283-9e456a36e188"
      },
      "cell_type": "code",
      "source": [
        "for train_index, test_index in KFold.split(model_data):\n",
        "    print('\\nFold index:', index_for_fold,\n",
        "          '------------------------------------------')\n",
        "    # 0:model_data.shape[1]-1 slices for explanatory variables,\n",
        "    X_train = model_data[train_index, 0:model_data.shape[1]-1]\n",
        "    X_test = model_data[test_index, 0:model_data.shape[1]-1]\n",
        "    \n",
        "    # model_data.shape[1]-1 is the index for the response variable\n",
        "    y_train = model_data[train_index, model_data.shape[1]-1]\n",
        "    y_test = model_data[test_index, model_data.shape[1]-1]\n",
        "    \n",
        "    # prints structure of data after split for x, y \n",
        "    print('\\nShape of input data for this fold:',\n",
        "          '\\nData Set: (Observations, Variables)')\n",
        "    print('X_train:', X_train.shape)\n",
        "    print('X_test:',X_test.shape)\n",
        "    print('y_train:', y_train.shape)\n",
        "    print('y_test:',y_test.shape)\n",
        "    \n",
        "    # index for method initialized to zero\n",
        "    index_for_method = 0\n",
        "    \n",
        "    # loops through classifiers\n",
        "    # fits the respective model\n",
        "    # performs predictions\n",
        "    for name, clf in zip(classifier_names, classifiers):\n",
        "        print('\\nClassifier evaluation for:', name)\n",
        "        print('  Scikit Learn method:', clf)\n",
        "        \n",
        "         # fit current classifier model using train data set\n",
        "        clf.fit(X_train, y_train) \n",
        "        \n",
        "        # calculate predictions to evaluate, using test set for this fold\n",
        "        y_test_predict = clf.predict_proba(X_test)\n",
        "        \n",
        "        # calculates ROC AUC score, stores results in cv_results\n",
        "        fold_method_result = roc_auc_score(y_test, y_test_predict[:,1]) \n",
        "        print('Area under ROC curve:', fold_method_result)\n",
        "        crossvalidation_results[index_for_fold, index_for_method] = fold_method_result\n",
        "        \n",
        "        \n",
        "        # adds one to the index, next loop will be the next classifier\n",
        "        index_for_method += 1\n",
        "        \n",
        "    # adds one to the index, next loop will be the next split in fold    \n",
        "    index_for_fold += 1"
      ],
      "execution_count": 0,
      "outputs": [
        {
          "output_type": "error",
          "ename": "TypeError",
          "evalue": "split() missing 1 required positional argument: 'X'",
          "traceback": [
            "\u001b[1;31m---------------------------------------------------------------------------\u001b[0m",
            "\u001b[1;31mTypeError\u001b[0m                                 Traceback (most recent call last)",
            "\u001b[1;32m<ipython-input-186-d6e609abc6bd>\u001b[0m in \u001b[0;36m<module>\u001b[1;34m\u001b[0m\n\u001b[1;32m----> 1\u001b[1;33m \u001b[1;32mfor\u001b[0m \u001b[0mtrain_index\u001b[0m\u001b[1;33m,\u001b[0m \u001b[0mtest_index\u001b[0m \u001b[1;32min\u001b[0m \u001b[0mKFold\u001b[0m\u001b[1;33m.\u001b[0m\u001b[0msplit\u001b[0m\u001b[1;33m(\u001b[0m\u001b[0mmodel_data\u001b[0m\u001b[1;33m)\u001b[0m\u001b[1;33m:\u001b[0m\u001b[1;33m\u001b[0m\u001b[0m\n\u001b[0m\u001b[0;32m      2\u001b[0m     print('\\nFold index:', index_for_fold,\n\u001b[0;32m      3\u001b[0m           '------------------------------------------')\n\u001b[0;32m      4\u001b[0m     \u001b[1;31m# 0:model_data.shape[1]-1 slices for explanatory variables,\u001b[0m\u001b[1;33m\u001b[0m\u001b[1;33m\u001b[0m\u001b[0m\n\u001b[0;32m      5\u001b[0m     \u001b[0mX_train\u001b[0m \u001b[1;33m=\u001b[0m \u001b[0mmodel_data\u001b[0m\u001b[1;33m[\u001b[0m\u001b[0mtrain_index\u001b[0m\u001b[1;33m,\u001b[0m \u001b[1;36m0\u001b[0m\u001b[1;33m:\u001b[0m\u001b[0mmodel_data\u001b[0m\u001b[1;33m.\u001b[0m\u001b[0mshape\u001b[0m\u001b[1;33m[\u001b[0m\u001b[1;36m1\u001b[0m\u001b[1;33m]\u001b[0m\u001b[1;33m-\u001b[0m\u001b[1;36m1\u001b[0m\u001b[1;33m]\u001b[0m\u001b[1;33m\u001b[0m\u001b[0m\n",
            "\u001b[1;31mTypeError\u001b[0m: split() missing 1 required positional argument: 'X'"
          ]
        }
      ]
    },
    {
      "metadata": {
        "id": "Yu_zKrjRQYpQ",
        "colab_type": "code",
        "colab": {},
        "outputId": "a22bdf59-50e8-461e-d03e-d0e076777685"
      },
      "cell_type": "code",
      "source": [
        "X_train = model_data[train_index, 0:model_data.shape[1]-1]\n",
        "X_test = model_data[test_index, 0:model_data.shape[1]-1]"
      ],
      "execution_count": 0,
      "outputs": [
        {
          "output_type": "error",
          "ename": "NameError",
          "evalue": "name 'train_index' is not defined",
          "traceback": [
            "\u001b[1;31m---------------------------------------------------------------------------\u001b[0m",
            "\u001b[1;31mNameError\u001b[0m                                 Traceback (most recent call last)",
            "\u001b[1;32m<ipython-input-140-ce07f7d35144>\u001b[0m in \u001b[0;36m<module>\u001b[1;34m\u001b[0m\n\u001b[1;32m----> 1\u001b[1;33m \u001b[0mX_train\u001b[0m \u001b[1;33m=\u001b[0m \u001b[0mmodel_data\u001b[0m\u001b[1;33m[\u001b[0m\u001b[0mtrain_index\u001b[0m\u001b[1;33m,\u001b[0m \u001b[1;36m0\u001b[0m\u001b[1;33m:\u001b[0m\u001b[0mmodel_data\u001b[0m\u001b[1;33m.\u001b[0m\u001b[0mshape\u001b[0m\u001b[1;33m[\u001b[0m\u001b[1;36m1\u001b[0m\u001b[1;33m]\u001b[0m\u001b[1;33m-\u001b[0m\u001b[1;36m1\u001b[0m\u001b[1;33m]\u001b[0m\u001b[1;33m\u001b[0m\u001b[0m\n\u001b[0m\u001b[0;32m      2\u001b[0m \u001b[0mX_test\u001b[0m \u001b[1;33m=\u001b[0m \u001b[0mmodel_data\u001b[0m\u001b[1;33m[\u001b[0m\u001b[0mtest_index\u001b[0m\u001b[1;33m,\u001b[0m \u001b[1;36m0\u001b[0m\u001b[1;33m:\u001b[0m\u001b[0mmodel_data\u001b[0m\u001b[1;33m.\u001b[0m\u001b[0mshape\u001b[0m\u001b[1;33m[\u001b[0m\u001b[1;36m1\u001b[0m\u001b[1;33m]\u001b[0m\u001b[1;33m-\u001b[0m\u001b[1;36m1\u001b[0m\u001b[1;33m]\u001b[0m\u001b[1;33m\u001b[0m\u001b[0m\n",
            "\u001b[1;31mNameError\u001b[0m: name 'train_index' is not defined"
          ]
        }
      ]
    },
    {
      "metadata": {
        "id": "1kTabis2QYpS",
        "colab_type": "code",
        "colab": {}
      },
      "cell_type": "code",
      "source": [
        ""
      ],
      "execution_count": 0,
      "outputs": []
    },
    {
      "metadata": {
        "id": "n1792-kORLsw",
        "colab_type": "text"
      },
      "cell_type": "markdown",
      "source": [
        "#Conclusion & Management Recommendations:  \n",
        "\n",
        "---\n",
        "Naïve Bayes and Logistic Regression are equally useful as models.\n",
        "\n",
        "\n",
        "\n",
        "---\n",
        "\n",
        "\n",
        "However, the Machine Learning algorithms deployed fail to predict results that are enough better than random to warrant a clear business marketing decision. \n",
        "\n",
        "---\n",
        "\n",
        "\n",
        "\n",
        "It appears that more work can be done on analyzing the history of default characteristics and those borrowers’ tendency to respond to marketing campaigns.  \n",
        "\n",
        "\n",
        "---\n",
        "\n",
        "\n"
      ]
    }
  ]
}