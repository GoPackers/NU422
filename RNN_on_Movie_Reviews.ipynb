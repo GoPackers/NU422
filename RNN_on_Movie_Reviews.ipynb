{
  "nbformat": 4,
  "nbformat_minor": 0,
  "metadata": {
    "colab": {
      "name": "RNN on Movie Reviews.ipynb",
      "version": "0.3.2",
      "provenance": [],
      "collapsed_sections": [],
      "include_colab_link": true
    },
    "kernelspec": {
      "name": "python3",
      "display_name": "Python 3"
    },
    "accelerator": "GPU"
  },
  "cells": [
    {
      "cell_type": "markdown",
      "metadata": {
        "id": "view-in-github",
        "colab_type": "text"
      },
      "source": [
        "<a href=\"https://colab.research.google.com/github/TJConnellyContingentMacro/NU422/blob/master/RNN_on_Movie_Reviews.ipynb\" target=\"_parent\"><img src=\"https://colab.research.google.com/assets/colab-badge.svg\" alt=\"Open In Colab\"/></a>"
      ]
    },
    {
      "cell_type": "markdown",
      "metadata": {
        "id": "LlCwu4GVQYTj",
        "colab_type": "text"
      },
      "source": [
        "# Language Modeling with RNN - Movie Reviews"
      ]
    },
    {
      "cell_type": "markdown",
      "metadata": {
        "id": "s7RqmU2IQlIJ",
        "colab_type": "text"
      },
      "source": [
        "## Chakin and Other Libraries Needed"
      ]
    },
    {
      "cell_type": "code",
      "metadata": {
        "id": "4xvFAyNFDkZ5",
        "colab_type": "code",
        "colab": {
          "base_uri": "https://localhost:8080/",
          "height": 408
        },
        "outputId": "ff0e1196-f56f-4351-c313-fce3bbc2f2f7"
      },
      "source": [
        "!pip install chakin\n",
        "import chakin\n",
        "\n",
        "chakin.search(lang='English')\n"
      ],
      "execution_count": 182,
      "outputs": [
        {
          "output_type": "stream",
          "text": [
            "Requirement already satisfied: chakin in /usr/local/lib/python3.6/dist-packages (0.0.8)\n",
            "Requirement already satisfied: six>=1.10.0 in /usr/local/lib/python3.6/dist-packages (from chakin) (1.12.0)\n",
            "Requirement already satisfied: progressbar2>=3.20.0 in /usr/local/lib/python3.6/dist-packages (from chakin) (3.38.0)\n",
            "Requirement already satisfied: pandas>=0.20.1 in /usr/local/lib/python3.6/dist-packages (from chakin) (0.24.2)\n",
            "Requirement already satisfied: python-utils>=2.3.0 in /usr/local/lib/python3.6/dist-packages (from progressbar2>=3.20.0->chakin) (2.3.0)\n",
            "Requirement already satisfied: numpy>=1.12.0 in /usr/local/lib/python3.6/dist-packages (from pandas>=0.20.1->chakin) (1.16.3)\n",
            "Requirement already satisfied: pytz>=2011k in /usr/local/lib/python3.6/dist-packages (from pandas>=0.20.1->chakin) (2018.9)\n",
            "Requirement already satisfied: python-dateutil>=2.5.0 in /usr/local/lib/python3.6/dist-packages (from pandas>=0.20.1->chakin) (2.5.3)\n",
            "                   Name  Dimension  ... Language    Author\n",
            "2          fastText(en)        300  ...  English  Facebook\n",
            "11         GloVe.6B.50d         50  ...  English  Stanford\n",
            "12        GloVe.6B.100d        100  ...  English  Stanford\n",
            "13        GloVe.6B.200d        200  ...  English  Stanford\n",
            "14        GloVe.6B.300d        300  ...  English  Stanford\n",
            "15       GloVe.42B.300d        300  ...  English  Stanford\n",
            "16      GloVe.840B.300d        300  ...  English  Stanford\n",
            "17    GloVe.Twitter.25d         25  ...  English  Stanford\n",
            "18    GloVe.Twitter.50d         50  ...  English  Stanford\n",
            "19   GloVe.Twitter.100d        100  ...  English  Stanford\n",
            "20   GloVe.Twitter.200d        200  ...  English  Stanford\n",
            "21  word2vec.GoogleNews        300  ...  English    Google\n",
            "\n",
            "[12 rows x 7 columns]\n"
          ],
          "name": "stdout"
        }
      ]
    },
    {
      "cell_type": "code",
      "metadata": {
        "id": "wU61qYUbIGnH",
        "colab_type": "code",
        "colab": {}
      },
      "source": [
        "import numpy as np\n",
        "\n",
        "from __future__ import absolute_import\n",
        "from __future__ import division\n",
        "from __future__ import print_function\n",
        "\n",
        "import numpy as np\n",
        "\n",
        "import os  # operating system functions\n",
        "import os.path  # for manipulation of file path names\n",
        "\n",
        "import re  # regular expressions\n",
        "\n",
        "from collections import defaultdict\n",
        "\n",
        "import nltk\n",
        "from nltk.tokenize import TreebankWordTokenizer\n",
        "\n",
        "import tensorflow as tf\n",
        "\n",
        "RANDOM_SEED = 9999\n",
        "\n",
        "# To make output stable across runs\n",
        "def reset_graph(seed= RANDOM_SEED):\n",
        "    tf.reset_default_graph()\n",
        "    tf.set_random_seed(seed)\n",
        "    np.random.seed(seed)\n",
        "\n",
        "REMOVE_STOPWORDS = False  # no stopword removal \n",
        "\n"
      ],
      "execution_count": 0,
      "outputs": []
    },
    {
      "cell_type": "code",
      "metadata": {
        "id": "qyxLSRf3Egb1",
        "colab_type": "code",
        "colab": {
          "base_uri": "https://localhost:8080/",
          "height": 34
        },
        "outputId": "4e85a616-f64b-43fb-8378-8905dd381e75"
      },
      "source": [
        "from google.colab import drive\n",
        "drive.mount('/content/drive')"
      ],
      "execution_count": 184,
      "outputs": [
        {
          "output_type": "stream",
          "text": [
            "Drive already mounted at /content/drive; to attempt to forcibly remount, call drive.mount(\"/content/drive\", force_remount=True).\n"
          ],
          "name": "stdout"
        }
      ]
    },
    {
      "cell_type": "code",
      "metadata": {
        "id": "XibhM8KvE9vz",
        "colab_type": "code",
        "colab": {}
      },
      "source": [
        "import os\n"
      ],
      "execution_count": 0,
      "outputs": []
    },
    {
      "cell_type": "code",
      "metadata": {
        "id": "7ko1KfiQHMgO",
        "colab_type": "code",
        "colab": {
          "base_uri": "https://localhost:8080/",
          "height": 34
        },
        "outputId": "60d789b9-1c85-4bd2-f437-e4f46fb1a27f"
      },
      "source": [
        "!ls \"/content/drive/My Drive/embeddings\""
      ],
      "execution_count": 186,
      "outputs": [
        {
          "output_type": "stream",
          "text": [
            "gloVe.6B\n"
          ],
          "name": "stdout"
        }
      ]
    },
    {
      "cell_type": "code",
      "metadata": {
        "id": "CRUBeWWkHhVf",
        "colab_type": "code",
        "colab": {
          "base_uri": "https://localhost:8080/",
          "height": 34
        },
        "outputId": "ea10ebec-9689-4a71-c675-11de876f9d0f"
      },
      "source": [
        "embeddings_directory = '/content/drive/My Drive/embeddings/gloVe.6B'\n",
        "filename = 'glove.6B.50d.txt'\n",
        "embeddings_filename = os.path.join(embeddings_directory, filename)\n",
        "embeddings_filename"
      ],
      "execution_count": 187,
      "outputs": [
        {
          "output_type": "execute_result",
          "data": {
            "text/plain": [
              "'/content/drive/My Drive/embeddings/gloVe.6B/glove.6B.50d.txt'"
            ]
          },
          "metadata": {
            "tags": []
          },
          "execution_count": 187
        }
      ]
    },
    {
      "cell_type": "code",
      "metadata": {
        "id": "o95DLryDh9at",
        "colab_type": "code",
        "colab": {}
      },
      "source": [
        ""
      ],
      "execution_count": 0,
      "outputs": []
    },
    {
      "cell_type": "markdown",
      "metadata": {
        "id": "XsOAXtKASACg",
        "colab_type": "text"
      },
      "source": [
        "\n",
        "## Set vocab size"
      ]
    },
    {
      "cell_type": "code",
      "metadata": {
        "id": "qHBElaBsR6tP",
        "colab_type": "code",
        "colab": {}
      },
      "source": [
        "EVOCABSIZE = 10000"
      ],
      "execution_count": 0,
      "outputs": []
    },
    {
      "cell_type": "code",
      "metadata": {
        "id": "hCIJ-CIgR_Ss",
        "colab_type": "code",
        "colab": {}
      },
      "source": [
        ""
      ],
      "execution_count": 0,
      "outputs": []
    },
    {
      "cell_type": "markdown",
      "metadata": {
        "id": "YsAeNyC6nGIO",
        "colab_type": "text"
      },
      "source": [
        "##Modules - loading embeddings"
      ]
    },
    {
      "cell_type": "code",
      "metadata": {
        "id": "YwJUPmetiNXV",
        "colab_type": "code",
        "colab": {}
      },
      "source": [
        "word_to_index, index_to_embedding = load_embedding_from_disks(embeddings_filename, with_indexes=True)"
      ],
      "execution_count": 0,
      "outputs": []
    },
    {
      "cell_type": "code",
      "metadata": {
        "id": "udphqvQWH9pM",
        "colab_type": "code",
        "colab": {
          "base_uri": "https://localhost:8080/",
          "height": 68
        },
        "outputId": "8018ed8e-63c3-4497-9dec-47a2c8fbae97"
      },
      "source": [
        "def load_embedding_from_disks(embeddings_filename, with_indexes=True):\n",
        "    \"\"\"\n",
        "    Read a embeddings txt file. If `with_indexes=True`, \n",
        "    we return a tuple of two dictionnaries\n",
        "    `(word_to_index_dict, index_to_embedding_array)`, \n",
        "    otherwise we return only a direct \n",
        "    `word_to_embedding_dict` dictionnary mapping \n",
        "    from a string to a numpy array.\n",
        "    \"\"\"\n",
        "    if with_indexes:\n",
        "        word_to_index_dict = dict()\n",
        "        index_to_embedding_array = []\n",
        "  \n",
        "    else:\n",
        "        word_to_embedding_dict = dict()\n",
        "\n",
        "    with open(embeddings_filename, 'r', encoding='utf-8') as embeddings_file:\n",
        "        for (i, line) in enumerate(embeddings_file):\n",
        "\n",
        "            split = line.split(' ')\n",
        "\n",
        "            word = split[0]\n",
        "\n",
        "            representation = split[1:]\n",
        "            representation = np.array(\n",
        "                [float(val) for val in representation]\n",
        "            )\n",
        "\n",
        "            if with_indexes:\n",
        "                word_to_index_dict[word] = i\n",
        "                index_to_embedding_array.append(representation)\n",
        "            else:\n",
        "                word_to_embedding_dict[word] = representation\n",
        "\n",
        "    # Empty representation for unknown words.\n",
        "    _WORD_NOT_FOUND = [0.0] * len(representation)\n",
        "    if with_indexes:\n",
        "        _LAST_INDEX = i + 1\n",
        "        word_to_index_dict = defaultdict(\n",
        "            lambda: _LAST_INDEX, word_to_index_dict)\n",
        "        index_to_embedding_array = np.array(\n",
        "            index_to_embedding_array + [_WORD_NOT_FOUND])\n",
        "        return word_to_index_dict, index_to_embedding_array\n",
        "    else:\n",
        "        word_to_embedding_dict = defaultdict(lambda: _WORD_NOT_FOUND)\n",
        "        return word_to_embedding_dict\n",
        "\n",
        "print('\\nLoading embeddings from', embeddings_filename)\n",
        "word_to_index, index_to_embedding = \\\n",
        "    load_embedding_from_disks(embeddings_filename, with_indexes=True)\n",
        "print(\"Embedding loaded from disks.\")"
      ],
      "execution_count": 190,
      "outputs": [
        {
          "output_type": "stream",
          "text": [
            "\n",
            "Loading embeddings from /content/drive/My Drive/embeddings/gloVe.6B/glove.6B.50d.txt\n",
            "Embedding loaded from disks.\n"
          ],
          "name": "stdout"
        }
      ]
    },
    {
      "cell_type": "code",
      "metadata": {
        "id": "_TRh5vxdID3f",
        "colab_type": "code",
        "colab": {
          "base_uri": "https://localhost:8080/",
          "height": 1601
        },
        "outputId": "cc7cfb4a-78d2-4291-c0ac-7ef64e8017c2"
      },
      "source": [
        "# Additional background code from\n",
        "# https://github.com/guillaume-chevalier/GloVe-as-a-TensorFlow-Embedding-Layer\n",
        "# shows the general structure of the data structures for word embeddings\n",
        "# This code is modified for our purposes in language modeling \n",
        "vocab_size, embedding_dim = index_to_embedding.shape\n",
        "print(\"Embedding is of shape: {}\".format(index_to_embedding.shape))\n",
        "print(\"This means (number of words, number of dimensions per word)\\n\")\n",
        "print(\"The first words are words that tend occur more often.\")\n",
        "\n",
        "print(\"Note: for unknown words, the representation is an empty vector,\\n\"\n",
        "      \"and the index is the last one. The dictionnary has a limit:\")\n",
        "print(\"    {} --> {} --> {}\".format(\"A word\", \"Index in embedding\", \n",
        "      \"Representation\"))\n",
        "word = \"worsdfkljsdf\"  # a word obviously not in the vocabulary\n",
        "idx = word_to_index[word] # index for word obviously not in the vocabulary\n",
        "complete_vocabulary_size = idx \n",
        "embd = list(np.array(index_to_embedding[idx], dtype=int)) # \"int\" compact print\n",
        "print(\"    {} --> {} --> {}\".format(word, idx, embd))\n",
        "word = \"the\"\n",
        "idx = word_to_index[word]\n",
        "embd = list(index_to_embedding[idx])  # \"int\" for compact print only.\n",
        "print(\"    {} --> {} --> {}\".format(word, idx, embd))\n",
        "\n",
        "# Show how to use embeddings dictionaries with a test sentence\n",
        "# This is a famous typing exercise with all letters of the alphabet\n",
        "# https://en.wikipedia.org/wiki/The_quick_brown_fox_jumps_over_the_lazy_dog\n",
        "a_typing_test_sentence = 'The quick brown fox jumps over the lazy dog'\n",
        "print('\\nTest sentence: ', a_typing_test_sentence, '\\n')\n",
        "words_in_test_sentence = a_typing_test_sentence.split()\n",
        "\n",
        "print('Test sentence embeddings from complete vocabulary of', \n",
        "      complete_vocabulary_size, 'words:\\n')\n",
        "for word in words_in_test_sentence:\n",
        "    word_ = word.lower()\n",
        "    embedding = index_to_embedding[word_to_index[word_]]\n",
        "    print(word_ + \": \", embedding)\n"
      ],
      "execution_count": 191,
      "outputs": [
        {
          "output_type": "stream",
          "text": [
            "Embedding is of shape: (400001, 50)\n",
            "This means (number of words, number of dimensions per word)\n",
            "\n",
            "The first words are words that tend occur more often.\n",
            "Note: for unknown words, the representation is an empty vector,\n",
            "and the index is the last one. The dictionnary has a limit:\n",
            "    A word --> Index in embedding --> Representation\n",
            "    worsdfkljsdf --> 400000 --> [0, 0, 0, 0, 0, 0, 0, 0, 0, 0, 0, 0, 0, 0, 0, 0, 0, 0, 0, 0, 0, 0, 0, 0, 0, 0, 0, 0, 0, 0, 0, 0, 0, 0, 0, 0, 0, 0, 0, 0, 0, 0, 0, 0, 0, 0, 0, 0, 0, 0]\n",
            "    the --> 0 --> [0.418, 0.24968, -0.41242, 0.1217, 0.34527, -0.044457, -0.49688, -0.17862, -0.00066023, -0.6566, 0.27843, -0.14767, -0.55677, 0.14658, -0.0095095, 0.011658, 0.10204, -0.12792, -0.8443, -0.12181, -0.016801, -0.33279, -0.1552, -0.23131, -0.19181, -1.8823, -0.76746, 0.099051, -0.42125, -0.19526, 4.0071, -0.18594, -0.52287, -0.31681, 0.00059213, 0.0074449, 0.17778, -0.15897, 0.012041, -0.054223, -0.29871, -0.15749, -0.34758, -0.045637, -0.44251, 0.18785, 0.0027849, -0.18411, -0.11514, -0.78581]\n",
            "\n",
            "Test sentence:  The quick brown fox jumps over the lazy dog \n",
            "\n",
            "Test sentence embeddings from complete vocabulary of 400000 words:\n",
            "\n",
            "the:  [ 4.1800e-01  2.4968e-01 -4.1242e-01  1.2170e-01  3.4527e-01 -4.4457e-02\n",
            " -4.9688e-01 -1.7862e-01 -6.6023e-04 -6.5660e-01  2.7843e-01 -1.4767e-01\n",
            " -5.5677e-01  1.4658e-01 -9.5095e-03  1.1658e-02  1.0204e-01 -1.2792e-01\n",
            " -8.4430e-01 -1.2181e-01 -1.6801e-02 -3.3279e-01 -1.5520e-01 -2.3131e-01\n",
            " -1.9181e-01 -1.8823e+00 -7.6746e-01  9.9051e-02 -4.2125e-01 -1.9526e-01\n",
            "  4.0071e+00 -1.8594e-01 -5.2287e-01 -3.1681e-01  5.9213e-04  7.4449e-03\n",
            "  1.7778e-01 -1.5897e-01  1.2041e-02 -5.4223e-02 -2.9871e-01 -1.5749e-01\n",
            " -3.4758e-01 -4.5637e-02 -4.4251e-01  1.8785e-01  2.7849e-03 -1.8411e-01\n",
            " -1.1514e-01 -7.8581e-01]\n",
            "quick:  [ 0.13967   -0.53798   -0.18047   -0.25142    0.16203   -0.13868\n",
            " -0.24637    0.75111    0.27264    0.61035   -0.82548    0.038647\n",
            " -0.32361    0.30373   -0.14598   -0.23551    0.39267   -1.1287\n",
            " -0.23636   -1.0629     0.046277   0.29143   -0.25819   -0.094902\n",
            "  0.79478   -1.2095    -0.01039   -0.092086   0.84322   -0.11061\n",
            "  3.0096     0.51652   -0.76986    0.51074    0.37508    0.12156\n",
            "  0.082794   0.43605   -0.1584    -0.61048    0.35006    0.52465\n",
            " -0.51747    0.0034705  0.73625    0.16252    0.85279    0.85268\n",
            "  0.57892    0.64483  ]\n",
            "brown:  [-0.88497   0.71685  -0.40379  -0.10698   0.81457   1.0258   -1.2698\n",
            " -0.49382  -0.27839  -0.92251  -0.49409   0.78942  -0.20066  -0.057371\n",
            "  0.060682  0.30746   0.13441  -0.49376  -0.54788  -0.81912  -0.45394\n",
            "  0.52098   1.0325   -0.8584   -0.65848  -1.2736    0.23616   1.0486\n",
            "  0.18442  -0.3901    2.1385   -0.45301  -0.16911  -0.46737   0.15938\n",
            " -0.095071 -0.26512  -0.056479  0.63849  -1.0494    0.037507  0.76434\n",
            " -0.6412   -0.59594   0.46589   0.31494  -0.34072  -0.59167  -0.31057\n",
            "  0.73274 ]\n",
            "fox:  [ 0.44206   0.059552  0.15861   0.92777   0.1876    0.24256  -1.593\n",
            " -0.79847  -0.34099  -0.24021  -0.32756   0.43639  -0.11057   0.50472\n",
            "  0.43853   0.19738  -0.1498   -0.046979 -0.83286   0.39878   0.062174\n",
            "  0.28803   0.79134   0.31798  -0.21933  -1.1015   -0.080309  0.39122\n",
            "  0.19503  -0.5936    1.7921    0.3826   -0.30509  -0.58686  -0.76935\n",
            " -0.61914  -0.61771  -0.68484  -0.67919  -0.74626  -0.036646  0.78251\n",
            " -1.0072   -0.59057  -0.7849   -0.39113  -0.49727  -0.4283   -0.15204\n",
            "  1.5064  ]\n",
            "jumps:  [-0.46105   -0.34219    0.71473   -0.29778    0.28839    0.6248\n",
            "  0.36807   -0.072746   0.60476    0.31463   -0.052247  -0.62302\n",
            " -0.56332    0.7855     0.18116   -0.31698    0.38298   -0.081953\n",
            " -1.3658    -0.78263    0.39804   -0.17001   -0.11926   -0.40146\n",
            "  1.1057    -0.51142   -0.36614    0.22177    0.34626   -0.30648\n",
            "  1.3869     0.77328    0.5946     1.2577     0.23472   -0.46087\n",
            " -0.009223   0.44534    0.012732  -0.24749   -0.7142     0.02422\n",
            "  0.083527   0.25088   -0.24259   -1.354      1.5481    -0.31728\n",
            "  0.55305   -0.0028062]\n",
            "over:  [ 0.12972    0.088073   0.24375    0.078102  -0.12783    0.27831\n",
            " -0.48693    0.19649   -0.39558   -0.28362   -0.47425   -0.59317\n",
            " -0.58804   -0.31702    0.49593    0.0087594  0.039613  -0.42495\n",
            " -0.97641   -0.46534    0.020675   0.086042   0.39317   -0.51255\n",
            " -0.17913   -1.8333     0.5622     0.41626    0.075127   0.02189\n",
            "  3.784      0.71067   -0.073943   0.15373   -0.3853    -0.070163\n",
            " -0.35374    0.074501  -0.084228  -0.45548   -0.081068   0.39157\n",
            "  0.173      0.2254    -0.12836    0.40951   -0.26079    0.090912\n",
            " -0.60515   -0.9827   ]\n",
            "the:  [ 4.1800e-01  2.4968e-01 -4.1242e-01  1.2170e-01  3.4527e-01 -4.4457e-02\n",
            " -4.9688e-01 -1.7862e-01 -6.6023e-04 -6.5660e-01  2.7843e-01 -1.4767e-01\n",
            " -5.5677e-01  1.4658e-01 -9.5095e-03  1.1658e-02  1.0204e-01 -1.2792e-01\n",
            " -8.4430e-01 -1.2181e-01 -1.6801e-02 -3.3279e-01 -1.5520e-01 -2.3131e-01\n",
            " -1.9181e-01 -1.8823e+00 -7.6746e-01  9.9051e-02 -4.2125e-01 -1.9526e-01\n",
            "  4.0071e+00 -1.8594e-01 -5.2287e-01 -3.1681e-01  5.9213e-04  7.4449e-03\n",
            "  1.7778e-01 -1.5897e-01  1.2041e-02 -5.4223e-02 -2.9871e-01 -1.5749e-01\n",
            " -3.4758e-01 -4.5637e-02 -4.4251e-01  1.8785e-01  2.7849e-03 -1.8411e-01\n",
            " -1.1514e-01 -7.8581e-01]\n",
            "lazy:  [-0.27611  -0.59712  -0.49227  -1.0372   -0.35878  -0.097425 -0.21014\n",
            " -0.092836 -0.054118  0.4542   -0.53296   0.37602   0.77087   0.79669\n",
            " -0.076608 -0.42515   0.42576   0.32791  -0.21996  -0.20261  -0.85139\n",
            "  0.80547   0.97621   0.9792    1.1118   -0.36062  -0.2588    0.8596\n",
            "  0.73631  -0.18601   1.2376   -0.038938  0.19246   0.52473  -0.04842\n",
            " -0.044149  0.064432  0.087822  0.42232  -0.55991  -0.44096   0.097736\n",
            " -0.17589   1.1799    0.13152  -1.0795    0.45685  -0.63312   1.2752\n",
            "  1.1672  ]\n",
            "dog:  [ 0.11008   -0.38781   -0.57615   -0.27714    0.70521    0.53994\n",
            " -1.0786    -0.40146    1.1504    -0.5678     0.0038977  0.52878\n",
            "  0.64561    0.47262    0.48549   -0.18407    0.1801     0.91397\n",
            " -1.1979    -0.5778    -0.37985    0.33606    0.772      0.75555\n",
            "  0.45506   -1.7671    -1.0503     0.42566    0.41893   -0.68327\n",
            "  1.5673     0.27685   -0.61708    0.64638   -0.076996   0.37118\n",
            "  0.1308    -0.45137    0.25398   -0.74392   -0.086199   0.24068\n",
            " -0.64819    0.83549    1.2502    -0.51379    0.04224   -0.88118\n",
            "  0.7158     0.38519  ]\n"
          ],
          "name": "stdout"
        }
      ]
    },
    {
      "cell_type": "code",
      "metadata": {
        "colab_type": "code",
        "outputId": "bfd78af6-787c-4e38-b1e1-8e3e460e2504",
        "id": "qlr0A-0nnThI",
        "colab": {
          "base_uri": "https://localhost:8080/",
          "height": 1207
        }
      },
      "source": [
        "\n",
        "# ------------------------------------------------------------- \n",
        "# Define vocabulary size for the language model    \n",
        "# To reduce the size of the vocabulary to the n most frequently used words\n",
        "\n",
        "def default_factory():\n",
        "    return EVOCABSIZE  # last/unknown-word row in limited_index_to_embedding\n",
        "# dictionary has the items() function, returns list of (key, value) tuples\n",
        "limited_word_to_index = defaultdict(default_factory, \\\n",
        "    {k: v for k, v in word_to_index.items() if v < EVOCABSIZE})\n",
        "\n",
        "# Select the first EVOCABSIZE rows to the index_to_embedding\n",
        "limited_index_to_embedding = index_to_embedding[0:EVOCABSIZE,:]\n",
        "# Set the unknown-word row to be all zeros as previously\n",
        "limited_index_to_embedding = np.append(limited_index_to_embedding, \n",
        "    index_to_embedding[index_to_embedding.shape[0] - 1, :].\\\n",
        "        reshape(1,embedding_dim), \n",
        "    axis = 0)\n",
        "\n",
        "# Delete large numpy array to clear some CPU RAM\n",
        "#del index_to_embedding\n",
        "\n",
        "# Verify the new vocabulary: should get same embeddings for test sentence\n",
        "# Note that a small EVOCABSIZE may yield some zero vectors for embeddings\n",
        "print('\\nTest sentence embeddings from vocabulary of', EVOCABSIZE, 'words:\\n')\n",
        "for word in words_in_test_sentence:\n",
        "    word_ = word.lower()\n",
        "    embedding = limited_index_to_embedding[limited_word_to_index[word_]]\n",
        "    print(word_ + \": \", embedding)\n",
        "\n",
        "# ------------------------------------------------------------\n",
        "# code for working with movie reviews data \n",
        "# Source: Miller, T. W. (2016). Web and Network Data Science.\n",
        "#    Upper Saddle River, N.J.: Pearson Education.\n",
        "#    ISBN-13: 978-0-13-388644-3\n",
        "# This original study used a simple bag-of-words approach\n",
        "# to sentiment analysis, along with pre-defined lists of\n",
        "# negative and positive words.        \n",
        "# Code available at:  https://github.com/mtpa/wnds       \n",
        "# ------------------------------------------------------------\n",
        "# Utility function to get file names within a directory\n",
        "def listdir_no_hidden(path):\n",
        "    start_list = os.listdir(path)\n",
        "    end_list = []\n",
        "    for file in start_list:\n",
        "        if (not file.startswith('.')):\n",
        "            end_list.append(file)\n",
        "    return(end_list)\n",
        "\n",
        "# define list of codes to be dropped from document\n",
        "# carriage-returns, line-feeds, tabs\n",
        "codelist = ['\\r', '\\n', '\\t']   \n",
        "\n",
        "# We will not remove stopwords in this exercise because they are\n",
        "# important to keeping sentences intact\n",
        "if REMOVE_STOPWORDS:\n",
        "    print(nltk.corpus.stopwords.words('english'))\n",
        "\n",
        "# previous analysis of a list of top terms showed a number of words, along \n",
        "# with contractions and other word strings to drop from further analysis, add\n",
        "# these to the usual English stopwords to be dropped from a document collection\n",
        "    more_stop_words = ['cant','didnt','doesnt','dont','goes','isnt','hes',\\\n",
        "        'shes','thats','theres','theyre','wont','youll','youre','youve', 'br'\\\n",
        "        've', 're', 'vs'] \n",
        "\n",
        "    some_proper_nouns_to_remove = ['dick','ginger','hollywood','jack',\\\n",
        "        'jill','john','karloff','kudrow','orson','peter','tcm','tom',\\\n",
        "        'toni','welles','william','wolheim','nikita']\n",
        "\n",
        "    # start with the initial list and add to it for movie text work \n",
        "    stoplist = nltk.corpus.stopwords.words('english') + more_stop_words +\\\n",
        "        some_proper_nouns_to_remove\n",
        "\n",
        "# text parsing function for creating text documents \n",
        "# there is more we could do for data preparation \n",
        "# stemming... looking for contractions... possessives... \n",
        "# but we will work with what we have in this parsing function\n",
        "# if we want to do stemming at a later time, we can use\n",
        "#     porter = nltk.PorterStemmer()  \n",
        "# in a construction like this\n",
        "#     words_stemmed =  [porter.stem(word) for word in initial_words]  \n",
        "def text_parse(string):\n",
        "    # replace non-alphanumeric with space \n",
        "    temp_string = re.sub('[^a-zA-Z]', '  ', string)    \n",
        "    # replace codes with space\n",
        "    for i in range(len(codelist)):\n",
        "        stopstring = ' ' + codelist[i] + '  '\n",
        "        temp_string = re.sub(stopstring, '  ', temp_string)      \n",
        "    # replace single-character words with space\n",
        "    temp_string = re.sub('\\s.\\s', ' ', temp_string)   \n",
        "    # convert uppercase to lowercase\n",
        "    temp_string = temp_string.lower()    \n",
        "    if REMOVE_STOPWORDS:\n",
        "        # replace selected character strings/stop-words with space\n",
        "        for i in range(len(stoplist)):\n",
        "            stopstring = ' ' + str(stoplist[i]) + ' '\n",
        "            temp_string = re.sub(stopstring, ' ', temp_string)        \n",
        "    # replace multiple blank characters with one blank character\n",
        "    temp_string = re.sub('\\s+', ' ', temp_string)    \n",
        "    return(temp_string)    \n",
        "\n",
        "# -----------------------------------------------"
      ],
      "execution_count": 192,
      "outputs": [
        {
          "output_type": "stream",
          "text": [
            "\n",
            "Test sentence embeddings from vocabulary of 10000 words:\n",
            "\n",
            "the:  [ 4.1800e-01  2.4968e-01 -4.1242e-01  1.2170e-01  3.4527e-01 -4.4457e-02\n",
            " -4.9688e-01 -1.7862e-01 -6.6023e-04 -6.5660e-01  2.7843e-01 -1.4767e-01\n",
            " -5.5677e-01  1.4658e-01 -9.5095e-03  1.1658e-02  1.0204e-01 -1.2792e-01\n",
            " -8.4430e-01 -1.2181e-01 -1.6801e-02 -3.3279e-01 -1.5520e-01 -2.3131e-01\n",
            " -1.9181e-01 -1.8823e+00 -7.6746e-01  9.9051e-02 -4.2125e-01 -1.9526e-01\n",
            "  4.0071e+00 -1.8594e-01 -5.2287e-01 -3.1681e-01  5.9213e-04  7.4449e-03\n",
            "  1.7778e-01 -1.5897e-01  1.2041e-02 -5.4223e-02 -2.9871e-01 -1.5749e-01\n",
            " -3.4758e-01 -4.5637e-02 -4.4251e-01  1.8785e-01  2.7849e-03 -1.8411e-01\n",
            " -1.1514e-01 -7.8581e-01]\n",
            "quick:  [ 0.13967   -0.53798   -0.18047   -0.25142    0.16203   -0.13868\n",
            " -0.24637    0.75111    0.27264    0.61035   -0.82548    0.038647\n",
            " -0.32361    0.30373   -0.14598   -0.23551    0.39267   -1.1287\n",
            " -0.23636   -1.0629     0.046277   0.29143   -0.25819   -0.094902\n",
            "  0.79478   -1.2095    -0.01039   -0.092086   0.84322   -0.11061\n",
            "  3.0096     0.51652   -0.76986    0.51074    0.37508    0.12156\n",
            "  0.082794   0.43605   -0.1584    -0.61048    0.35006    0.52465\n",
            " -0.51747    0.0034705  0.73625    0.16252    0.85279    0.85268\n",
            "  0.57892    0.64483  ]\n",
            "brown:  [-0.88497   0.71685  -0.40379  -0.10698   0.81457   1.0258   -1.2698\n",
            " -0.49382  -0.27839  -0.92251  -0.49409   0.78942  -0.20066  -0.057371\n",
            "  0.060682  0.30746   0.13441  -0.49376  -0.54788  -0.81912  -0.45394\n",
            "  0.52098   1.0325   -0.8584   -0.65848  -1.2736    0.23616   1.0486\n",
            "  0.18442  -0.3901    2.1385   -0.45301  -0.16911  -0.46737   0.15938\n",
            " -0.095071 -0.26512  -0.056479  0.63849  -1.0494    0.037507  0.76434\n",
            " -0.6412   -0.59594   0.46589   0.31494  -0.34072  -0.59167  -0.31057\n",
            "  0.73274 ]\n",
            "fox:  [ 0.44206   0.059552  0.15861   0.92777   0.1876    0.24256  -1.593\n",
            " -0.79847  -0.34099  -0.24021  -0.32756   0.43639  -0.11057   0.50472\n",
            "  0.43853   0.19738  -0.1498   -0.046979 -0.83286   0.39878   0.062174\n",
            "  0.28803   0.79134   0.31798  -0.21933  -1.1015   -0.080309  0.39122\n",
            "  0.19503  -0.5936    1.7921    0.3826   -0.30509  -0.58686  -0.76935\n",
            " -0.61914  -0.61771  -0.68484  -0.67919  -0.74626  -0.036646  0.78251\n",
            " -1.0072   -0.59057  -0.7849   -0.39113  -0.49727  -0.4283   -0.15204\n",
            "  1.5064  ]\n",
            "jumps:  [0. 0. 0. 0. 0. 0. 0. 0. 0. 0. 0. 0. 0. 0. 0. 0. 0. 0. 0. 0. 0. 0. 0. 0.\n",
            " 0. 0. 0. 0. 0. 0. 0. 0. 0. 0. 0. 0. 0. 0. 0. 0. 0. 0. 0. 0. 0. 0. 0. 0.\n",
            " 0. 0.]\n",
            "over:  [ 0.12972    0.088073   0.24375    0.078102  -0.12783    0.27831\n",
            " -0.48693    0.19649   -0.39558   -0.28362   -0.47425   -0.59317\n",
            " -0.58804   -0.31702    0.49593    0.0087594  0.039613  -0.42495\n",
            " -0.97641   -0.46534    0.020675   0.086042   0.39317   -0.51255\n",
            " -0.17913   -1.8333     0.5622     0.41626    0.075127   0.02189\n",
            "  3.784      0.71067   -0.073943   0.15373   -0.3853    -0.070163\n",
            " -0.35374    0.074501  -0.084228  -0.45548   -0.081068   0.39157\n",
            "  0.173      0.2254    -0.12836    0.40951   -0.26079    0.090912\n",
            " -0.60515   -0.9827   ]\n",
            "the:  [ 4.1800e-01  2.4968e-01 -4.1242e-01  1.2170e-01  3.4527e-01 -4.4457e-02\n",
            " -4.9688e-01 -1.7862e-01 -6.6023e-04 -6.5660e-01  2.7843e-01 -1.4767e-01\n",
            " -5.5677e-01  1.4658e-01 -9.5095e-03  1.1658e-02  1.0204e-01 -1.2792e-01\n",
            " -8.4430e-01 -1.2181e-01 -1.6801e-02 -3.3279e-01 -1.5520e-01 -2.3131e-01\n",
            " -1.9181e-01 -1.8823e+00 -7.6746e-01  9.9051e-02 -4.2125e-01 -1.9526e-01\n",
            "  4.0071e+00 -1.8594e-01 -5.2287e-01 -3.1681e-01  5.9213e-04  7.4449e-03\n",
            "  1.7778e-01 -1.5897e-01  1.2041e-02 -5.4223e-02 -2.9871e-01 -1.5749e-01\n",
            " -3.4758e-01 -4.5637e-02 -4.4251e-01  1.8785e-01  2.7849e-03 -1.8411e-01\n",
            " -1.1514e-01 -7.8581e-01]\n",
            "lazy:  [0. 0. 0. 0. 0. 0. 0. 0. 0. 0. 0. 0. 0. 0. 0. 0. 0. 0. 0. 0. 0. 0. 0. 0.\n",
            " 0. 0. 0. 0. 0. 0. 0. 0. 0. 0. 0. 0. 0. 0. 0. 0. 0. 0. 0. 0. 0. 0. 0. 0.\n",
            " 0. 0.]\n",
            "dog:  [ 0.11008   -0.38781   -0.57615   -0.27714    0.70521    0.53994\n",
            " -1.0786    -0.40146    1.1504    -0.5678     0.0038977  0.52878\n",
            "  0.64561    0.47262    0.48549   -0.18407    0.1801     0.91397\n",
            " -1.1979    -0.5778    -0.37985    0.33606    0.772      0.75555\n",
            "  0.45506   -1.7671    -1.0503     0.42566    0.41893   -0.68327\n",
            "  1.5673     0.27685   -0.61708    0.64638   -0.076996   0.37118\n",
            "  0.1308    -0.45137    0.25398   -0.74392   -0.086199   0.24068\n",
            " -0.64819    0.83549    1.2502    -0.51379    0.04224   -0.88118\n",
            "  0.7158     0.38519  ]\n"
          ],
          "name": "stdout"
        }
      ]
    },
    {
      "cell_type": "code",
      "metadata": {
        "id": "16vSOU8cgmQM",
        "colab_type": "code",
        "colab": {}
      },
      "source": [
        ""
      ],
      "execution_count": 0,
      "outputs": []
    },
    {
      "cell_type": "markdown",
      "metadata": {
        "id": "9pus-3ZOrtbb",
        "colab_type": "text"
      },
      "source": [
        "###Gather Reviews - Negative and Positive\n"
      ]
    },
    {
      "cell_type": "code",
      "metadata": {
        "id": "dnT07M8RufgZ",
        "colab_type": "code",
        "colab": {}
      },
      "source": [
        "dir_name = '/content/drive/My Drive/movie-reviews-negative/'\n",
        "# neg_filenames = !ls '/content/drive/My Drive/movie-reviews-negative'\n",
        "filenames = listdir_no_hidden(path=dir_name)\n",
        "num_files = len(filenames)\n",
        "\n",
        "# for i in range(len(neg_file_list)):\n",
        "#     file_exists = os.path.isfile(os.path.join(dir_name, neg_file_list[i]))\n",
        "#     assert file_exists\n",
        "# print('\\nDirectory:',dir_name)    \n",
        "# print('%d files found' % len(neg_file_list))"
      ],
      "execution_count": 0,
      "outputs": []
    },
    {
      "cell_type": "code",
      "metadata": {
        "id": "DA47lYRBvUyS",
        "colab_type": "code",
        "colab": {}
      },
      "source": [
        "def read_data(filename):\n",
        "\n",
        "  with open(filename, encoding='utf-8') as f:\n",
        "    data = tf.compat.as_str(f.read())\n",
        "    data = data.lower()\n",
        "    data = text_parse(data)\n",
        "    data = TreebankWordTokenizer().tokenize(data)  # The Penn Treebank\n",
        "\n",
        "  return data"
      ],
      "execution_count": 0,
      "outputs": []
    },
    {
      "cell_type": "code",
      "metadata": {
        "id": "aKadBNNW4W0T",
        "colab_type": "code",
        "colab": {
          "base_uri": "https://localhost:8080/",
          "height": 51
        },
        "outputId": "509990a1-4df8-41e9-c014-f0a4b3537093"
      },
      "source": [
        "negative_documents = []\n",
        "\n",
        "print('\\nProcessing document files under', dir_name)\n",
        "for i in range(num_files):\n",
        "    #print(' ', filenames[i])\n",
        "\n",
        "    words = read_data(os.path.join(dir_name, filenames[i]))\n",
        "    negative_documents.append(words)\n",
        "    "
      ],
      "execution_count": 195,
      "outputs": [
        {
          "output_type": "stream",
          "text": [
            "\n",
            "Processing document files under /content/drive/My Drive/movie-reviews-negative/\n"
          ],
          "name": "stdout"
        }
      ]
    },
    {
      "cell_type": "code",
      "metadata": {
        "id": "k1NEc7Hy593Z",
        "colab_type": "code",
        "colab": {
          "base_uri": "https://localhost:8080/",
          "height": 34
        },
        "outputId": "04563c45-413e-4e25-e873-ee1f03251a9a"
      },
      "source": [
        "len(negative_documents)"
      ],
      "execution_count": 196,
      "outputs": [
        {
          "output_type": "execute_result",
          "data": {
            "text/plain": [
              "500"
            ]
          },
          "metadata": {
            "tags": []
          },
          "execution_count": 196
        }
      ]
    },
    {
      "cell_type": "markdown",
      "metadata": {
        "id": "gq1Mog-YG44h",
        "colab_type": "text"
      },
      "source": [
        "Postive Reviews - Gather Data"
      ]
    },
    {
      "cell_type": "code",
      "metadata": {
        "id": "z_4OngRo7cSw",
        "colab_type": "code",
        "colab": {
          "base_uri": "https://localhost:8080/",
          "height": 51
        },
        "outputId": "f95f5f12-2a39-4a6e-8ace-f84546759bfa"
      },
      "source": [
        "dir_name = '/content/drive/My Drive/movie-reviews-positive/'\n",
        "# neg_filenames = !ls '/content/drive/My Drive/movie-reviews-negative'\n",
        "filenames = listdir_no_hidden(path=dir_name)\n",
        "num_files = len(filenames)\n",
        "\n",
        "positive_documents = []\n",
        "\n",
        "print('\\nProcessing document files under', dir_name)\n",
        "for i in range(num_files):\n",
        "    #print(' ', filenames[i])\n",
        "\n",
        "    words = read_data(os.path.join(dir_name, filenames[i]))\n",
        "    positive_documents.append(words)"
      ],
      "execution_count": 197,
      "outputs": [
        {
          "output_type": "stream",
          "text": [
            "\n",
            "Processing document files under /content/drive/My Drive/movie-reviews-positive/\n"
          ],
          "name": "stdout"
        }
      ]
    },
    {
      "cell_type": "code",
      "metadata": {
        "id": "Ewn_39IxHOtS",
        "colab_type": "code",
        "colab": {
          "base_uri": "https://localhost:8080/",
          "height": 34
        },
        "outputId": "758d5d02-19ad-48fd-b1c7-d2f8c45be792"
      },
      "source": [
        "len(positive_documents)"
      ],
      "execution_count": 198,
      "outputs": [
        {
          "output_type": "execute_result",
          "data": {
            "text/plain": [
              "500"
            ]
          },
          "metadata": {
            "tags": []
          },
          "execution_count": 198
        }
      ]
    },
    {
      "cell_type": "markdown",
      "metadata": {
        "id": "Wu3SK1m5Ss6v",
        "colab_type": "text"
      },
      "source": [
        "### Show Major Words"
      ]
    },
    {
      "cell_type": "code",
      "metadata": {
        "id": "Z2Y9s9piTAbO",
        "colab_type": "code",
        "colab": {
          "base_uri": "https://localhost:8080/",
          "height": 391
        },
        "outputId": "83817700-4089-4f93-e8ca-9bbfe6db6aa5"
      },
      "source": [
        "for word in positive_documents:\n",
        "  for word in word:\n",
        "    word_ = word.lower()\n",
        "    embedding = index_to_embedding[word_to_index[word_]]\n",
        "    if float(np.linalg.norm(embedding)) > 7:\n",
        "      norm = str(np.linalg.norm(embedding))\n",
        "\n",
        "      print((word + \": \").ljust(15) + norm)\n",
        "# print(\"Note: here we printed words starting with capital letters, \\n\"\n",
        "#       \"however to take their embeddings we need their lowercase version (str.lower())\")"
      ],
      "execution_count": 199,
      "outputs": [
        {
          "output_type": "stream",
          "text": [
            "cents:         7.132643022166443\n",
            "yen:           7.352429926608617\n",
            "huk:           7.433102355194111\n",
            "billion:       7.371013581415314\n",
            "duh:           7.516570923567951\n",
            "mur:           7.017110525600192\n",
            "cents:         7.132643022166443\n",
            "index:         7.13995329162215\n",
            "bouchet:       7.072356350444384\n",
            "bouchet:       7.072356350444384\n",
            "bouchet:       7.072356350444384\n",
            "bouchet:       7.072356350444384\n",
            "bouchet:       7.072356350444384\n",
            "bouchet:       7.072356350444384\n",
            "bouchet:       7.072356350444384\n",
            "bouchet:       7.072356350444384\n",
            "bouchet:       7.072356350444384\n",
            "bouchet:       7.072356350444384\n",
            "bouchet:       7.072356350444384\n",
            "bouchet:       7.072356350444384\n",
            "roeper:        7.147004479193854\n",
            "roeper:        7.147004479193854\n"
          ],
          "name": "stdout"
        }
      ]
    },
    {
      "cell_type": "code",
      "metadata": {
        "id": "V7Ssd4vhihTG",
        "colab_type": "code",
        "colab": {
          "base_uri": "https://localhost:8080/",
          "height": 306
        },
        "outputId": "563ebd0f-fb06-4b7b-8e06-8ad6b7a0cfdc"
      },
      "source": [
        "for word in negative_documents:\n",
        "  for word in word:\n",
        "    word_ = word.lower()\n",
        "    embedding = index_to_embedding[word_to_index[word_]]\n",
        "    if float(np.linalg.norm(embedding)) > 7:\n",
        "      norm = str(np.linalg.norm(embedding))\n",
        "\n",
        "      print((word + \": \").ljust(15) + norm)"
      ],
      "execution_count": 200,
      "outputs": [
        {
          "output_type": "stream",
          "text": [
            "cents:         7.132643022166443\n",
            "herein:        9.025840270305642\n",
            "heh:           7.136435992616148\n",
            "heh:           7.136435992616148\n",
            "expectable:    8.218706406533816\n",
            "ee:            7.408210289925834\n",
            "minister:      7.055862783003153\n",
            "feh:           9.175938250165755\n",
            "hah:           8.893612129012613\n",
            "cents:         7.132643022166443\n",
            "minister:      7.055862783003153\n",
            "minister:      7.055862783003153\n",
            "rahs:          8.61003805380795\n",
            "uh:            7.278735447096524\n",
            "minister:      7.055862783003153\n",
            "hahk:          7.136847005913956\n",
            "behl:          7.008982925702131\n"
          ],
          "name": "stdout"
        }
      ]
    },
    {
      "cell_type": "markdown",
      "metadata": {
        "id": "nVN-9SH9HWwO",
        "colab_type": "text"
      },
      "source": [
        "# convert positive/negative documents into numpy array \n",
        "note that reviews vary from 22 to 1052 words   so we use the first 20 and last 20 words of each review  as our word sequences for analysis"
      ]
    },
    {
      "cell_type": "code",
      "metadata": {
        "id": "A4vD845GHXx0",
        "colab_type": "code",
        "colab": {
          "base_uri": "https://localhost:8080/",
          "height": 51
        },
        "outputId": "565991b4-01a0-4b88-86bc-f8c7f3ae3679"
      },
      "source": [
        "max_review_length = 0  # initialize\n",
        "for doc in negative_documents:\n",
        "    max_review_length = max(max_review_length, len(doc))    \n",
        "for doc in positive_documents:\n",
        "    max_review_length = max(max_review_length, len(doc)) \n",
        "print('max_review_length:', max_review_length) \n",
        "\n",
        "min_review_length = max_review_length  # initialize\n",
        "for doc in negative_documents:\n",
        "    min_review_length = min(min_review_length, len(doc))    \n",
        "for doc in positive_documents:\n",
        "    min_review_length = min(min_review_length, len(doc)) \n",
        "print('min_review_length:', min_review_length) "
      ],
      "execution_count": 201,
      "outputs": [
        {
          "output_type": "stream",
          "text": [
            "max_review_length: 1052\n",
            "min_review_length: 22\n"
          ],
          "name": "stdout"
        }
      ]
    },
    {
      "cell_type": "markdown",
      "metadata": {
        "id": "fFS6quhHH16j",
        "colab_type": "text"
      },
      "source": [
        " construct list of 1000 lists with 40 words in each list"
      ]
    },
    {
      "cell_type": "code",
      "metadata": {
        "id": "mUH5i8iGH2c-",
        "colab_type": "code",
        "colab": {}
      },
      "source": [
        "from itertools import chain\n",
        "documents = []\n",
        "for doc in negative_documents:\n",
        "    doc_begin = doc[0:20]\n",
        "    doc_end = doc[len(doc) - 20: len(doc)]\n",
        "    documents.append(list(chain(*[doc_begin, doc_end])))    \n",
        "for doc in positive_documents:\n",
        "    doc_begin = doc[0:20]\n",
        "    doc_end = doc[len(doc) - 20: len(doc)]\n",
        "    documents.append(list(chain(*[doc_begin, doc_end])))   "
      ],
      "execution_count": 0,
      "outputs": []
    },
    {
      "cell_type": "markdown",
      "metadata": {
        "id": "EAYoNpEIIBW6",
        "colab_type": "text"
      },
      "source": [
        " create list of lists of lists for embeddings"
      ]
    },
    {
      "cell_type": "code",
      "metadata": {
        "id": "yd_MvwInH8u9",
        "colab_type": "code",
        "colab": {}
      },
      "source": [
        "\n",
        "embeddings = []    \n",
        "for doc in documents:\n",
        "    embedding = []\n",
        "    for word in doc:\n",
        "       embedding.append(limited_index_to_embedding[limited_word_to_index[word]]) \n",
        "    embeddings.append(embedding)\n"
      ],
      "execution_count": 0,
      "outputs": []
    },
    {
      "cell_type": "code",
      "metadata": {
        "id": "4gra6RBlIHj1",
        "colab_type": "code",
        "colab": {
          "base_uri": "https://localhost:8080/",
          "height": 374
        },
        "outputId": "48738174-2154-4326-b70a-615e3f41f8c4"
      },
      "source": [
        "#Check on the embeddings list of list of lists \n",
        "# -----------------------------------------------------\n",
        "# Show the first word in the first document\n",
        "test_word = documents[0][0]    \n",
        "print('First word in first document:', test_word)    \n",
        "print('Embedding for this word:\\n', \n",
        "      limited_index_to_embedding[limited_word_to_index[test_word]])\n",
        "print('Corresponding embedding from embeddings list of list of lists\\n',\n",
        "      embeddings[0][0][:])"
      ],
      "execution_count": 204,
      "outputs": [
        {
          "output_type": "stream",
          "text": [
            "First word in first document: story\n",
            "Embedding for this word:\n",
            " [ 0.48251    0.87746   -0.23455    0.0262     0.79691    0.43102\n",
            " -0.60902   -0.60764   -0.42812   -0.012523  -1.2894     0.52656\n",
            " -0.82763    0.30689    1.1972    -0.47674   -0.46885   -0.19524\n",
            " -0.28403    0.35237    0.45536    0.76853    0.0062157  0.55421\n",
            "  1.0006    -1.3973    -1.6894     0.30003    0.60678   -0.46044\n",
            "  2.5961    -1.2178     0.28747   -0.46175   -0.25943    0.38209\n",
            " -0.28312   -0.47642   -0.059444  -0.59202    0.25613    0.21306\n",
            " -0.016129  -0.29873   -0.19468    0.53611    0.75459   -0.4112\n",
            "  0.23625    0.26451  ]\n",
            "Corresponding embedding from embeddings list of list of lists\n",
            " [ 0.48251    0.87746   -0.23455    0.0262     0.79691    0.43102\n",
            " -0.60902   -0.60764   -0.42812   -0.012523  -1.2894     0.52656\n",
            " -0.82763    0.30689    1.1972    -0.47674   -0.46885   -0.19524\n",
            " -0.28403    0.35237    0.45536    0.76853    0.0062157  0.55421\n",
            "  1.0006    -1.3973    -1.6894     0.30003    0.60678   -0.46044\n",
            "  2.5961    -1.2178     0.28747   -0.46175   -0.25943    0.38209\n",
            " -0.28312   -0.47642   -0.059444  -0.59202    0.25613    0.21306\n",
            " -0.016129  -0.29873   -0.19468    0.53611    0.75459   -0.4112\n",
            "  0.23625    0.26451  ]\n"
          ],
          "name": "stdout"
        }
      ]
    },
    {
      "cell_type": "code",
      "metadata": {
        "id": "G-nNQcHbIL6k",
        "colab_type": "code",
        "colab": {
          "base_uri": "https://localhost:8080/",
          "height": 340
        },
        "outputId": "4b60bc71-c23b-4a1f-e3a4-56f66cd4a999"
      },
      "source": [
        "# Show the seventh word in the tenth document\n",
        "test_word = documents[6][9]    \n",
        "print('First word in first document:', test_word)    \n",
        "print('Embedding for this word:\\n', \n",
        "      limited_index_to_embedding[limited_word_to_index[test_word]])\n",
        "print('Corresponding embedding from embeddings list of list of lists\\n',\n",
        "      embeddings[6][9][:])\n"
      ],
      "execution_count": 205,
      "outputs": [
        {
          "output_type": "stream",
          "text": [
            "First word in first document: here\n",
            "Embedding for this word:\n",
            " [ 0.14094   0.68201  -0.50406   0.38316   0.63427  -1.1851   -0.46932\n",
            "  0.28639  -0.43216  -0.55399  -0.44542  -0.37547  -0.3705   -0.10563\n",
            "  1.1606    0.43494   0.38033   0.030184 -0.24547  -0.43203  -0.031259\n",
            "  0.50174   0.27714   0.12505   0.82877  -1.7273   -0.3644    0.30344\n",
            " -0.17817  -0.012443  3.4775    0.51806  -0.46432  -0.13342  -0.22624\n",
            " -0.24472   0.062998  0.50663  -0.31938   0.079926 -0.54474   0.19452\n",
            "  0.12387  -0.055269  0.65444   0.43451  -0.42384   0.11082   0.11009\n",
            " -0.27094 ]\n",
            "Corresponding embedding from embeddings list of list of lists\n",
            " [ 0.14094   0.68201  -0.50406   0.38316   0.63427  -1.1851   -0.46932\n",
            "  0.28639  -0.43216  -0.55399  -0.44542  -0.37547  -0.3705   -0.10563\n",
            "  1.1606    0.43494   0.38033   0.030184 -0.24547  -0.43203  -0.031259\n",
            "  0.50174   0.27714   0.12505   0.82877  -1.7273   -0.3644    0.30344\n",
            " -0.17817  -0.012443  3.4775    0.51806  -0.46432  -0.13342  -0.22624\n",
            " -0.24472   0.062998  0.50663  -0.31938   0.079926 -0.54474   0.19452\n",
            "  0.12387  -0.055269  0.65444   0.43451  -0.42384   0.11082   0.11009\n",
            " -0.27094 ]\n"
          ],
          "name": "stdout"
        }
      ]
    },
    {
      "cell_type": "code",
      "metadata": {
        "id": "hPrzrqE8IQHA",
        "colab_type": "code",
        "colab": {
          "base_uri": "https://localhost:8080/",
          "height": 374
        },
        "outputId": "21963600-41da-4530-e53a-224f695cc784"
      },
      "source": [
        "# Show the last word in the last document\n",
        "test_word = documents[999][39]    \n",
        "print('First word in first document:', test_word)    \n",
        "print('Embedding for this word:\\n', \n",
        "      limited_index_to_embedding[limited_word_to_index[test_word]])\n",
        "print('Corresponding embedding from embeddings list of list of lists\\n',\n",
        "      embeddings[999][39][:])        "
      ],
      "execution_count": 206,
      "outputs": [
        {
          "output_type": "stream",
          "text": [
            "First word in first document: ages\n",
            "Embedding for this word:\n",
            " [ 0.23112    1.1862     0.11349   -0.88792    0.86805    0.91468\n",
            " -0.45029   -1.031     -0.9349    -0.0053284 -0.026446  -0.74621\n",
            "  0.52657   -0.43498    1.089      0.35619   -0.55435   -0.69322\n",
            " -0.50731    0.3368    -0.052842   0.48811    0.99526    1.0149\n",
            "  0.086193   0.39121   -0.65664   -1.3824     0.40994   -0.29029\n",
            "  2.3207     0.87304    0.14717   -0.54456    1.0059     0.057116\n",
            " -0.36031    0.062007  -0.068883  -0.048031  -0.51337   -0.73957\n",
            "  1.0286     0.71768    0.21626    0.289      0.93457   -0.86077\n",
            " -0.24782   -0.33616  ]\n",
            "Corresponding embedding from embeddings list of list of lists\n",
            " [ 0.23112    1.1862     0.11349   -0.88792    0.86805    0.91468\n",
            " -0.45029   -1.031     -0.9349    -0.0053284 -0.026446  -0.74621\n",
            "  0.52657   -0.43498    1.089      0.35619   -0.55435   -0.69322\n",
            " -0.50731    0.3368    -0.052842   0.48811    0.99526    1.0149\n",
            "  0.086193   0.39121   -0.65664   -1.3824     0.40994   -0.29029\n",
            "  2.3207     0.87304    0.14717   -0.54456    1.0059     0.057116\n",
            " -0.36031    0.062007  -0.068883  -0.048031  -0.51337   -0.73957\n",
            "  1.0286     0.71768    0.21626    0.289      0.93457   -0.86077\n",
            " -0.24782   -0.33616  ]\n"
          ],
          "name": "stdout"
        }
      ]
    },
    {
      "cell_type": "code",
      "metadata": {
        "id": "aMc4gxuTIXYt",
        "colab_type": "code",
        "colab": {}
      },
      "source": [
        ""
      ],
      "execution_count": 0,
      "outputs": []
    },
    {
      "cell_type": "markdown",
      "metadata": {
        "id": "t1m4fzugIgm9",
        "colab_type": "text"
      },
      "source": [
        " -----------------------------------------------------    \n",
        "### Make embeddings a numpy array for use in an RNN \n",
        "### Create training and test sets with Scikit Learn\n",
        "-----------------------------------------------------\n"
      ]
    },
    {
      "cell_type": "code",
      "metadata": {
        "id": "h2XzqQapIpSU",
        "colab_type": "code",
        "colab": {}
      },
      "source": [
        "embeddings_array = np.array(embeddings)\n",
        "\n",
        "# Define the labels to be used 500 negative (0) and 500 positive (1)\n",
        "thumbs_down_up = np.concatenate((np.zeros((500), dtype = np.int32), \n",
        "                      np.ones((500), dtype = np.int32)), axis = 0)\n"
      ],
      "execution_count": 0,
      "outputs": []
    },
    {
      "cell_type": "code",
      "metadata": {
        "id": "tYg4eGgnIxMY",
        "colab_type": "code",
        "colab": {}
      },
      "source": [
        ""
      ],
      "execution_count": 0,
      "outputs": []
    },
    {
      "cell_type": "markdown",
      "metadata": {
        "id": "pLkqEtX0IxtN",
        "colab_type": "text"
      },
      "source": [
        "### SKLearn"
      ]
    },
    {
      "cell_type": "code",
      "metadata": {
        "id": "fTIeNZlUI0wf",
        "colab_type": "code",
        "colab": {}
      },
      "source": [
        "from sklearn.model_selection import train_test_split\n",
        "\n",
        "# Random splitting of the data in to training (80%) and test (20%)  \n",
        "X_train, X_test, y_train, y_test = \\\n",
        "    train_test_split(embeddings_array, thumbs_down_up, test_size=0.20, \n",
        "                     random_state = RANDOM_SEED)"
      ],
      "execution_count": 0,
      "outputs": []
    },
    {
      "cell_type": "markdown",
      "metadata": {
        "id": "1lXswV4pI8Oc",
        "colab_type": "text"
      },
      "source": [
        " --------------------------------------------------------------------------      \n",
        "We use a very simple Recurrent Neural Network for this assignment Géron, A. 2017. Hands-On Machine Learning with Scikit-Learn & TensorFlow: Concepts, Tools, and Techniques to Build Intelligent Systems. \n",
        "    Sebastopol, Calif.: O'Reilly. [ISBN-13 978-1-491-96229-9] \n",
        "   Chapter 14 Recurrent Neural Networks, pages 390-391\n",
        "    Source code available at https://github.com/ageron/handson-ml\n",
        "   Jupyter notebook file 14_recurrent_neural_networks.ipynb\n",
        "   \n",
        "   See section on Training an sequence Classifier, # In [34]:\n",
        "    which uses the MNIST case data...  we revise to accommodate the movie review data in this assignment    "
      ]
    },
    {
      "cell_type": "code",
      "metadata": {
        "id": "ewE1d2_9I425",
        "colab_type": "code",
        "colab": {
          "base_uri": "https://localhost:8080/",
          "height": 11067
        },
        "outputId": "40142fc3-2f1f-4bad-ffd9-4e1bc21c4ccd"
      },
      "source": [
        "reset_graph()\n",
        "\n",
        "n_steps = embeddings_array.shape[1]  # number of words per document \n",
        "n_inputs = embeddings_array.shape[2]  # dimension of  pre-trained embeddings\n",
        "n_neurons = 20  # analyst specified number of neurons\n",
        "n_outputs = 2  # thumbs-down or thumbs-up\n",
        "\n",
        "learning_rate = 0.001\n",
        "\n",
        "X = tf.placeholder(tf.float32, [None, n_steps, n_inputs])\n",
        "y = tf.placeholder(tf.int32, [None])\n",
        "\n",
        "basic_cell = tf.contrib.rnn.BasicRNNCell(num_units=n_neurons)\n",
        "outputs, states = tf.nn.dynamic_rnn(basic_cell, X, dtype=tf.float32)\n",
        "\n",
        "logits = tf.layers.dense(states, n_outputs)\n",
        "xentropy = tf.nn.sparse_softmax_cross_entropy_with_logits(labels=y,\n",
        "                                                          logits=logits)\n",
        "loss = tf.reduce_mean(xentropy)\n",
        "optimizer = tf.train.AdamOptimizer(learning_rate=learning_rate)\n",
        "training_op = optimizer.minimize(loss)\n",
        "correct = tf.nn.in_top_k(logits, y, 1)\n",
        "accuracy = tf.reduce_mean(tf.cast(correct, tf.float32))\n",
        "\n",
        "init = tf.global_variables_initializer()\n",
        "\n",
        "n_epochs = 50\n",
        "batch_size = 100\n",
        "\n",
        "with tf.Session() as sess:\n",
        "    init.run()\n",
        "    for epoch in range(n_epochs):\n",
        "        print('\\n  ---- Epoch ', epoch, ' ----\\n')\n",
        "        for iteration in range(y_train.shape[0] // batch_size):          \n",
        "            X_batch = X_train[iteration*batch_size:(iteration + 1)*batch_size,:]\n",
        "            y_batch = y_train[iteration*batch_size:(iteration + 1)*batch_size]\n",
        "            print('  Batch ', iteration, ' training observations from ',  \n",
        "                  iteration*batch_size, ' to ', (iteration + 1)*batch_size-1,)\n",
        "            sess.run(training_op, feed_dict={X: X_batch, y: y_batch})\n",
        "        acc_train = accuracy.eval(feed_dict={X: X_batch, y: y_batch})\n",
        "        acc_test = accuracy.eval(feed_dict={X: X_test, y: y_test})\n",
        "        print('\\n  Train accuracy:', acc_train, 'Test accuracy:', acc_test)\n"
      ],
      "execution_count": 209,
      "outputs": [
        {
          "output_type": "stream",
          "text": [
            "\n",
            "  ---- Epoch  0  ----\n",
            "\n",
            "  Batch  0  training observations from  0  to  99\n",
            "  Batch  1  training observations from  100  to  199\n",
            "  Batch  2  training observations from  200  to  299\n",
            "  Batch  3  training observations from  300  to  399\n",
            "  Batch  4  training observations from  400  to  499\n",
            "  Batch  5  training observations from  500  to  599\n",
            "  Batch  6  training observations from  600  to  699\n",
            "  Batch  7  training observations from  700  to  799\n",
            "\n",
            "  Train accuracy: 0.47 Test accuracy: 0.515\n",
            "\n",
            "  ---- Epoch  1  ----\n",
            "\n",
            "  Batch  0  training observations from  0  to  99\n",
            "  Batch  1  training observations from  100  to  199\n",
            "  Batch  2  training observations from  200  to  299\n",
            "  Batch  3  training observations from  300  to  399\n",
            "  Batch  4  training observations from  400  to  499\n",
            "  Batch  5  training observations from  500  to  599\n",
            "  Batch  6  training observations from  600  to  699\n",
            "  Batch  7  training observations from  700  to  799\n",
            "\n",
            "  Train accuracy: 0.46 Test accuracy: 0.5\n",
            "\n",
            "  ---- Epoch  2  ----\n",
            "\n",
            "  Batch  0  training observations from  0  to  99\n",
            "  Batch  1  training observations from  100  to  199\n",
            "  Batch  2  training observations from  200  to  299\n",
            "  Batch  3  training observations from  300  to  399\n",
            "  Batch  4  training observations from  400  to  499\n",
            "  Batch  5  training observations from  500  to  599\n",
            "  Batch  6  training observations from  600  to  699\n",
            "  Batch  7  training observations from  700  to  799\n",
            "\n",
            "  Train accuracy: 0.43 Test accuracy: 0.505\n",
            "\n",
            "  ---- Epoch  3  ----\n",
            "\n",
            "  Batch  0  training observations from  0  to  99\n",
            "  Batch  1  training observations from  100  to  199\n",
            "  Batch  2  training observations from  200  to  299\n",
            "  Batch  3  training observations from  300  to  399\n",
            "  Batch  4  training observations from  400  to  499\n",
            "  Batch  5  training observations from  500  to  599\n",
            "  Batch  6  training observations from  600  to  699\n",
            "  Batch  7  training observations from  700  to  799\n",
            "\n",
            "  Train accuracy: 0.45 Test accuracy: 0.51\n",
            "\n",
            "  ---- Epoch  4  ----\n",
            "\n",
            "  Batch  0  training observations from  0  to  99\n",
            "  Batch  1  training observations from  100  to  199\n",
            "  Batch  2  training observations from  200  to  299\n",
            "  Batch  3  training observations from  300  to  399\n",
            "  Batch  4  training observations from  400  to  499\n",
            "  Batch  5  training observations from  500  to  599\n",
            "  Batch  6  training observations from  600  to  699\n",
            "  Batch  7  training observations from  700  to  799\n",
            "\n",
            "  Train accuracy: 0.43 Test accuracy: 0.495\n",
            "\n",
            "  ---- Epoch  5  ----\n",
            "\n",
            "  Batch  0  training observations from  0  to  99\n",
            "  Batch  1  training observations from  100  to  199\n",
            "  Batch  2  training observations from  200  to  299\n",
            "  Batch  3  training observations from  300  to  399\n",
            "  Batch  4  training observations from  400  to  499\n",
            "  Batch  5  training observations from  500  to  599\n",
            "  Batch  6  training observations from  600  to  699\n",
            "  Batch  7  training observations from  700  to  799\n",
            "\n",
            "  Train accuracy: 0.45 Test accuracy: 0.5\n",
            "\n",
            "  ---- Epoch  6  ----\n",
            "\n",
            "  Batch  0  training observations from  0  to  99\n",
            "  Batch  1  training observations from  100  to  199\n",
            "  Batch  2  training observations from  200  to  299\n",
            "  Batch  3  training observations from  300  to  399\n",
            "  Batch  4  training observations from  400  to  499\n",
            "  Batch  5  training observations from  500  to  599\n",
            "  Batch  6  training observations from  600  to  699\n",
            "  Batch  7  training observations from  700  to  799\n",
            "\n",
            "  Train accuracy: 0.46 Test accuracy: 0.495\n",
            "\n",
            "  ---- Epoch  7  ----\n",
            "\n",
            "  Batch  0  training observations from  0  to  99\n",
            "  Batch  1  training observations from  100  to  199\n",
            "  Batch  2  training observations from  200  to  299\n",
            "  Batch  3  training observations from  300  to  399\n",
            "  Batch  4  training observations from  400  to  499\n",
            "  Batch  5  training observations from  500  to  599\n",
            "  Batch  6  training observations from  600  to  699\n",
            "  Batch  7  training observations from  700  to  799\n",
            "\n",
            "  Train accuracy: 0.47 Test accuracy: 0.495\n",
            "\n",
            "  ---- Epoch  8  ----\n",
            "\n",
            "  Batch  0  training observations from  0  to  99\n",
            "  Batch  1  training observations from  100  to  199\n",
            "  Batch  2  training observations from  200  to  299\n",
            "  Batch  3  training observations from  300  to  399\n",
            "  Batch  4  training observations from  400  to  499\n",
            "  Batch  5  training observations from  500  to  599\n",
            "  Batch  6  training observations from  600  to  699\n",
            "  Batch  7  training observations from  700  to  799\n",
            "\n",
            "  Train accuracy: 0.47 Test accuracy: 0.53\n",
            "\n",
            "  ---- Epoch  9  ----\n",
            "\n",
            "  Batch  0  training observations from  0  to  99\n",
            "  Batch  1  training observations from  100  to  199\n",
            "  Batch  2  training observations from  200  to  299\n",
            "  Batch  3  training observations from  300  to  399\n",
            "  Batch  4  training observations from  400  to  499\n",
            "  Batch  5  training observations from  500  to  599\n",
            "  Batch  6  training observations from  600  to  699\n",
            "  Batch  7  training observations from  700  to  799\n",
            "\n",
            "  Train accuracy: 0.48 Test accuracy: 0.525\n",
            "\n",
            "  ---- Epoch  10  ----\n",
            "\n",
            "  Batch  0  training observations from  0  to  99\n",
            "  Batch  1  training observations from  100  to  199\n",
            "  Batch  2  training observations from  200  to  299\n",
            "  Batch  3  training observations from  300  to  399\n",
            "  Batch  4  training observations from  400  to  499\n",
            "  Batch  5  training observations from  500  to  599\n",
            "  Batch  6  training observations from  600  to  699\n",
            "  Batch  7  training observations from  700  to  799\n",
            "\n",
            "  Train accuracy: 0.51 Test accuracy: 0.53\n",
            "\n",
            "  ---- Epoch  11  ----\n",
            "\n",
            "  Batch  0  training observations from  0  to  99\n",
            "  Batch  1  training observations from  100  to  199\n",
            "  Batch  2  training observations from  200  to  299\n",
            "  Batch  3  training observations from  300  to  399\n",
            "  Batch  4  training observations from  400  to  499\n",
            "  Batch  5  training observations from  500  to  599\n",
            "  Batch  6  training observations from  600  to  699\n",
            "  Batch  7  training observations from  700  to  799\n",
            "\n",
            "  Train accuracy: 0.55 Test accuracy: 0.545\n",
            "\n",
            "  ---- Epoch  12  ----\n",
            "\n",
            "  Batch  0  training observations from  0  to  99\n",
            "  Batch  1  training observations from  100  to  199\n",
            "  Batch  2  training observations from  200  to  299\n",
            "  Batch  3  training observations from  300  to  399\n",
            "  Batch  4  training observations from  400  to  499\n",
            "  Batch  5  training observations from  500  to  599\n",
            "  Batch  6  training observations from  600  to  699\n",
            "  Batch  7  training observations from  700  to  799\n",
            "\n",
            "  Train accuracy: 0.56 Test accuracy: 0.54\n",
            "\n",
            "  ---- Epoch  13  ----\n",
            "\n",
            "  Batch  0  training observations from  0  to  99\n",
            "  Batch  1  training observations from  100  to  199\n",
            "  Batch  2  training observations from  200  to  299\n",
            "  Batch  3  training observations from  300  to  399\n",
            "  Batch  4  training observations from  400  to  499\n",
            "  Batch  5  training observations from  500  to  599\n",
            "  Batch  6  training observations from  600  to  699\n",
            "  Batch  7  training observations from  700  to  799\n",
            "\n",
            "  Train accuracy: 0.56 Test accuracy: 0.555\n",
            "\n",
            "  ---- Epoch  14  ----\n",
            "\n",
            "  Batch  0  training observations from  0  to  99\n",
            "  Batch  1  training observations from  100  to  199\n",
            "  Batch  2  training observations from  200  to  299\n",
            "  Batch  3  training observations from  300  to  399\n",
            "  Batch  4  training observations from  400  to  499\n",
            "  Batch  5  training observations from  500  to  599\n",
            "  Batch  6  training observations from  600  to  699\n",
            "  Batch  7  training observations from  700  to  799\n",
            "\n",
            "  Train accuracy: 0.56 Test accuracy: 0.55\n",
            "\n",
            "  ---- Epoch  15  ----\n",
            "\n",
            "  Batch  0  training observations from  0  to  99\n",
            "  Batch  1  training observations from  100  to  199\n",
            "  Batch  2  training observations from  200  to  299\n",
            "  Batch  3  training observations from  300  to  399\n",
            "  Batch  4  training observations from  400  to  499\n",
            "  Batch  5  training observations from  500  to  599\n",
            "  Batch  6  training observations from  600  to  699\n",
            "  Batch  7  training observations from  700  to  799\n",
            "\n",
            "  Train accuracy: 0.57 Test accuracy: 0.555\n",
            "\n",
            "  ---- Epoch  16  ----\n",
            "\n",
            "  Batch  0  training observations from  0  to  99\n",
            "  Batch  1  training observations from  100  to  199\n",
            "  Batch  2  training observations from  200  to  299\n",
            "  Batch  3  training observations from  300  to  399\n",
            "  Batch  4  training observations from  400  to  499\n",
            "  Batch  5  training observations from  500  to  599\n",
            "  Batch  6  training observations from  600  to  699\n",
            "  Batch  7  training observations from  700  to  799\n",
            "\n",
            "  Train accuracy: 0.57 Test accuracy: 0.55\n",
            "\n",
            "  ---- Epoch  17  ----\n",
            "\n",
            "  Batch  0  training observations from  0  to  99\n",
            "  Batch  1  training observations from  100  to  199\n",
            "  Batch  2  training observations from  200  to  299\n",
            "  Batch  3  training observations from  300  to  399\n",
            "  Batch  4  training observations from  400  to  499\n",
            "  Batch  5  training observations from  500  to  599\n",
            "  Batch  6  training observations from  600  to  699\n",
            "  Batch  7  training observations from  700  to  799\n",
            "\n",
            "  Train accuracy: 0.56 Test accuracy: 0.555\n",
            "\n",
            "  ---- Epoch  18  ----\n",
            "\n",
            "  Batch  0  training observations from  0  to  99\n",
            "  Batch  1  training observations from  100  to  199\n",
            "  Batch  2  training observations from  200  to  299\n",
            "  Batch  3  training observations from  300  to  399\n",
            "  Batch  4  training observations from  400  to  499\n",
            "  Batch  5  training observations from  500  to  599\n",
            "  Batch  6  training observations from  600  to  699\n",
            "  Batch  7  training observations from  700  to  799\n",
            "\n",
            "  Train accuracy: 0.57 Test accuracy: 0.555\n",
            "\n",
            "  ---- Epoch  19  ----\n",
            "\n",
            "  Batch  0  training observations from  0  to  99\n",
            "  Batch  1  training observations from  100  to  199\n",
            "  Batch  2  training observations from  200  to  299\n",
            "  Batch  3  training observations from  300  to  399\n",
            "  Batch  4  training observations from  400  to  499\n",
            "  Batch  5  training observations from  500  to  599\n",
            "  Batch  6  training observations from  600  to  699\n",
            "  Batch  7  training observations from  700  to  799\n",
            "\n",
            "  Train accuracy: 0.58 Test accuracy: 0.555\n",
            "\n",
            "  ---- Epoch  20  ----\n",
            "\n",
            "  Batch  0  training observations from  0  to  99\n",
            "  Batch  1  training observations from  100  to  199\n",
            "  Batch  2  training observations from  200  to  299\n",
            "  Batch  3  training observations from  300  to  399\n",
            "  Batch  4  training observations from  400  to  499\n",
            "  Batch  5  training observations from  500  to  599\n",
            "  Batch  6  training observations from  600  to  699\n",
            "  Batch  7  training observations from  700  to  799\n",
            "\n",
            "  Train accuracy: 0.59 Test accuracy: 0.555\n",
            "\n",
            "  ---- Epoch  21  ----\n",
            "\n",
            "  Batch  0  training observations from  0  to  99\n",
            "  Batch  1  training observations from  100  to  199\n",
            "  Batch  2  training observations from  200  to  299\n",
            "  Batch  3  training observations from  300  to  399\n",
            "  Batch  4  training observations from  400  to  499\n",
            "  Batch  5  training observations from  500  to  599\n",
            "  Batch  6  training observations from  600  to  699\n",
            "  Batch  7  training observations from  700  to  799\n",
            "\n",
            "  Train accuracy: 0.59 Test accuracy: 0.56\n",
            "\n",
            "  ---- Epoch  22  ----\n",
            "\n",
            "  Batch  0  training observations from  0  to  99\n",
            "  Batch  1  training observations from  100  to  199\n",
            "  Batch  2  training observations from  200  to  299\n",
            "  Batch  3  training observations from  300  to  399\n",
            "  Batch  4  training observations from  400  to  499\n",
            "  Batch  5  training observations from  500  to  599\n",
            "  Batch  6  training observations from  600  to  699\n",
            "  Batch  7  training observations from  700  to  799\n",
            "\n",
            "  Train accuracy: 0.6 Test accuracy: 0.59\n",
            "\n",
            "  ---- Epoch  23  ----\n",
            "\n",
            "  Batch  0  training observations from  0  to  99\n",
            "  Batch  1  training observations from  100  to  199\n",
            "  Batch  2  training observations from  200  to  299\n",
            "  Batch  3  training observations from  300  to  399\n",
            "  Batch  4  training observations from  400  to  499\n",
            "  Batch  5  training observations from  500  to  599\n",
            "  Batch  6  training observations from  600  to  699\n",
            "  Batch  7  training observations from  700  to  799\n",
            "\n",
            "  Train accuracy: 0.59 Test accuracy: 0.59\n",
            "\n",
            "  ---- Epoch  24  ----\n",
            "\n",
            "  Batch  0  training observations from  0  to  99\n",
            "  Batch  1  training observations from  100  to  199\n",
            "  Batch  2  training observations from  200  to  299\n",
            "  Batch  3  training observations from  300  to  399\n",
            "  Batch  4  training observations from  400  to  499\n",
            "  Batch  5  training observations from  500  to  599\n",
            "  Batch  6  training observations from  600  to  699\n",
            "  Batch  7  training observations from  700  to  799\n",
            "\n",
            "  Train accuracy: 0.62 Test accuracy: 0.605\n",
            "\n",
            "  ---- Epoch  25  ----\n",
            "\n",
            "  Batch  0  training observations from  0  to  99\n",
            "  Batch  1  training observations from  100  to  199\n",
            "  Batch  2  training observations from  200  to  299\n",
            "  Batch  3  training observations from  300  to  399\n",
            "  Batch  4  training observations from  400  to  499\n",
            "  Batch  5  training observations from  500  to  599\n",
            "  Batch  6  training observations from  600  to  699\n",
            "  Batch  7  training observations from  700  to  799\n",
            "\n",
            "  Train accuracy: 0.64 Test accuracy: 0.625\n",
            "\n",
            "  ---- Epoch  26  ----\n",
            "\n",
            "  Batch  0  training observations from  0  to  99\n",
            "  Batch  1  training observations from  100  to  199\n",
            "  Batch  2  training observations from  200  to  299\n",
            "  Batch  3  training observations from  300  to  399\n",
            "  Batch  4  training observations from  400  to  499\n",
            "  Batch  5  training observations from  500  to  599\n",
            "  Batch  6  training observations from  600  to  699\n",
            "  Batch  7  training observations from  700  to  799\n",
            "\n",
            "  Train accuracy: 0.66 Test accuracy: 0.64\n",
            "\n",
            "  ---- Epoch  27  ----\n",
            "\n",
            "  Batch  0  training observations from  0  to  99\n",
            "  Batch  1  training observations from  100  to  199\n",
            "  Batch  2  training observations from  200  to  299\n",
            "  Batch  3  training observations from  300  to  399\n",
            "  Batch  4  training observations from  400  to  499\n",
            "  Batch  5  training observations from  500  to  599\n",
            "  Batch  6  training observations from  600  to  699\n",
            "  Batch  7  training observations from  700  to  799\n",
            "\n",
            "  Train accuracy: 0.65 Test accuracy: 0.63\n",
            "\n",
            "  ---- Epoch  28  ----\n",
            "\n",
            "  Batch  0  training observations from  0  to  99\n",
            "  Batch  1  training observations from  100  to  199\n",
            "  Batch  2  training observations from  200  to  299\n",
            "  Batch  3  training observations from  300  to  399\n",
            "  Batch  4  training observations from  400  to  499\n",
            "  Batch  5  training observations from  500  to  599\n",
            "  Batch  6  training observations from  600  to  699\n",
            "  Batch  7  training observations from  700  to  799\n",
            "\n",
            "  Train accuracy: 0.65 Test accuracy: 0.63\n",
            "\n",
            "  ---- Epoch  29  ----\n",
            "\n",
            "  Batch  0  training observations from  0  to  99\n",
            "  Batch  1  training observations from  100  to  199\n",
            "  Batch  2  training observations from  200  to  299\n",
            "  Batch  3  training observations from  300  to  399\n",
            "  Batch  4  training observations from  400  to  499\n",
            "  Batch  5  training observations from  500  to  599\n",
            "  Batch  6  training observations from  600  to  699\n",
            "  Batch  7  training observations from  700  to  799\n",
            "\n",
            "  Train accuracy: 0.65 Test accuracy: 0.625\n",
            "\n",
            "  ---- Epoch  30  ----\n",
            "\n",
            "  Batch  0  training observations from  0  to  99\n",
            "  Batch  1  training observations from  100  to  199\n",
            "  Batch  2  training observations from  200  to  299\n",
            "  Batch  3  training observations from  300  to  399\n",
            "  Batch  4  training observations from  400  to  499\n",
            "  Batch  5  training observations from  500  to  599\n",
            "  Batch  6  training observations from  600  to  699\n",
            "  Batch  7  training observations from  700  to  799\n",
            "\n",
            "  Train accuracy: 0.66 Test accuracy: 0.61\n",
            "\n",
            "  ---- Epoch  31  ----\n",
            "\n",
            "  Batch  0  training observations from  0  to  99\n",
            "  Batch  1  training observations from  100  to  199\n",
            "  Batch  2  training observations from  200  to  299\n",
            "  Batch  3  training observations from  300  to  399\n",
            "  Batch  4  training observations from  400  to  499\n",
            "  Batch  5  training observations from  500  to  599\n",
            "  Batch  6  training observations from  600  to  699\n",
            "  Batch  7  training observations from  700  to  799\n",
            "\n",
            "  Train accuracy: 0.67 Test accuracy: 0.61\n",
            "\n",
            "  ---- Epoch  32  ----\n",
            "\n",
            "  Batch  0  training observations from  0  to  99\n",
            "  Batch  1  training observations from  100  to  199\n",
            "  Batch  2  training observations from  200  to  299\n",
            "  Batch  3  training observations from  300  to  399\n",
            "  Batch  4  training observations from  400  to  499\n",
            "  Batch  5  training observations from  500  to  599\n",
            "  Batch  6  training observations from  600  to  699\n",
            "  Batch  7  training observations from  700  to  799\n",
            "\n",
            "  Train accuracy: 0.68 Test accuracy: 0.605\n",
            "\n",
            "  ---- Epoch  33  ----\n",
            "\n",
            "  Batch  0  training observations from  0  to  99\n",
            "  Batch  1  training observations from  100  to  199\n",
            "  Batch  2  training observations from  200  to  299\n",
            "  Batch  3  training observations from  300  to  399\n",
            "  Batch  4  training observations from  400  to  499\n",
            "  Batch  5  training observations from  500  to  599\n",
            "  Batch  6  training observations from  600  to  699\n",
            "  Batch  7  training observations from  700  to  799\n",
            "\n",
            "  Train accuracy: 0.69 Test accuracy: 0.615\n",
            "\n",
            "  ---- Epoch  34  ----\n",
            "\n",
            "  Batch  0  training observations from  0  to  99\n",
            "  Batch  1  training observations from  100  to  199\n",
            "  Batch  2  training observations from  200  to  299\n",
            "  Batch  3  training observations from  300  to  399\n",
            "  Batch  4  training observations from  400  to  499\n",
            "  Batch  5  training observations from  500  to  599\n",
            "  Batch  6  training observations from  600  to  699\n",
            "  Batch  7  training observations from  700  to  799\n",
            "\n",
            "  Train accuracy: 0.69 Test accuracy: 0.605\n",
            "\n",
            "  ---- Epoch  35  ----\n",
            "\n",
            "  Batch  0  training observations from  0  to  99\n",
            "  Batch  1  training observations from  100  to  199\n",
            "  Batch  2  training observations from  200  to  299\n",
            "  Batch  3  training observations from  300  to  399\n",
            "  Batch  4  training observations from  400  to  499\n",
            "  Batch  5  training observations from  500  to  599\n",
            "  Batch  6  training observations from  600  to  699\n",
            "  Batch  7  training observations from  700  to  799\n",
            "\n",
            "  Train accuracy: 0.68 Test accuracy: 0.615\n",
            "\n",
            "  ---- Epoch  36  ----\n",
            "\n",
            "  Batch  0  training observations from  0  to  99\n",
            "  Batch  1  training observations from  100  to  199\n",
            "  Batch  2  training observations from  200  to  299\n",
            "  Batch  3  training observations from  300  to  399\n",
            "  Batch  4  training observations from  400  to  499\n",
            "  Batch  5  training observations from  500  to  599\n",
            "  Batch  6  training observations from  600  to  699\n",
            "  Batch  7  training observations from  700  to  799\n",
            "\n",
            "  Train accuracy: 0.68 Test accuracy: 0.61\n",
            "\n",
            "  ---- Epoch  37  ----\n",
            "\n",
            "  Batch  0  training observations from  0  to  99\n",
            "  Batch  1  training observations from  100  to  199\n",
            "  Batch  2  training observations from  200  to  299\n",
            "  Batch  3  training observations from  300  to  399\n",
            "  Batch  4  training observations from  400  to  499\n",
            "  Batch  5  training observations from  500  to  599\n",
            "  Batch  6  training observations from  600  to  699\n",
            "  Batch  7  training observations from  700  to  799\n",
            "\n",
            "  Train accuracy: 0.7 Test accuracy: 0.61\n",
            "\n",
            "  ---- Epoch  38  ----\n",
            "\n",
            "  Batch  0  training observations from  0  to  99\n",
            "  Batch  1  training observations from  100  to  199\n",
            "  Batch  2  training observations from  200  to  299\n",
            "  Batch  3  training observations from  300  to  399\n",
            "  Batch  4  training observations from  400  to  499\n",
            "  Batch  5  training observations from  500  to  599\n",
            "  Batch  6  training observations from  600  to  699\n",
            "  Batch  7  training observations from  700  to  799\n",
            "\n",
            "  Train accuracy: 0.71 Test accuracy: 0.59\n",
            "\n",
            "  ---- Epoch  39  ----\n",
            "\n",
            "  Batch  0  training observations from  0  to  99\n",
            "  Batch  1  training observations from  100  to  199\n",
            "  Batch  2  training observations from  200  to  299\n",
            "  Batch  3  training observations from  300  to  399\n",
            "  Batch  4  training observations from  400  to  499\n",
            "  Batch  5  training observations from  500  to  599\n",
            "  Batch  6  training observations from  600  to  699\n",
            "  Batch  7  training observations from  700  to  799\n",
            "\n",
            "  Train accuracy: 0.7 Test accuracy: 0.6\n",
            "\n",
            "  ---- Epoch  40  ----\n",
            "\n",
            "  Batch  0  training observations from  0  to  99\n",
            "  Batch  1  training observations from  100  to  199\n",
            "  Batch  2  training observations from  200  to  299\n",
            "  Batch  3  training observations from  300  to  399\n",
            "  Batch  4  training observations from  400  to  499\n",
            "  Batch  5  training observations from  500  to  599\n",
            "  Batch  6  training observations from  600  to  699\n",
            "  Batch  7  training observations from  700  to  799\n",
            "\n",
            "  Train accuracy: 0.71 Test accuracy: 0.62\n",
            "\n",
            "  ---- Epoch  41  ----\n",
            "\n",
            "  Batch  0  training observations from  0  to  99\n",
            "  Batch  1  training observations from  100  to  199\n",
            "  Batch  2  training observations from  200  to  299\n",
            "  Batch  3  training observations from  300  to  399\n",
            "  Batch  4  training observations from  400  to  499\n",
            "  Batch  5  training observations from  500  to  599\n",
            "  Batch  6  training observations from  600  to  699\n",
            "  Batch  7  training observations from  700  to  799\n",
            "\n",
            "  Train accuracy: 0.7 Test accuracy: 0.62\n",
            "\n",
            "  ---- Epoch  42  ----\n",
            "\n",
            "  Batch  0  training observations from  0  to  99\n",
            "  Batch  1  training observations from  100  to  199\n",
            "  Batch  2  training observations from  200  to  299\n",
            "  Batch  3  training observations from  300  to  399\n",
            "  Batch  4  training observations from  400  to  499\n",
            "  Batch  5  training observations from  500  to  599\n",
            "  Batch  6  training observations from  600  to  699\n",
            "  Batch  7  training observations from  700  to  799\n",
            "\n",
            "  Train accuracy: 0.7 Test accuracy: 0.62\n",
            "\n",
            "  ---- Epoch  43  ----\n",
            "\n",
            "  Batch  0  training observations from  0  to  99\n",
            "  Batch  1  training observations from  100  to  199\n",
            "  Batch  2  training observations from  200  to  299\n",
            "  Batch  3  training observations from  300  to  399\n",
            "  Batch  4  training observations from  400  to  499\n",
            "  Batch  5  training observations from  500  to  599\n",
            "  Batch  6  training observations from  600  to  699\n",
            "  Batch  7  training observations from  700  to  799\n",
            "\n",
            "  Train accuracy: 0.73 Test accuracy: 0.59\n",
            "\n",
            "  ---- Epoch  44  ----\n",
            "\n",
            "  Batch  0  training observations from  0  to  99\n",
            "  Batch  1  training observations from  100  to  199\n",
            "  Batch  2  training observations from  200  to  299\n",
            "  Batch  3  training observations from  300  to  399\n",
            "  Batch  4  training observations from  400  to  499\n",
            "  Batch  5  training observations from  500  to  599\n",
            "  Batch  6  training observations from  600  to  699\n",
            "  Batch  7  training observations from  700  to  799\n",
            "\n",
            "  Train accuracy: 0.74 Test accuracy: 0.6\n",
            "\n",
            "  ---- Epoch  45  ----\n",
            "\n",
            "  Batch  0  training observations from  0  to  99\n",
            "  Batch  1  training observations from  100  to  199\n",
            "  Batch  2  training observations from  200  to  299\n",
            "  Batch  3  training observations from  300  to  399\n",
            "  Batch  4  training observations from  400  to  499\n",
            "  Batch  5  training observations from  500  to  599\n",
            "  Batch  6  training observations from  600  to  699\n",
            "  Batch  7  training observations from  700  to  799\n",
            "\n",
            "  Train accuracy: 0.75 Test accuracy: 0.6\n",
            "\n",
            "  ---- Epoch  46  ----\n",
            "\n",
            "  Batch  0  training observations from  0  to  99\n",
            "  Batch  1  training observations from  100  to  199\n",
            "  Batch  2  training observations from  200  to  299\n",
            "  Batch  3  training observations from  300  to  399\n",
            "  Batch  4  training observations from  400  to  499\n",
            "  Batch  5  training observations from  500  to  599\n",
            "  Batch  6  training observations from  600  to  699\n",
            "  Batch  7  training observations from  700  to  799\n",
            "\n",
            "  Train accuracy: 0.77 Test accuracy: 0.615\n",
            "\n",
            "  ---- Epoch  47  ----\n",
            "\n",
            "  Batch  0  training observations from  0  to  99\n",
            "  Batch  1  training observations from  100  to  199\n",
            "  Batch  2  training observations from  200  to  299\n",
            "  Batch  3  training observations from  300  to  399\n",
            "  Batch  4  training observations from  400  to  499\n",
            "  Batch  5  training observations from  500  to  599\n",
            "  Batch  6  training observations from  600  to  699\n",
            "  Batch  7  training observations from  700  to  799\n",
            "\n",
            "  Train accuracy: 0.76 Test accuracy: 0.615\n",
            "\n",
            "  ---- Epoch  48  ----\n",
            "\n",
            "  Batch  0  training observations from  0  to  99\n",
            "  Batch  1  training observations from  100  to  199\n",
            "  Batch  2  training observations from  200  to  299\n",
            "  Batch  3  training observations from  300  to  399\n",
            "  Batch  4  training observations from  400  to  499\n",
            "  Batch  5  training observations from  500  to  599\n",
            "  Batch  6  training observations from  600  to  699\n",
            "  Batch  7  training observations from  700  to  799\n",
            "\n",
            "  Train accuracy: 0.75 Test accuracy: 0.615\n",
            "\n",
            "  ---- Epoch  49  ----\n",
            "\n",
            "  Batch  0  training observations from  0  to  99\n",
            "  Batch  1  training observations from  100  to  199\n",
            "  Batch  2  training observations from  200  to  299\n",
            "  Batch  3  training observations from  300  to  399\n",
            "  Batch  4  training observations from  400  to  499\n",
            "  Batch  5  training observations from  500  to  599\n",
            "  Batch  6  training observations from  600  to  699\n",
            "  Batch  7  training observations from  700  to  799\n",
            "\n",
            "  Train accuracy: 0.76 Test accuracy: 0.605\n"
          ],
          "name": "stdout"
        }
      ]
    },
    {
      "cell_type": "code",
      "metadata": {
        "id": "4pcbkPM6JYyt",
        "colab_type": "code",
        "colab": {}
      },
      "source": [
        "\n",
        "def plot_with_labels(low_dim_embs, labels):\n",
        "    assert low_dim_embs.shape[0] >= len(labels), \"More labels than embeddings\"\n",
        "    plt.figure(figsize=(18, 18))  #in inches\n",
        "    for i, label in enumerate(labels):\n",
        "        x, y = low_dim_embs[i,:]\n",
        "        plt.scatter(x, y)\n",
        "        plt.annotate(label,\n",
        "                     xy=(x, y),\n",
        "                     xytext=(5, 2),\n",
        "                     textcoords='offset points',\n",
        "                     ha='right',\n",
        "                     va='bottom')"
      ],
      "execution_count": 0,
      "outputs": []
    },
    {
      "cell_type": "code",
      "metadata": {
        "id": "WQw06U3SlGff",
        "colab_type": "code",
        "colab": {}
      },
      "source": [
        "# from sklearn.manifold import TSNE\n",
        "\n",
        "# tsne = TSNE(perplexity=30, n_components=2, init='pca', n_iter=5000)\n",
        "# plot_only = 500\n",
        "# low_dim_embs = tsne.fit_transform(final_embeddings[:plot_only,:])\n",
        "# labels = [vocabulary[i] for i in range(plot_only)]\n",
        "# plot_with_labels(low_dim_embs, labels)"
      ],
      "execution_count": 0,
      "outputs": []
    },
    {
      "cell_type": "markdown",
      "metadata": {
        "id": "VrE9efOakQZB",
        "colab_type": "text"
      },
      "source": [
        "# Conclusion\n"
      ]
    },
    {
      "cell_type": "code",
      "metadata": {
        "id": "Qt4bpRntlHO6",
        "colab_type": "code",
        "colab": {}
      },
      "source": [
        ""
      ],
      "execution_count": 0,
      "outputs": []
    },
    {
      "cell_type": "markdown",
      "metadata": {
        "id": "xZTOTaODkTQh",
        "colab_type": "text"
      },
      "source": [
        "Overall more work Is needed to vet the RNN model and its training accuracy.   Initial modeling, though, suggests it could be quite useful for monitoring call logs.   Model calculation intensity will be significant and could limit the timeliness of the model results.   So while real-time monitoring won’t be possible yet, a RNN-based model could do a could job of alerting customer support personnel when and whom they should be contacting.   "
      ]
    },
    {
      "cell_type": "code",
      "metadata": {
        "id": "EN4sOl6Fka9-",
        "colab_type": "code",
        "colab": {}
      },
      "source": [
        ""
      ],
      "execution_count": 0,
      "outputs": []
    }
  ]
}